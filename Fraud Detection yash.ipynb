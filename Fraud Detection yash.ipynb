{
 "cells": [
  {
   "cell_type": "code",
   "execution_count": 7,
   "id": "b314be17",
   "metadata": {},
   "outputs": [],
   "source": [
    "import pandas as pd\n",
    "import numpy as np\n",
    "import matplotlib.pyplot as plt\n",
    "import seaborn as sns\n",
    "\n",
    "import warnings\n",
    "warnings.filterwarnings(\"ignore\")"
   ]
  },
  {
   "cell_type": "code",
   "execution_count": 8,
   "id": "87c74314",
   "metadata": {},
   "outputs": [],
   "source": [
    "pd.set_option('display.max_columns', None)"
   ]
  },
  {
   "cell_type": "code",
   "execution_count": 9,
   "id": "0157f009",
   "metadata": {},
   "outputs": [],
   "source": [
    "df=pd.read_csv(\"~/Downloads/fraudTest.csv\")"
   ]
  },
  {
   "cell_type": "code",
   "execution_count": 10,
   "id": "17aeddb1",
   "metadata": {},
   "outputs": [
    {
     "data": {
      "text/plain": [
       "(555719, 23)"
      ]
     },
     "execution_count": 10,
     "metadata": {},
     "output_type": "execute_result"
    }
   ],
   "source": [
    "df.shape"
   ]
  },
  {
   "cell_type": "code",
   "execution_count": 11,
   "id": "e22d51ef",
   "metadata": {},
   "outputs": [
    {
     "data": {
      "text/html": [
       "<div>\n",
       "<style scoped>\n",
       "    .dataframe tbody tr th:only-of-type {\n",
       "        vertical-align: middle;\n",
       "    }\n",
       "\n",
       "    .dataframe tbody tr th {\n",
       "        vertical-align: top;\n",
       "    }\n",
       "\n",
       "    .dataframe thead th {\n",
       "        text-align: right;\n",
       "    }\n",
       "</style>\n",
       "<table border=\"1\" class=\"dataframe\">\n",
       "  <thead>\n",
       "    <tr style=\"text-align: right;\">\n",
       "      <th></th>\n",
       "      <th>Unnamed: 0</th>\n",
       "      <th>trans_date_trans_time</th>\n",
       "      <th>cc_num</th>\n",
       "      <th>merchant</th>\n",
       "      <th>category</th>\n",
       "      <th>amt</th>\n",
       "      <th>first</th>\n",
       "      <th>last</th>\n",
       "      <th>gender</th>\n",
       "      <th>street</th>\n",
       "      <th>city</th>\n",
       "      <th>state</th>\n",
       "      <th>zip</th>\n",
       "      <th>lat</th>\n",
       "      <th>long</th>\n",
       "      <th>city_pop</th>\n",
       "      <th>job</th>\n",
       "      <th>dob</th>\n",
       "      <th>trans_num</th>\n",
       "      <th>unix_time</th>\n",
       "      <th>merch_lat</th>\n",
       "      <th>merch_long</th>\n",
       "      <th>is_fraud</th>\n",
       "    </tr>\n",
       "  </thead>\n",
       "  <tbody>\n",
       "    <tr>\n",
       "      <th>0</th>\n",
       "      <td>0</td>\n",
       "      <td>2020-06-21 12:14:25</td>\n",
       "      <td>2291163933867244</td>\n",
       "      <td>fraud_Kirlin and Sons</td>\n",
       "      <td>personal_care</td>\n",
       "      <td>2.86</td>\n",
       "      <td>Jeff</td>\n",
       "      <td>Elliott</td>\n",
       "      <td>M</td>\n",
       "      <td>351 Darlene Green</td>\n",
       "      <td>Columbia</td>\n",
       "      <td>SC</td>\n",
       "      <td>29209</td>\n",
       "      <td>33.9659</td>\n",
       "      <td>-80.9355</td>\n",
       "      <td>333497</td>\n",
       "      <td>Mechanical engineer</td>\n",
       "      <td>1968-03-19</td>\n",
       "      <td>2da90c7d74bd46a0caf3777415b3ebd3</td>\n",
       "      <td>1371816865</td>\n",
       "      <td>33.986391</td>\n",
       "      <td>-81.200714</td>\n",
       "      <td>0</td>\n",
       "    </tr>\n",
       "    <tr>\n",
       "      <th>1</th>\n",
       "      <td>1</td>\n",
       "      <td>2020-06-21 12:14:33</td>\n",
       "      <td>3573030041201292</td>\n",
       "      <td>fraud_Sporer-Keebler</td>\n",
       "      <td>personal_care</td>\n",
       "      <td>29.84</td>\n",
       "      <td>Joanne</td>\n",
       "      <td>Williams</td>\n",
       "      <td>F</td>\n",
       "      <td>3638 Marsh Union</td>\n",
       "      <td>Altonah</td>\n",
       "      <td>UT</td>\n",
       "      <td>84002</td>\n",
       "      <td>40.3207</td>\n",
       "      <td>-110.4360</td>\n",
       "      <td>302</td>\n",
       "      <td>Sales professional, IT</td>\n",
       "      <td>1990-01-17</td>\n",
       "      <td>324cc204407e99f51b0d6ca0055005e7</td>\n",
       "      <td>1371816873</td>\n",
       "      <td>39.450498</td>\n",
       "      <td>-109.960431</td>\n",
       "      <td>0</td>\n",
       "    </tr>\n",
       "  </tbody>\n",
       "</table>\n",
       "</div>"
      ],
      "text/plain": [
       "   Unnamed: 0 trans_date_trans_time            cc_num               merchant  \\\n",
       "0           0   2020-06-21 12:14:25  2291163933867244  fraud_Kirlin and Sons   \n",
       "1           1   2020-06-21 12:14:33  3573030041201292   fraud_Sporer-Keebler   \n",
       "\n",
       "        category    amt   first      last gender             street      city  \\\n",
       "0  personal_care   2.86    Jeff   Elliott      M  351 Darlene Green  Columbia   \n",
       "1  personal_care  29.84  Joanne  Williams      F   3638 Marsh Union   Altonah   \n",
       "\n",
       "  state    zip      lat      long  city_pop                     job  \\\n",
       "0    SC  29209  33.9659  -80.9355    333497     Mechanical engineer   \n",
       "1    UT  84002  40.3207 -110.4360       302  Sales professional, IT   \n",
       "\n",
       "          dob                         trans_num   unix_time  merch_lat  \\\n",
       "0  1968-03-19  2da90c7d74bd46a0caf3777415b3ebd3  1371816865  33.986391   \n",
       "1  1990-01-17  324cc204407e99f51b0d6ca0055005e7  1371816873  39.450498   \n",
       "\n",
       "   merch_long  is_fraud  \n",
       "0  -81.200714         0  \n",
       "1 -109.960431         0  "
      ]
     },
     "execution_count": 11,
     "metadata": {},
     "output_type": "execute_result"
    }
   ],
   "source": [
    "df.head(2)"
   ]
  },
  {
   "cell_type": "code",
   "execution_count": 12,
   "id": "2738b368",
   "metadata": {},
   "outputs": [
    {
     "name": "stdout",
     "output_type": "stream",
     "text": [
      "<class 'pandas.core.frame.DataFrame'>\n",
      "RangeIndex: 555719 entries, 0 to 555718\n",
      "Data columns (total 23 columns):\n",
      " #   Column                 Non-Null Count   Dtype  \n",
      "---  ------                 --------------   -----  \n",
      " 0   Unnamed: 0             555719 non-null  int64  \n",
      " 1   trans_date_trans_time  555719 non-null  object \n",
      " 2   cc_num                 555719 non-null  int64  \n",
      " 3   merchant               555719 non-null  object \n",
      " 4   category               555719 non-null  object \n",
      " 5   amt                    555719 non-null  float64\n",
      " 6   first                  555719 non-null  object \n",
      " 7   last                   555719 non-null  object \n",
      " 8   gender                 555719 non-null  object \n",
      " 9   street                 555719 non-null  object \n",
      " 10  city                   555719 non-null  object \n",
      " 11  state                  555719 non-null  object \n",
      " 12  zip                    555719 non-null  int64  \n",
      " 13  lat                    555719 non-null  float64\n",
      " 14  long                   555719 non-null  float64\n",
      " 15  city_pop               555719 non-null  int64  \n",
      " 16  job                    555719 non-null  object \n",
      " 17  dob                    555719 non-null  object \n",
      " 18  trans_num              555719 non-null  object \n",
      " 19  unix_time              555719 non-null  int64  \n",
      " 20  merch_lat              555719 non-null  float64\n",
      " 21  merch_long             555719 non-null  float64\n",
      " 22  is_fraud               555719 non-null  int64  \n",
      "dtypes: float64(5), int64(6), object(12)\n",
      "memory usage: 97.5+ MB\n"
     ]
    }
   ],
   "source": [
    "df.info()"
   ]
  },
  {
   "cell_type": "code",
   "execution_count": 13,
   "id": "f41bd3ad",
   "metadata": {},
   "outputs": [],
   "source": [
    "#### Data Cleaning and Feature Engineering"
   ]
  },
  {
   "cell_type": "code",
   "execution_count": 14,
   "id": "c7aee473",
   "metadata": {},
   "outputs": [
    {
     "data": {
      "text/plain": [
       "6538441737335434       1474\n",
       "4586810168620942       1466\n",
       "4745996322265          1462\n",
       "4587657402165341815    1458\n",
       "2242542703101233       1428\n",
       "                       ... \n",
       "4883407061576             9\n",
       "4087542780207162          9\n",
       "3540416671210051          8\n",
       "4352307151555405069       7\n",
       "4295296907373             6\n",
       "Name: cc_num, Length: 924, dtype: int64"
      ]
     },
     "execution_count": 14,
     "metadata": {},
     "output_type": "execute_result"
    }
   ],
   "source": [
    "df.cc_num.value_counts()"
   ]
  },
  {
   "cell_type": "code",
   "execution_count": 15,
   "id": "394dc2ab",
   "metadata": {},
   "outputs": [
    {
     "data": {
      "text/plain": [
       "fraud_Kilback LLC                        1859\n",
       "fraud_Cormier LLC                        1597\n",
       "fraud_Schumm PLC                         1561\n",
       "fraud_Kuhn LLC                           1521\n",
       "fraud_Dickinson Ltd                      1519\n",
       "                                         ... \n",
       "fraud_Treutel-King                        323\n",
       "fraud_Satterfield-Lowe                    319\n",
       "fraud_Kessler Group                       318\n",
       "fraud_Jerde-Hermann                       312\n",
       "fraud_Ritchie, Bradtke and Stiedemann     304\n",
       "Name: merchant, Length: 693, dtype: int64"
      ]
     },
     "execution_count": 15,
     "metadata": {},
     "output_type": "execute_result"
    }
   ],
   "source": [
    "df.merchant.value_counts()"
   ]
  },
  {
   "cell_type": "code",
   "execution_count": 16,
   "id": "aa3a9208",
   "metadata": {},
   "outputs": [
    {
     "data": {
      "text/plain": [
       "Index(['Unnamed: 0', 'trans_date_trans_time', 'cc_num', 'merchant', 'category',\n",
       "       'amt', 'first', 'last', 'gender', 'street', 'city', 'state', 'zip',\n",
       "       'lat', 'long', 'city_pop', 'job', 'dob', 'trans_num', 'unix_time',\n",
       "       'merch_lat', 'merch_long', 'is_fraud'],\n",
       "      dtype='object')"
      ]
     },
     "execution_count": 16,
     "metadata": {},
     "output_type": "execute_result"
    }
   ],
   "source": [
    "df.columns"
   ]
  },
  {
   "cell_type": "markdown",
   "id": "c83dcb74",
   "metadata": {},
   "source": [
    "#### Dropping irrelevant columns"
   ]
  },
  {
   "cell_type": "code",
   "execution_count": 17,
   "id": "95591253",
   "metadata": {},
   "outputs": [],
   "source": [
    "df.drop(columns='Unnamed: 0',inplace=True)"
   ]
  },
  {
   "cell_type": "markdown",
   "id": "55867f18",
   "metadata": {},
   "source": [
    "#### cc_num, zip, unix_time shall be Categorical Variable"
   ]
  },
  {
   "cell_type": "code",
   "execution_count": 18,
   "id": "7fc10b30",
   "metadata": {},
   "outputs": [],
   "source": [
    "df.cc_num=df.cc_num.astype('object')"
   ]
  },
  {
   "cell_type": "code",
   "execution_count": 19,
   "id": "8d1449f6",
   "metadata": {},
   "outputs": [],
   "source": [
    "df.zip=df.zip.astype('object')"
   ]
  },
  {
   "cell_type": "code",
   "execution_count": 20,
   "id": "8c8d05af",
   "metadata": {},
   "outputs": [],
   "source": [
    "df.unix_time=df.unix_time.astype('object')"
   ]
  },
  {
   "cell_type": "code",
   "execution_count": 21,
   "id": "89fe6c98",
   "metadata": {},
   "outputs": [],
   "source": [
    "num_cols= df.select_dtypes(include=np.number)\n",
    "cat_cols=df.select_dtypes(include=object)"
   ]
  },
  {
   "cell_type": "code",
   "execution_count": 22,
   "id": "a5cfa3ec",
   "metadata": {},
   "outputs": [
    {
     "data": {
      "text/html": [
       "<div>\n",
       "<style scoped>\n",
       "    .dataframe tbody tr th:only-of-type {\n",
       "        vertical-align: middle;\n",
       "    }\n",
       "\n",
       "    .dataframe tbody tr th {\n",
       "        vertical-align: top;\n",
       "    }\n",
       "\n",
       "    .dataframe thead th {\n",
       "        text-align: right;\n",
       "    }\n",
       "</style>\n",
       "<table border=\"1\" class=\"dataframe\">\n",
       "  <thead>\n",
       "    <tr style=\"text-align: right;\">\n",
       "      <th></th>\n",
       "      <th>amt</th>\n",
       "      <th>lat</th>\n",
       "      <th>long</th>\n",
       "      <th>city_pop</th>\n",
       "      <th>merch_lat</th>\n",
       "      <th>merch_long</th>\n",
       "      <th>is_fraud</th>\n",
       "    </tr>\n",
       "  </thead>\n",
       "  <tbody>\n",
       "    <tr>\n",
       "      <th>0</th>\n",
       "      <td>2.86</td>\n",
       "      <td>33.9659</td>\n",
       "      <td>-80.9355</td>\n",
       "      <td>333497</td>\n",
       "      <td>33.986391</td>\n",
       "      <td>-81.200714</td>\n",
       "      <td>0</td>\n",
       "    </tr>\n",
       "    <tr>\n",
       "      <th>1</th>\n",
       "      <td>29.84</td>\n",
       "      <td>40.3207</td>\n",
       "      <td>-110.4360</td>\n",
       "      <td>302</td>\n",
       "      <td>39.450498</td>\n",
       "      <td>-109.960431</td>\n",
       "      <td>0</td>\n",
       "    </tr>\n",
       "  </tbody>\n",
       "</table>\n",
       "</div>"
      ],
      "text/plain": [
       "     amt      lat      long  city_pop  merch_lat  merch_long  is_fraud\n",
       "0   2.86  33.9659  -80.9355    333497  33.986391  -81.200714         0\n",
       "1  29.84  40.3207 -110.4360       302  39.450498 -109.960431         0"
      ]
     },
     "execution_count": 22,
     "metadata": {},
     "output_type": "execute_result"
    }
   ],
   "source": [
    "num_cols.head(2)"
   ]
  },
  {
   "cell_type": "code",
   "execution_count": 23,
   "id": "150b82fd",
   "metadata": {},
   "outputs": [],
   "source": [
    "# num_cols.unix_time.value_counts()"
   ]
  },
  {
   "cell_type": "code",
   "execution_count": 24,
   "id": "941c6fde",
   "metadata": {},
   "outputs": [],
   "source": [
    "# df.groupby(['first'])['cc_num'].count()"
   ]
  },
  {
   "cell_type": "code",
   "execution_count": 25,
   "id": "045466bb",
   "metadata": {},
   "outputs": [],
   "source": [
    "#### Joining first and last to get the customer name"
   ]
  },
  {
   "cell_type": "code",
   "execution_count": 26,
   "id": "6e040532",
   "metadata": {},
   "outputs": [],
   "source": [
    "df['Customer_Name']=df['first']+' '+df['last']"
   ]
  },
  {
   "cell_type": "code",
   "execution_count": 27,
   "id": "d7956bfc",
   "metadata": {},
   "outputs": [
    {
     "data": {
      "text/html": [
       "<div>\n",
       "<style scoped>\n",
       "    .dataframe tbody tr th:only-of-type {\n",
       "        vertical-align: middle;\n",
       "    }\n",
       "\n",
       "    .dataframe tbody tr th {\n",
       "        vertical-align: top;\n",
       "    }\n",
       "\n",
       "    .dataframe thead th {\n",
       "        text-align: right;\n",
       "    }\n",
       "</style>\n",
       "<table border=\"1\" class=\"dataframe\">\n",
       "  <thead>\n",
       "    <tr style=\"text-align: right;\">\n",
       "      <th></th>\n",
       "      <th>trans_date_trans_time</th>\n",
       "      <th>cc_num</th>\n",
       "      <th>merchant</th>\n",
       "      <th>category</th>\n",
       "      <th>amt</th>\n",
       "      <th>first</th>\n",
       "      <th>last</th>\n",
       "      <th>gender</th>\n",
       "      <th>street</th>\n",
       "      <th>city</th>\n",
       "      <th>state</th>\n",
       "      <th>zip</th>\n",
       "      <th>lat</th>\n",
       "      <th>long</th>\n",
       "      <th>city_pop</th>\n",
       "      <th>job</th>\n",
       "      <th>dob</th>\n",
       "      <th>trans_num</th>\n",
       "      <th>unix_time</th>\n",
       "      <th>merch_lat</th>\n",
       "      <th>merch_long</th>\n",
       "      <th>is_fraud</th>\n",
       "      <th>Customer_Name</th>\n",
       "    </tr>\n",
       "  </thead>\n",
       "  <tbody>\n",
       "    <tr>\n",
       "      <th>0</th>\n",
       "      <td>2020-06-21 12:14:25</td>\n",
       "      <td>2291163933867244</td>\n",
       "      <td>fraud_Kirlin and Sons</td>\n",
       "      <td>personal_care</td>\n",
       "      <td>2.86</td>\n",
       "      <td>Jeff</td>\n",
       "      <td>Elliott</td>\n",
       "      <td>M</td>\n",
       "      <td>351 Darlene Green</td>\n",
       "      <td>Columbia</td>\n",
       "      <td>SC</td>\n",
       "      <td>29209</td>\n",
       "      <td>33.9659</td>\n",
       "      <td>-80.9355</td>\n",
       "      <td>333497</td>\n",
       "      <td>Mechanical engineer</td>\n",
       "      <td>1968-03-19</td>\n",
       "      <td>2da90c7d74bd46a0caf3777415b3ebd3</td>\n",
       "      <td>1371816865</td>\n",
       "      <td>33.986391</td>\n",
       "      <td>-81.200714</td>\n",
       "      <td>0</td>\n",
       "      <td>Jeff Elliott</td>\n",
       "    </tr>\n",
       "    <tr>\n",
       "      <th>1</th>\n",
       "      <td>2020-06-21 12:14:33</td>\n",
       "      <td>3573030041201292</td>\n",
       "      <td>fraud_Sporer-Keebler</td>\n",
       "      <td>personal_care</td>\n",
       "      <td>29.84</td>\n",
       "      <td>Joanne</td>\n",
       "      <td>Williams</td>\n",
       "      <td>F</td>\n",
       "      <td>3638 Marsh Union</td>\n",
       "      <td>Altonah</td>\n",
       "      <td>UT</td>\n",
       "      <td>84002</td>\n",
       "      <td>40.3207</td>\n",
       "      <td>-110.4360</td>\n",
       "      <td>302</td>\n",
       "      <td>Sales professional, IT</td>\n",
       "      <td>1990-01-17</td>\n",
       "      <td>324cc204407e99f51b0d6ca0055005e7</td>\n",
       "      <td>1371816873</td>\n",
       "      <td>39.450498</td>\n",
       "      <td>-109.960431</td>\n",
       "      <td>0</td>\n",
       "      <td>Joanne Williams</td>\n",
       "    </tr>\n",
       "  </tbody>\n",
       "</table>\n",
       "</div>"
      ],
      "text/plain": [
       "  trans_date_trans_time            cc_num               merchant  \\\n",
       "0   2020-06-21 12:14:25  2291163933867244  fraud_Kirlin and Sons   \n",
       "1   2020-06-21 12:14:33  3573030041201292   fraud_Sporer-Keebler   \n",
       "\n",
       "        category    amt   first      last gender             street      city  \\\n",
       "0  personal_care   2.86    Jeff   Elliott      M  351 Darlene Green  Columbia   \n",
       "1  personal_care  29.84  Joanne  Williams      F   3638 Marsh Union   Altonah   \n",
       "\n",
       "  state    zip      lat      long  city_pop                     job  \\\n",
       "0    SC  29209  33.9659  -80.9355    333497     Mechanical engineer   \n",
       "1    UT  84002  40.3207 -110.4360       302  Sales professional, IT   \n",
       "\n",
       "          dob                         trans_num   unix_time  merch_lat  \\\n",
       "0  1968-03-19  2da90c7d74bd46a0caf3777415b3ebd3  1371816865  33.986391   \n",
       "1  1990-01-17  324cc204407e99f51b0d6ca0055005e7  1371816873  39.450498   \n",
       "\n",
       "   merch_long  is_fraud    Customer_Name  \n",
       "0  -81.200714         0     Jeff Elliott  \n",
       "1 -109.960431         0  Joanne Williams  "
      ]
     },
     "execution_count": 27,
     "metadata": {},
     "output_type": "execute_result"
    }
   ],
   "source": [
    "df.head(2)"
   ]
  },
  {
   "cell_type": "code",
   "execution_count": 28,
   "id": "470b6b5b",
   "metadata": {},
   "outputs": [],
   "source": [
    "df.drop(columns=['first','last'],inplace=True)"
   ]
  },
  {
   "cell_type": "code",
   "execution_count": 29,
   "id": "fe520016",
   "metadata": {},
   "outputs": [
    {
     "data": {
      "text/plain": [
       "Customer_Name\n",
       "Aaron Murray        870\n",
       "Aaron Pena          715\n",
       "Aaron Rogers        233\n",
       "Aaron Stewart       200\n",
       "Adam Keller         222\n",
       "                   ... \n",
       "William Thompson    875\n",
       "Willie Jordan       425\n",
       "Xavier Beltran      681\n",
       "Zachary Allen       673\n",
       "Zachary Boone       240\n",
       "Name: cc_num, Length: 917, dtype: int64"
      ]
     },
     "execution_count": 29,
     "metadata": {},
     "output_type": "execute_result"
    }
   ],
   "source": [
    "df.groupby(['Customer_Name'])['cc_num'].count()"
   ]
  },
  {
   "cell_type": "code",
   "execution_count": 30,
   "id": "587004a3",
   "metadata": {},
   "outputs": [],
   "source": [
    "cat_cols=df.select_dtypes(include=object)"
   ]
  },
  {
   "cell_type": "code",
   "execution_count": 31,
   "id": "25612bcb",
   "metadata": {},
   "outputs": [
    {
     "data": {
      "text/html": [
       "<div>\n",
       "<style scoped>\n",
       "    .dataframe tbody tr th:only-of-type {\n",
       "        vertical-align: middle;\n",
       "    }\n",
       "\n",
       "    .dataframe tbody tr th {\n",
       "        vertical-align: top;\n",
       "    }\n",
       "\n",
       "    .dataframe thead th {\n",
       "        text-align: right;\n",
       "    }\n",
       "</style>\n",
       "<table border=\"1\" class=\"dataframe\">\n",
       "  <thead>\n",
       "    <tr style=\"text-align: right;\">\n",
       "      <th></th>\n",
       "      <th>trans_date_trans_time</th>\n",
       "      <th>cc_num</th>\n",
       "      <th>merchant</th>\n",
       "      <th>category</th>\n",
       "      <th>gender</th>\n",
       "      <th>street</th>\n",
       "      <th>city</th>\n",
       "      <th>state</th>\n",
       "      <th>zip</th>\n",
       "      <th>job</th>\n",
       "      <th>dob</th>\n",
       "      <th>trans_num</th>\n",
       "      <th>unix_time</th>\n",
       "      <th>Customer_Name</th>\n",
       "    </tr>\n",
       "  </thead>\n",
       "  <tbody>\n",
       "    <tr>\n",
       "      <th>0</th>\n",
       "      <td>2020-06-21 12:14:25</td>\n",
       "      <td>2291163933867244</td>\n",
       "      <td>fraud_Kirlin and Sons</td>\n",
       "      <td>personal_care</td>\n",
       "      <td>M</td>\n",
       "      <td>351 Darlene Green</td>\n",
       "      <td>Columbia</td>\n",
       "      <td>SC</td>\n",
       "      <td>29209</td>\n",
       "      <td>Mechanical engineer</td>\n",
       "      <td>1968-03-19</td>\n",
       "      <td>2da90c7d74bd46a0caf3777415b3ebd3</td>\n",
       "      <td>1371816865</td>\n",
       "      <td>Jeff Elliott</td>\n",
       "    </tr>\n",
       "    <tr>\n",
       "      <th>1</th>\n",
       "      <td>2020-06-21 12:14:33</td>\n",
       "      <td>3573030041201292</td>\n",
       "      <td>fraud_Sporer-Keebler</td>\n",
       "      <td>personal_care</td>\n",
       "      <td>F</td>\n",
       "      <td>3638 Marsh Union</td>\n",
       "      <td>Altonah</td>\n",
       "      <td>UT</td>\n",
       "      <td>84002</td>\n",
       "      <td>Sales professional, IT</td>\n",
       "      <td>1990-01-17</td>\n",
       "      <td>324cc204407e99f51b0d6ca0055005e7</td>\n",
       "      <td>1371816873</td>\n",
       "      <td>Joanne Williams</td>\n",
       "    </tr>\n",
       "  </tbody>\n",
       "</table>\n",
       "</div>"
      ],
      "text/plain": [
       "  trans_date_trans_time            cc_num               merchant  \\\n",
       "0   2020-06-21 12:14:25  2291163933867244  fraud_Kirlin and Sons   \n",
       "1   2020-06-21 12:14:33  3573030041201292   fraud_Sporer-Keebler   \n",
       "\n",
       "        category gender             street      city state    zip  \\\n",
       "0  personal_care      M  351 Darlene Green  Columbia    SC  29209   \n",
       "1  personal_care      F   3638 Marsh Union   Altonah    UT  84002   \n",
       "\n",
       "                      job         dob                         trans_num  \\\n",
       "0     Mechanical engineer  1968-03-19  2da90c7d74bd46a0caf3777415b3ebd3   \n",
       "1  Sales professional, IT  1990-01-17  324cc204407e99f51b0d6ca0055005e7   \n",
       "\n",
       "    unix_time    Customer_Name  \n",
       "0  1371816865     Jeff Elliott  \n",
       "1  1371816873  Joanne Williams  "
      ]
     },
     "execution_count": 31,
     "metadata": {},
     "output_type": "execute_result"
    }
   ],
   "source": [
    "cat_cols.head(2)"
   ]
  },
  {
   "cell_type": "markdown",
   "id": "0813c3e0",
   "metadata": {},
   "source": [
    "#### Splitting dob column into day, month, year to get the age of the customer"
   ]
  },
  {
   "cell_type": "code",
   "execution_count": 32,
   "id": "eb8a72b5",
   "metadata": {},
   "outputs": [],
   "source": [
    "a=df['dob'].str"
   ]
  },
  {
   "cell_type": "code",
   "execution_count": 33,
   "id": "86019c1f",
   "metadata": {},
   "outputs": [],
   "source": [
    "a=a.split(expand=True,pat='-')"
   ]
  },
  {
   "cell_type": "code",
   "execution_count": 34,
   "id": "cca96a7b",
   "metadata": {},
   "outputs": [],
   "source": [
    "a.columns=['Year','Month','Day']"
   ]
  },
  {
   "cell_type": "code",
   "execution_count": 35,
   "id": "f16c6b6c",
   "metadata": {},
   "outputs": [
    {
     "data": {
      "text/html": [
       "<div>\n",
       "<style scoped>\n",
       "    .dataframe tbody tr th:only-of-type {\n",
       "        vertical-align: middle;\n",
       "    }\n",
       "\n",
       "    .dataframe tbody tr th {\n",
       "        vertical-align: top;\n",
       "    }\n",
       "\n",
       "    .dataframe thead th {\n",
       "        text-align: right;\n",
       "    }\n",
       "</style>\n",
       "<table border=\"1\" class=\"dataframe\">\n",
       "  <thead>\n",
       "    <tr style=\"text-align: right;\">\n",
       "      <th></th>\n",
       "      <th>Year</th>\n",
       "      <th>Month</th>\n",
       "      <th>Day</th>\n",
       "    </tr>\n",
       "  </thead>\n",
       "  <tbody>\n",
       "    <tr>\n",
       "      <th>0</th>\n",
       "      <td>1968</td>\n",
       "      <td>03</td>\n",
       "      <td>19</td>\n",
       "    </tr>\n",
       "    <tr>\n",
       "      <th>1</th>\n",
       "      <td>1990</td>\n",
       "      <td>01</td>\n",
       "      <td>17</td>\n",
       "    </tr>\n",
       "    <tr>\n",
       "      <th>2</th>\n",
       "      <td>1970</td>\n",
       "      <td>10</td>\n",
       "      <td>21</td>\n",
       "    </tr>\n",
       "    <tr>\n",
       "      <th>3</th>\n",
       "      <td>1987</td>\n",
       "      <td>07</td>\n",
       "      <td>25</td>\n",
       "    </tr>\n",
       "    <tr>\n",
       "      <th>4</th>\n",
       "      <td>1955</td>\n",
       "      <td>07</td>\n",
       "      <td>06</td>\n",
       "    </tr>\n",
       "  </tbody>\n",
       "</table>\n",
       "</div>"
      ],
      "text/plain": [
       "   Year Month Day\n",
       "0  1968    03  19\n",
       "1  1990    01  17\n",
       "2  1970    10  21\n",
       "3  1987    07  25\n",
       "4  1955    07  06"
      ]
     },
     "execution_count": 35,
     "metadata": {},
     "output_type": "execute_result"
    }
   ],
   "source": [
    "a.head()"
   ]
  },
  {
   "cell_type": "code",
   "execution_count": 36,
   "id": "5f65c410",
   "metadata": {},
   "outputs": [],
   "source": [
    "# pd.concat([df,a],join='inner')"
   ]
  },
  {
   "cell_type": "code",
   "execution_count": 37,
   "id": "d3f940b1",
   "metadata": {},
   "outputs": [
    {
     "data": {
      "text/html": [
       "<div>\n",
       "<style scoped>\n",
       "    .dataframe tbody tr th:only-of-type {\n",
       "        vertical-align: middle;\n",
       "    }\n",
       "\n",
       "    .dataframe tbody tr th {\n",
       "        vertical-align: top;\n",
       "    }\n",
       "\n",
       "    .dataframe thead th {\n",
       "        text-align: right;\n",
       "    }\n",
       "</style>\n",
       "<table border=\"1\" class=\"dataframe\">\n",
       "  <thead>\n",
       "    <tr style=\"text-align: right;\">\n",
       "      <th></th>\n",
       "      <th>trans_date_trans_time</th>\n",
       "      <th>cc_num</th>\n",
       "      <th>merchant</th>\n",
       "      <th>category</th>\n",
       "      <th>amt</th>\n",
       "      <th>gender</th>\n",
       "      <th>street</th>\n",
       "      <th>city</th>\n",
       "      <th>state</th>\n",
       "      <th>zip</th>\n",
       "      <th>lat</th>\n",
       "      <th>long</th>\n",
       "      <th>city_pop</th>\n",
       "      <th>job</th>\n",
       "      <th>dob</th>\n",
       "      <th>trans_num</th>\n",
       "      <th>unix_time</th>\n",
       "      <th>merch_lat</th>\n",
       "      <th>merch_long</th>\n",
       "      <th>is_fraud</th>\n",
       "      <th>Customer_Name</th>\n",
       "    </tr>\n",
       "  </thead>\n",
       "  <tbody>\n",
       "    <tr>\n",
       "      <th>0</th>\n",
       "      <td>2020-06-21 12:14:25</td>\n",
       "      <td>2291163933867244</td>\n",
       "      <td>fraud_Kirlin and Sons</td>\n",
       "      <td>personal_care</td>\n",
       "      <td>2.86</td>\n",
       "      <td>M</td>\n",
       "      <td>351 Darlene Green</td>\n",
       "      <td>Columbia</td>\n",
       "      <td>SC</td>\n",
       "      <td>29209</td>\n",
       "      <td>33.9659</td>\n",
       "      <td>-80.9355</td>\n",
       "      <td>333497</td>\n",
       "      <td>Mechanical engineer</td>\n",
       "      <td>1968-03-19</td>\n",
       "      <td>2da90c7d74bd46a0caf3777415b3ebd3</td>\n",
       "      <td>1371816865</td>\n",
       "      <td>33.986391</td>\n",
       "      <td>-81.200714</td>\n",
       "      <td>0</td>\n",
       "      <td>Jeff Elliott</td>\n",
       "    </tr>\n",
       "    <tr>\n",
       "      <th>1</th>\n",
       "      <td>2020-06-21 12:14:33</td>\n",
       "      <td>3573030041201292</td>\n",
       "      <td>fraud_Sporer-Keebler</td>\n",
       "      <td>personal_care</td>\n",
       "      <td>29.84</td>\n",
       "      <td>F</td>\n",
       "      <td>3638 Marsh Union</td>\n",
       "      <td>Altonah</td>\n",
       "      <td>UT</td>\n",
       "      <td>84002</td>\n",
       "      <td>40.3207</td>\n",
       "      <td>-110.4360</td>\n",
       "      <td>302</td>\n",
       "      <td>Sales professional, IT</td>\n",
       "      <td>1990-01-17</td>\n",
       "      <td>324cc204407e99f51b0d6ca0055005e7</td>\n",
       "      <td>1371816873</td>\n",
       "      <td>39.450498</td>\n",
       "      <td>-109.960431</td>\n",
       "      <td>0</td>\n",
       "      <td>Joanne Williams</td>\n",
       "    </tr>\n",
       "  </tbody>\n",
       "</table>\n",
       "</div>"
      ],
      "text/plain": [
       "  trans_date_trans_time            cc_num               merchant  \\\n",
       "0   2020-06-21 12:14:25  2291163933867244  fraud_Kirlin and Sons   \n",
       "1   2020-06-21 12:14:33  3573030041201292   fraud_Sporer-Keebler   \n",
       "\n",
       "        category    amt gender             street      city state    zip  \\\n",
       "0  personal_care   2.86      M  351 Darlene Green  Columbia    SC  29209   \n",
       "1  personal_care  29.84      F   3638 Marsh Union   Altonah    UT  84002   \n",
       "\n",
       "       lat      long  city_pop                     job         dob  \\\n",
       "0  33.9659  -80.9355    333497     Mechanical engineer  1968-03-19   \n",
       "1  40.3207 -110.4360       302  Sales professional, IT  1990-01-17   \n",
       "\n",
       "                          trans_num   unix_time  merch_lat  merch_long  \\\n",
       "0  2da90c7d74bd46a0caf3777415b3ebd3  1371816865  33.986391  -81.200714   \n",
       "1  324cc204407e99f51b0d6ca0055005e7  1371816873  39.450498 -109.960431   \n",
       "\n",
       "   is_fraud    Customer_Name  \n",
       "0         0     Jeff Elliott  \n",
       "1         0  Joanne Williams  "
      ]
     },
     "execution_count": 37,
     "metadata": {},
     "output_type": "execute_result"
    }
   ],
   "source": [
    "df.head(2)"
   ]
  },
  {
   "cell_type": "code",
   "execution_count": 38,
   "id": "707c18d7",
   "metadata": {},
   "outputs": [
    {
     "data": {
      "text/html": [
       "<div>\n",
       "<style scoped>\n",
       "    .dataframe tbody tr th:only-of-type {\n",
       "        vertical-align: middle;\n",
       "    }\n",
       "\n",
       "    .dataframe tbody tr th {\n",
       "        vertical-align: top;\n",
       "    }\n",
       "\n",
       "    .dataframe thead th {\n",
       "        text-align: right;\n",
       "    }\n",
       "</style>\n",
       "<table border=\"1\" class=\"dataframe\">\n",
       "  <thead>\n",
       "    <tr style=\"text-align: right;\">\n",
       "      <th></th>\n",
       "      <th>Year</th>\n",
       "      <th>Month</th>\n",
       "      <th>Day</th>\n",
       "    </tr>\n",
       "  </thead>\n",
       "  <tbody>\n",
       "    <tr>\n",
       "      <th>0</th>\n",
       "      <td>1968</td>\n",
       "      <td>03</td>\n",
       "      <td>19</td>\n",
       "    </tr>\n",
       "    <tr>\n",
       "      <th>1</th>\n",
       "      <td>1990</td>\n",
       "      <td>01</td>\n",
       "      <td>17</td>\n",
       "    </tr>\n",
       "    <tr>\n",
       "      <th>2</th>\n",
       "      <td>1970</td>\n",
       "      <td>10</td>\n",
       "      <td>21</td>\n",
       "    </tr>\n",
       "    <tr>\n",
       "      <th>3</th>\n",
       "      <td>1987</td>\n",
       "      <td>07</td>\n",
       "      <td>25</td>\n",
       "    </tr>\n",
       "    <tr>\n",
       "      <th>4</th>\n",
       "      <td>1955</td>\n",
       "      <td>07</td>\n",
       "      <td>06</td>\n",
       "    </tr>\n",
       "  </tbody>\n",
       "</table>\n",
       "</div>"
      ],
      "text/plain": [
       "   Year Month Day\n",
       "0  1968    03  19\n",
       "1  1990    01  17\n",
       "2  1970    10  21\n",
       "3  1987    07  25\n",
       "4  1955    07  06"
      ]
     },
     "execution_count": 38,
     "metadata": {},
     "output_type": "execute_result"
    }
   ],
   "source": [
    "a.head()"
   ]
  },
  {
   "cell_type": "code",
   "execution_count": 39,
   "id": "59b7849c",
   "metadata": {},
   "outputs": [],
   "source": [
    "df[['Year','Month','Day']]=a"
   ]
  },
  {
   "cell_type": "code",
   "execution_count": 40,
   "id": "d044eed9",
   "metadata": {},
   "outputs": [],
   "source": [
    "df.drop(columns='dob',inplace=True)"
   ]
  },
  {
   "cell_type": "code",
   "execution_count": 41,
   "id": "1705a296",
   "metadata": {},
   "outputs": [
    {
     "data": {
      "text/html": [
       "<div>\n",
       "<style scoped>\n",
       "    .dataframe tbody tr th:only-of-type {\n",
       "        vertical-align: middle;\n",
       "    }\n",
       "\n",
       "    .dataframe tbody tr th {\n",
       "        vertical-align: top;\n",
       "    }\n",
       "\n",
       "    .dataframe thead th {\n",
       "        text-align: right;\n",
       "    }\n",
       "</style>\n",
       "<table border=\"1\" class=\"dataframe\">\n",
       "  <thead>\n",
       "    <tr style=\"text-align: right;\">\n",
       "      <th></th>\n",
       "      <th>trans_date_trans_time</th>\n",
       "      <th>cc_num</th>\n",
       "      <th>merchant</th>\n",
       "      <th>category</th>\n",
       "      <th>amt</th>\n",
       "      <th>gender</th>\n",
       "      <th>street</th>\n",
       "      <th>city</th>\n",
       "      <th>state</th>\n",
       "      <th>zip</th>\n",
       "      <th>lat</th>\n",
       "      <th>long</th>\n",
       "      <th>city_pop</th>\n",
       "      <th>job</th>\n",
       "      <th>trans_num</th>\n",
       "      <th>unix_time</th>\n",
       "      <th>merch_lat</th>\n",
       "      <th>merch_long</th>\n",
       "      <th>is_fraud</th>\n",
       "      <th>Customer_Name</th>\n",
       "      <th>Year</th>\n",
       "      <th>Month</th>\n",
       "      <th>Day</th>\n",
       "    </tr>\n",
       "  </thead>\n",
       "  <tbody>\n",
       "    <tr>\n",
       "      <th>0</th>\n",
       "      <td>2020-06-21 12:14:25</td>\n",
       "      <td>2291163933867244</td>\n",
       "      <td>fraud_Kirlin and Sons</td>\n",
       "      <td>personal_care</td>\n",
       "      <td>2.86</td>\n",
       "      <td>M</td>\n",
       "      <td>351 Darlene Green</td>\n",
       "      <td>Columbia</td>\n",
       "      <td>SC</td>\n",
       "      <td>29209</td>\n",
       "      <td>33.9659</td>\n",
       "      <td>-80.9355</td>\n",
       "      <td>333497</td>\n",
       "      <td>Mechanical engineer</td>\n",
       "      <td>2da90c7d74bd46a0caf3777415b3ebd3</td>\n",
       "      <td>1371816865</td>\n",
       "      <td>33.986391</td>\n",
       "      <td>-81.200714</td>\n",
       "      <td>0</td>\n",
       "      <td>Jeff Elliott</td>\n",
       "      <td>1968</td>\n",
       "      <td>03</td>\n",
       "      <td>19</td>\n",
       "    </tr>\n",
       "    <tr>\n",
       "      <th>1</th>\n",
       "      <td>2020-06-21 12:14:33</td>\n",
       "      <td>3573030041201292</td>\n",
       "      <td>fraud_Sporer-Keebler</td>\n",
       "      <td>personal_care</td>\n",
       "      <td>29.84</td>\n",
       "      <td>F</td>\n",
       "      <td>3638 Marsh Union</td>\n",
       "      <td>Altonah</td>\n",
       "      <td>UT</td>\n",
       "      <td>84002</td>\n",
       "      <td>40.3207</td>\n",
       "      <td>-110.4360</td>\n",
       "      <td>302</td>\n",
       "      <td>Sales professional, IT</td>\n",
       "      <td>324cc204407e99f51b0d6ca0055005e7</td>\n",
       "      <td>1371816873</td>\n",
       "      <td>39.450498</td>\n",
       "      <td>-109.960431</td>\n",
       "      <td>0</td>\n",
       "      <td>Joanne Williams</td>\n",
       "      <td>1990</td>\n",
       "      <td>01</td>\n",
       "      <td>17</td>\n",
       "    </tr>\n",
       "  </tbody>\n",
       "</table>\n",
       "</div>"
      ],
      "text/plain": [
       "  trans_date_trans_time            cc_num               merchant  \\\n",
       "0   2020-06-21 12:14:25  2291163933867244  fraud_Kirlin and Sons   \n",
       "1   2020-06-21 12:14:33  3573030041201292   fraud_Sporer-Keebler   \n",
       "\n",
       "        category    amt gender             street      city state    zip  \\\n",
       "0  personal_care   2.86      M  351 Darlene Green  Columbia    SC  29209   \n",
       "1  personal_care  29.84      F   3638 Marsh Union   Altonah    UT  84002   \n",
       "\n",
       "       lat      long  city_pop                     job  \\\n",
       "0  33.9659  -80.9355    333497     Mechanical engineer   \n",
       "1  40.3207 -110.4360       302  Sales professional, IT   \n",
       "\n",
       "                          trans_num   unix_time  merch_lat  merch_long  \\\n",
       "0  2da90c7d74bd46a0caf3777415b3ebd3  1371816865  33.986391  -81.200714   \n",
       "1  324cc204407e99f51b0d6ca0055005e7  1371816873  39.450498 -109.960431   \n",
       "\n",
       "   is_fraud    Customer_Name  Year Month Day  \n",
       "0         0     Jeff Elliott  1968    03  19  \n",
       "1         0  Joanne Williams  1990    01  17  "
      ]
     },
     "execution_count": 41,
     "metadata": {},
     "output_type": "execute_result"
    }
   ],
   "source": [
    "df.head(2)"
   ]
  },
  {
   "cell_type": "markdown",
   "id": "918d5d49",
   "metadata": {},
   "source": [
    "#### Coverting the Year Column to Integer datatype and subtracting it by 2023 to get the Age of the Customer."
   ]
  },
  {
   "cell_type": "code",
   "execution_count": 42,
   "id": "f0a2bc68",
   "metadata": {},
   "outputs": [],
   "source": [
    "df['Year']=df.Year.astype('int')"
   ]
  },
  {
   "cell_type": "code",
   "execution_count": 43,
   "id": "f18c1c0f",
   "metadata": {},
   "outputs": [],
   "source": [
    "df['Age_Cust']=2023-df['Year']"
   ]
  },
  {
   "cell_type": "code",
   "execution_count": 44,
   "id": "ebe27f06",
   "metadata": {},
   "outputs": [
    {
     "data": {
      "text/html": [
       "<div>\n",
       "<style scoped>\n",
       "    .dataframe tbody tr th:only-of-type {\n",
       "        vertical-align: middle;\n",
       "    }\n",
       "\n",
       "    .dataframe tbody tr th {\n",
       "        vertical-align: top;\n",
       "    }\n",
       "\n",
       "    .dataframe thead th {\n",
       "        text-align: right;\n",
       "    }\n",
       "</style>\n",
       "<table border=\"1\" class=\"dataframe\">\n",
       "  <thead>\n",
       "    <tr style=\"text-align: right;\">\n",
       "      <th></th>\n",
       "      <th>trans_date_trans_time</th>\n",
       "      <th>cc_num</th>\n",
       "      <th>merchant</th>\n",
       "      <th>category</th>\n",
       "      <th>amt</th>\n",
       "      <th>gender</th>\n",
       "      <th>street</th>\n",
       "      <th>city</th>\n",
       "      <th>state</th>\n",
       "      <th>zip</th>\n",
       "      <th>lat</th>\n",
       "      <th>long</th>\n",
       "      <th>city_pop</th>\n",
       "      <th>job</th>\n",
       "      <th>trans_num</th>\n",
       "      <th>unix_time</th>\n",
       "      <th>merch_lat</th>\n",
       "      <th>merch_long</th>\n",
       "      <th>is_fraud</th>\n",
       "      <th>Customer_Name</th>\n",
       "      <th>Year</th>\n",
       "      <th>Month</th>\n",
       "      <th>Day</th>\n",
       "      <th>Age_Cust</th>\n",
       "    </tr>\n",
       "  </thead>\n",
       "  <tbody>\n",
       "    <tr>\n",
       "      <th>0</th>\n",
       "      <td>2020-06-21 12:14:25</td>\n",
       "      <td>2291163933867244</td>\n",
       "      <td>fraud_Kirlin and Sons</td>\n",
       "      <td>personal_care</td>\n",
       "      <td>2.86</td>\n",
       "      <td>M</td>\n",
       "      <td>351 Darlene Green</td>\n",
       "      <td>Columbia</td>\n",
       "      <td>SC</td>\n",
       "      <td>29209</td>\n",
       "      <td>33.9659</td>\n",
       "      <td>-80.9355</td>\n",
       "      <td>333497</td>\n",
       "      <td>Mechanical engineer</td>\n",
       "      <td>2da90c7d74bd46a0caf3777415b3ebd3</td>\n",
       "      <td>1371816865</td>\n",
       "      <td>33.986391</td>\n",
       "      <td>-81.200714</td>\n",
       "      <td>0</td>\n",
       "      <td>Jeff Elliott</td>\n",
       "      <td>1968</td>\n",
       "      <td>03</td>\n",
       "      <td>19</td>\n",
       "      <td>55</td>\n",
       "    </tr>\n",
       "    <tr>\n",
       "      <th>1</th>\n",
       "      <td>2020-06-21 12:14:33</td>\n",
       "      <td>3573030041201292</td>\n",
       "      <td>fraud_Sporer-Keebler</td>\n",
       "      <td>personal_care</td>\n",
       "      <td>29.84</td>\n",
       "      <td>F</td>\n",
       "      <td>3638 Marsh Union</td>\n",
       "      <td>Altonah</td>\n",
       "      <td>UT</td>\n",
       "      <td>84002</td>\n",
       "      <td>40.3207</td>\n",
       "      <td>-110.4360</td>\n",
       "      <td>302</td>\n",
       "      <td>Sales professional, IT</td>\n",
       "      <td>324cc204407e99f51b0d6ca0055005e7</td>\n",
       "      <td>1371816873</td>\n",
       "      <td>39.450498</td>\n",
       "      <td>-109.960431</td>\n",
       "      <td>0</td>\n",
       "      <td>Joanne Williams</td>\n",
       "      <td>1990</td>\n",
       "      <td>01</td>\n",
       "      <td>17</td>\n",
       "      <td>33</td>\n",
       "    </tr>\n",
       "  </tbody>\n",
       "</table>\n",
       "</div>"
      ],
      "text/plain": [
       "  trans_date_trans_time            cc_num               merchant  \\\n",
       "0   2020-06-21 12:14:25  2291163933867244  fraud_Kirlin and Sons   \n",
       "1   2020-06-21 12:14:33  3573030041201292   fraud_Sporer-Keebler   \n",
       "\n",
       "        category    amt gender             street      city state    zip  \\\n",
       "0  personal_care   2.86      M  351 Darlene Green  Columbia    SC  29209   \n",
       "1  personal_care  29.84      F   3638 Marsh Union   Altonah    UT  84002   \n",
       "\n",
       "       lat      long  city_pop                     job  \\\n",
       "0  33.9659  -80.9355    333497     Mechanical engineer   \n",
       "1  40.3207 -110.4360       302  Sales professional, IT   \n",
       "\n",
       "                          trans_num   unix_time  merch_lat  merch_long  \\\n",
       "0  2da90c7d74bd46a0caf3777415b3ebd3  1371816865  33.986391  -81.200714   \n",
       "1  324cc204407e99f51b0d6ca0055005e7  1371816873  39.450498 -109.960431   \n",
       "\n",
       "   is_fraud    Customer_Name  Year Month Day  Age_Cust  \n",
       "0         0     Jeff Elliott  1968    03  19        55  \n",
       "1         0  Joanne Williams  1990    01  17        33  "
      ]
     },
     "execution_count": 44,
     "metadata": {},
     "output_type": "execute_result"
    }
   ],
   "source": [
    "df.head(2)"
   ]
  },
  {
   "cell_type": "code",
   "execution_count": 45,
   "id": "4d15c034",
   "metadata": {},
   "outputs": [],
   "source": [
    "df.drop(columns=['Year','Month','Day'],inplace=True)"
   ]
  },
  {
   "cell_type": "code",
   "execution_count": 46,
   "id": "9db567be",
   "metadata": {},
   "outputs": [
    {
     "data": {
      "text/html": [
       "<div>\n",
       "<style scoped>\n",
       "    .dataframe tbody tr th:only-of-type {\n",
       "        vertical-align: middle;\n",
       "    }\n",
       "\n",
       "    .dataframe tbody tr th {\n",
       "        vertical-align: top;\n",
       "    }\n",
       "\n",
       "    .dataframe thead th {\n",
       "        text-align: right;\n",
       "    }\n",
       "</style>\n",
       "<table border=\"1\" class=\"dataframe\">\n",
       "  <thead>\n",
       "    <tr style=\"text-align: right;\">\n",
       "      <th></th>\n",
       "      <th>trans_date_trans_time</th>\n",
       "      <th>cc_num</th>\n",
       "      <th>merchant</th>\n",
       "      <th>category</th>\n",
       "      <th>amt</th>\n",
       "      <th>gender</th>\n",
       "      <th>street</th>\n",
       "      <th>city</th>\n",
       "      <th>state</th>\n",
       "      <th>zip</th>\n",
       "      <th>lat</th>\n",
       "      <th>long</th>\n",
       "      <th>city_pop</th>\n",
       "      <th>job</th>\n",
       "      <th>trans_num</th>\n",
       "      <th>unix_time</th>\n",
       "      <th>merch_lat</th>\n",
       "      <th>merch_long</th>\n",
       "      <th>is_fraud</th>\n",
       "      <th>Customer_Name</th>\n",
       "      <th>Age_Cust</th>\n",
       "    </tr>\n",
       "  </thead>\n",
       "  <tbody>\n",
       "    <tr>\n",
       "      <th>0</th>\n",
       "      <td>2020-06-21 12:14:25</td>\n",
       "      <td>2291163933867244</td>\n",
       "      <td>fraud_Kirlin and Sons</td>\n",
       "      <td>personal_care</td>\n",
       "      <td>2.86</td>\n",
       "      <td>M</td>\n",
       "      <td>351 Darlene Green</td>\n",
       "      <td>Columbia</td>\n",
       "      <td>SC</td>\n",
       "      <td>29209</td>\n",
       "      <td>33.9659</td>\n",
       "      <td>-80.9355</td>\n",
       "      <td>333497</td>\n",
       "      <td>Mechanical engineer</td>\n",
       "      <td>2da90c7d74bd46a0caf3777415b3ebd3</td>\n",
       "      <td>1371816865</td>\n",
       "      <td>33.986391</td>\n",
       "      <td>-81.200714</td>\n",
       "      <td>0</td>\n",
       "      <td>Jeff Elliott</td>\n",
       "      <td>55</td>\n",
       "    </tr>\n",
       "    <tr>\n",
       "      <th>1</th>\n",
       "      <td>2020-06-21 12:14:33</td>\n",
       "      <td>3573030041201292</td>\n",
       "      <td>fraud_Sporer-Keebler</td>\n",
       "      <td>personal_care</td>\n",
       "      <td>29.84</td>\n",
       "      <td>F</td>\n",
       "      <td>3638 Marsh Union</td>\n",
       "      <td>Altonah</td>\n",
       "      <td>UT</td>\n",
       "      <td>84002</td>\n",
       "      <td>40.3207</td>\n",
       "      <td>-110.4360</td>\n",
       "      <td>302</td>\n",
       "      <td>Sales professional, IT</td>\n",
       "      <td>324cc204407e99f51b0d6ca0055005e7</td>\n",
       "      <td>1371816873</td>\n",
       "      <td>39.450498</td>\n",
       "      <td>-109.960431</td>\n",
       "      <td>0</td>\n",
       "      <td>Joanne Williams</td>\n",
       "      <td>33</td>\n",
       "    </tr>\n",
       "  </tbody>\n",
       "</table>\n",
       "</div>"
      ],
      "text/plain": [
       "  trans_date_trans_time            cc_num               merchant  \\\n",
       "0   2020-06-21 12:14:25  2291163933867244  fraud_Kirlin and Sons   \n",
       "1   2020-06-21 12:14:33  3573030041201292   fraud_Sporer-Keebler   \n",
       "\n",
       "        category    amt gender             street      city state    zip  \\\n",
       "0  personal_care   2.86      M  351 Darlene Green  Columbia    SC  29209   \n",
       "1  personal_care  29.84      F   3638 Marsh Union   Altonah    UT  84002   \n",
       "\n",
       "       lat      long  city_pop                     job  \\\n",
       "0  33.9659  -80.9355    333497     Mechanical engineer   \n",
       "1  40.3207 -110.4360       302  Sales professional, IT   \n",
       "\n",
       "                          trans_num   unix_time  merch_lat  merch_long  \\\n",
       "0  2da90c7d74bd46a0caf3777415b3ebd3  1371816865  33.986391  -81.200714   \n",
       "1  324cc204407e99f51b0d6ca0055005e7  1371816873  39.450498 -109.960431   \n",
       "\n",
       "   is_fraud    Customer_Name  Age_Cust  \n",
       "0         0     Jeff Elliott        55  \n",
       "1         0  Joanne Williams        33  "
      ]
     },
     "execution_count": 46,
     "metadata": {},
     "output_type": "execute_result"
    }
   ],
   "source": [
    "df.head(2)"
   ]
  },
  {
   "cell_type": "code",
   "execution_count": 47,
   "id": "60798852",
   "metadata": {},
   "outputs": [],
   "source": [
    "# df.info()"
   ]
  },
  {
   "cell_type": "code",
   "execution_count": 48,
   "id": "5b5162a9",
   "metadata": {},
   "outputs": [],
   "source": [
    "## Splitting trans_date_trans_time into Trans_date and Trans_time"
   ]
  },
  {
   "cell_type": "code",
   "execution_count": 49,
   "id": "a4d03750",
   "metadata": {},
   "outputs": [],
   "source": [
    "df[['trans_date','trans_time']]=df['trans_date_trans_time'].str.split(expand=True)"
   ]
  },
  {
   "cell_type": "code",
   "execution_count": 50,
   "id": "46b04834",
   "metadata": {},
   "outputs": [
    {
     "data": {
      "text/html": [
       "<div>\n",
       "<style scoped>\n",
       "    .dataframe tbody tr th:only-of-type {\n",
       "        vertical-align: middle;\n",
       "    }\n",
       "\n",
       "    .dataframe tbody tr th {\n",
       "        vertical-align: top;\n",
       "    }\n",
       "\n",
       "    .dataframe thead th {\n",
       "        text-align: right;\n",
       "    }\n",
       "</style>\n",
       "<table border=\"1\" class=\"dataframe\">\n",
       "  <thead>\n",
       "    <tr style=\"text-align: right;\">\n",
       "      <th></th>\n",
       "      <th>trans_date_trans_time</th>\n",
       "      <th>cc_num</th>\n",
       "      <th>merchant</th>\n",
       "      <th>category</th>\n",
       "      <th>amt</th>\n",
       "      <th>gender</th>\n",
       "      <th>street</th>\n",
       "      <th>city</th>\n",
       "      <th>state</th>\n",
       "      <th>zip</th>\n",
       "      <th>lat</th>\n",
       "      <th>long</th>\n",
       "      <th>city_pop</th>\n",
       "      <th>job</th>\n",
       "      <th>trans_num</th>\n",
       "      <th>unix_time</th>\n",
       "      <th>merch_lat</th>\n",
       "      <th>merch_long</th>\n",
       "      <th>is_fraud</th>\n",
       "      <th>Customer_Name</th>\n",
       "      <th>Age_Cust</th>\n",
       "      <th>trans_date</th>\n",
       "      <th>trans_time</th>\n",
       "    </tr>\n",
       "  </thead>\n",
       "  <tbody>\n",
       "    <tr>\n",
       "      <th>0</th>\n",
       "      <td>2020-06-21 12:14:25</td>\n",
       "      <td>2291163933867244</td>\n",
       "      <td>fraud_Kirlin and Sons</td>\n",
       "      <td>personal_care</td>\n",
       "      <td>2.86</td>\n",
       "      <td>M</td>\n",
       "      <td>351 Darlene Green</td>\n",
       "      <td>Columbia</td>\n",
       "      <td>SC</td>\n",
       "      <td>29209</td>\n",
       "      <td>33.9659</td>\n",
       "      <td>-80.9355</td>\n",
       "      <td>333497</td>\n",
       "      <td>Mechanical engineer</td>\n",
       "      <td>2da90c7d74bd46a0caf3777415b3ebd3</td>\n",
       "      <td>1371816865</td>\n",
       "      <td>33.986391</td>\n",
       "      <td>-81.200714</td>\n",
       "      <td>0</td>\n",
       "      <td>Jeff Elliott</td>\n",
       "      <td>55</td>\n",
       "      <td>2020-06-21</td>\n",
       "      <td>12:14:25</td>\n",
       "    </tr>\n",
       "    <tr>\n",
       "      <th>1</th>\n",
       "      <td>2020-06-21 12:14:33</td>\n",
       "      <td>3573030041201292</td>\n",
       "      <td>fraud_Sporer-Keebler</td>\n",
       "      <td>personal_care</td>\n",
       "      <td>29.84</td>\n",
       "      <td>F</td>\n",
       "      <td>3638 Marsh Union</td>\n",
       "      <td>Altonah</td>\n",
       "      <td>UT</td>\n",
       "      <td>84002</td>\n",
       "      <td>40.3207</td>\n",
       "      <td>-110.4360</td>\n",
       "      <td>302</td>\n",
       "      <td>Sales professional, IT</td>\n",
       "      <td>324cc204407e99f51b0d6ca0055005e7</td>\n",
       "      <td>1371816873</td>\n",
       "      <td>39.450498</td>\n",
       "      <td>-109.960431</td>\n",
       "      <td>0</td>\n",
       "      <td>Joanne Williams</td>\n",
       "      <td>33</td>\n",
       "      <td>2020-06-21</td>\n",
       "      <td>12:14:33</td>\n",
       "    </tr>\n",
       "  </tbody>\n",
       "</table>\n",
       "</div>"
      ],
      "text/plain": [
       "  trans_date_trans_time            cc_num               merchant  \\\n",
       "0   2020-06-21 12:14:25  2291163933867244  fraud_Kirlin and Sons   \n",
       "1   2020-06-21 12:14:33  3573030041201292   fraud_Sporer-Keebler   \n",
       "\n",
       "        category    amt gender             street      city state    zip  \\\n",
       "0  personal_care   2.86      M  351 Darlene Green  Columbia    SC  29209   \n",
       "1  personal_care  29.84      F   3638 Marsh Union   Altonah    UT  84002   \n",
       "\n",
       "       lat      long  city_pop                     job  \\\n",
       "0  33.9659  -80.9355    333497     Mechanical engineer   \n",
       "1  40.3207 -110.4360       302  Sales professional, IT   \n",
       "\n",
       "                          trans_num   unix_time  merch_lat  merch_long  \\\n",
       "0  2da90c7d74bd46a0caf3777415b3ebd3  1371816865  33.986391  -81.200714   \n",
       "1  324cc204407e99f51b0d6ca0055005e7  1371816873  39.450498 -109.960431   \n",
       "\n",
       "   is_fraud    Customer_Name  Age_Cust  trans_date trans_time  \n",
       "0         0     Jeff Elliott        55  2020-06-21   12:14:25  \n",
       "1         0  Joanne Williams        33  2020-06-21   12:14:33  "
      ]
     },
     "execution_count": 50,
     "metadata": {},
     "output_type": "execute_result"
    }
   ],
   "source": [
    "df.head(2)"
   ]
  },
  {
   "cell_type": "code",
   "execution_count": 51,
   "id": "897a5cc4",
   "metadata": {},
   "outputs": [
    {
     "data": {
      "text/plain": [
       "2020-11-30    6530\n",
       "2020-12-07    6506\n",
       "2020-12-14    6400\n",
       "2020-12-21    6390\n",
       "2020-12-28    6321\n",
       "              ... \n",
       "2020-09-23    1494\n",
       "2020-11-25    1488\n",
       "2020-09-09    1479\n",
       "2020-09-16    1465\n",
       "2020-11-18    1460\n",
       "Name: trans_date, Length: 194, dtype: int64"
      ]
     },
     "execution_count": 51,
     "metadata": {},
     "output_type": "execute_result"
    }
   ],
   "source": [
    "df['trans_date'].value_counts()"
   ]
  },
  {
   "cell_type": "code",
   "execution_count": 52,
   "id": "78c8271a",
   "metadata": {},
   "outputs": [
    {
     "data": {
      "text/plain": [
       "17:47:40    21\n",
       "16:11:17    21\n",
       "22:20:54    21\n",
       "14:28:33    21\n",
       "12:07:14    20\n",
       "            ..\n",
       "11:58:08     1\n",
       "09:35:34     1\n",
       "01:06:09     1\n",
       "10:21:14     1\n",
       "11:19:39     1\n",
       "Name: trans_time, Length: 86092, dtype: int64"
      ]
     },
     "execution_count": 52,
     "metadata": {},
     "output_type": "execute_result"
    }
   ],
   "source": [
    "df['trans_time'].value_counts()"
   ]
  },
  {
   "cell_type": "markdown",
   "id": "73f747bb",
   "metadata": {},
   "source": [
    "## Splitting trans_date into Year, Month, Day"
   ]
  },
  {
   "cell_type": "code",
   "execution_count": 53,
   "id": "fedbe00f",
   "metadata": {},
   "outputs": [],
   "source": [
    "df[['trans_year','trans_month','trans_day']]=df['trans_date'].str.split(expand=True,pat='-')"
   ]
  },
  {
   "cell_type": "code",
   "execution_count": 54,
   "id": "2f637511",
   "metadata": {},
   "outputs": [
    {
     "data": {
      "text/html": [
       "<div>\n",
       "<style scoped>\n",
       "    .dataframe tbody tr th:only-of-type {\n",
       "        vertical-align: middle;\n",
       "    }\n",
       "\n",
       "    .dataframe tbody tr th {\n",
       "        vertical-align: top;\n",
       "    }\n",
       "\n",
       "    .dataframe thead th {\n",
       "        text-align: right;\n",
       "    }\n",
       "</style>\n",
       "<table border=\"1\" class=\"dataframe\">\n",
       "  <thead>\n",
       "    <tr style=\"text-align: right;\">\n",
       "      <th></th>\n",
       "      <th>trans_date_trans_time</th>\n",
       "      <th>cc_num</th>\n",
       "      <th>merchant</th>\n",
       "      <th>category</th>\n",
       "      <th>amt</th>\n",
       "      <th>gender</th>\n",
       "      <th>street</th>\n",
       "      <th>city</th>\n",
       "      <th>state</th>\n",
       "      <th>zip</th>\n",
       "      <th>lat</th>\n",
       "      <th>long</th>\n",
       "      <th>city_pop</th>\n",
       "      <th>job</th>\n",
       "      <th>trans_num</th>\n",
       "      <th>unix_time</th>\n",
       "      <th>merch_lat</th>\n",
       "      <th>merch_long</th>\n",
       "      <th>is_fraud</th>\n",
       "      <th>Customer_Name</th>\n",
       "      <th>Age_Cust</th>\n",
       "      <th>trans_date</th>\n",
       "      <th>trans_time</th>\n",
       "      <th>trans_year</th>\n",
       "      <th>trans_month</th>\n",
       "      <th>trans_day</th>\n",
       "    </tr>\n",
       "  </thead>\n",
       "  <tbody>\n",
       "    <tr>\n",
       "      <th>0</th>\n",
       "      <td>2020-06-21 12:14:25</td>\n",
       "      <td>2291163933867244</td>\n",
       "      <td>fraud_Kirlin and Sons</td>\n",
       "      <td>personal_care</td>\n",
       "      <td>2.86</td>\n",
       "      <td>M</td>\n",
       "      <td>351 Darlene Green</td>\n",
       "      <td>Columbia</td>\n",
       "      <td>SC</td>\n",
       "      <td>29209</td>\n",
       "      <td>33.9659</td>\n",
       "      <td>-80.9355</td>\n",
       "      <td>333497</td>\n",
       "      <td>Mechanical engineer</td>\n",
       "      <td>2da90c7d74bd46a0caf3777415b3ebd3</td>\n",
       "      <td>1371816865</td>\n",
       "      <td>33.986391</td>\n",
       "      <td>-81.200714</td>\n",
       "      <td>0</td>\n",
       "      <td>Jeff Elliott</td>\n",
       "      <td>55</td>\n",
       "      <td>2020-06-21</td>\n",
       "      <td>12:14:25</td>\n",
       "      <td>2020</td>\n",
       "      <td>06</td>\n",
       "      <td>21</td>\n",
       "    </tr>\n",
       "    <tr>\n",
       "      <th>1</th>\n",
       "      <td>2020-06-21 12:14:33</td>\n",
       "      <td>3573030041201292</td>\n",
       "      <td>fraud_Sporer-Keebler</td>\n",
       "      <td>personal_care</td>\n",
       "      <td>29.84</td>\n",
       "      <td>F</td>\n",
       "      <td>3638 Marsh Union</td>\n",
       "      <td>Altonah</td>\n",
       "      <td>UT</td>\n",
       "      <td>84002</td>\n",
       "      <td>40.3207</td>\n",
       "      <td>-110.4360</td>\n",
       "      <td>302</td>\n",
       "      <td>Sales professional, IT</td>\n",
       "      <td>324cc204407e99f51b0d6ca0055005e7</td>\n",
       "      <td>1371816873</td>\n",
       "      <td>39.450498</td>\n",
       "      <td>-109.960431</td>\n",
       "      <td>0</td>\n",
       "      <td>Joanne Williams</td>\n",
       "      <td>33</td>\n",
       "      <td>2020-06-21</td>\n",
       "      <td>12:14:33</td>\n",
       "      <td>2020</td>\n",
       "      <td>06</td>\n",
       "      <td>21</td>\n",
       "    </tr>\n",
       "  </tbody>\n",
       "</table>\n",
       "</div>"
      ],
      "text/plain": [
       "  trans_date_trans_time            cc_num               merchant  \\\n",
       "0   2020-06-21 12:14:25  2291163933867244  fraud_Kirlin and Sons   \n",
       "1   2020-06-21 12:14:33  3573030041201292   fraud_Sporer-Keebler   \n",
       "\n",
       "        category    amt gender             street      city state    zip  \\\n",
       "0  personal_care   2.86      M  351 Darlene Green  Columbia    SC  29209   \n",
       "1  personal_care  29.84      F   3638 Marsh Union   Altonah    UT  84002   \n",
       "\n",
       "       lat      long  city_pop                     job  \\\n",
       "0  33.9659  -80.9355    333497     Mechanical engineer   \n",
       "1  40.3207 -110.4360       302  Sales professional, IT   \n",
       "\n",
       "                          trans_num   unix_time  merch_lat  merch_long  \\\n",
       "0  2da90c7d74bd46a0caf3777415b3ebd3  1371816865  33.986391  -81.200714   \n",
       "1  324cc204407e99f51b0d6ca0055005e7  1371816873  39.450498 -109.960431   \n",
       "\n",
       "   is_fraud    Customer_Name  Age_Cust  trans_date trans_time trans_year  \\\n",
       "0         0     Jeff Elliott        55  2020-06-21   12:14:25       2020   \n",
       "1         0  Joanne Williams        33  2020-06-21   12:14:33       2020   \n",
       "\n",
       "  trans_month trans_day  \n",
       "0          06        21  \n",
       "1          06        21  "
      ]
     },
     "execution_count": 54,
     "metadata": {},
     "output_type": "execute_result"
    }
   ],
   "source": [
    "df.head(2)"
   ]
  },
  {
   "cell_type": "code",
   "execution_count": 55,
   "id": "c2d61ddc",
   "metadata": {},
   "outputs": [],
   "source": [
    "df.drop(columns=['trans_date_trans_time','trans_date'],inplace=True)"
   ]
  },
  {
   "cell_type": "code",
   "execution_count": 56,
   "id": "0211a92d",
   "metadata": {},
   "outputs": [
    {
     "data": {
      "text/html": [
       "<div>\n",
       "<style scoped>\n",
       "    .dataframe tbody tr th:only-of-type {\n",
       "        vertical-align: middle;\n",
       "    }\n",
       "\n",
       "    .dataframe tbody tr th {\n",
       "        vertical-align: top;\n",
       "    }\n",
       "\n",
       "    .dataframe thead th {\n",
       "        text-align: right;\n",
       "    }\n",
       "</style>\n",
       "<table border=\"1\" class=\"dataframe\">\n",
       "  <thead>\n",
       "    <tr style=\"text-align: right;\">\n",
       "      <th></th>\n",
       "      <th>cc_num</th>\n",
       "      <th>merchant</th>\n",
       "      <th>category</th>\n",
       "      <th>amt</th>\n",
       "      <th>gender</th>\n",
       "      <th>street</th>\n",
       "      <th>city</th>\n",
       "      <th>state</th>\n",
       "      <th>zip</th>\n",
       "      <th>lat</th>\n",
       "      <th>long</th>\n",
       "      <th>city_pop</th>\n",
       "      <th>job</th>\n",
       "      <th>trans_num</th>\n",
       "      <th>unix_time</th>\n",
       "      <th>merch_lat</th>\n",
       "      <th>merch_long</th>\n",
       "      <th>is_fraud</th>\n",
       "      <th>Customer_Name</th>\n",
       "      <th>Age_Cust</th>\n",
       "      <th>trans_time</th>\n",
       "      <th>trans_year</th>\n",
       "      <th>trans_month</th>\n",
       "      <th>trans_day</th>\n",
       "    </tr>\n",
       "  </thead>\n",
       "  <tbody>\n",
       "    <tr>\n",
       "      <th>0</th>\n",
       "      <td>2291163933867244</td>\n",
       "      <td>fraud_Kirlin and Sons</td>\n",
       "      <td>personal_care</td>\n",
       "      <td>2.86</td>\n",
       "      <td>M</td>\n",
       "      <td>351 Darlene Green</td>\n",
       "      <td>Columbia</td>\n",
       "      <td>SC</td>\n",
       "      <td>29209</td>\n",
       "      <td>33.9659</td>\n",
       "      <td>-80.9355</td>\n",
       "      <td>333497</td>\n",
       "      <td>Mechanical engineer</td>\n",
       "      <td>2da90c7d74bd46a0caf3777415b3ebd3</td>\n",
       "      <td>1371816865</td>\n",
       "      <td>33.986391</td>\n",
       "      <td>-81.200714</td>\n",
       "      <td>0</td>\n",
       "      <td>Jeff Elliott</td>\n",
       "      <td>55</td>\n",
       "      <td>12:14:25</td>\n",
       "      <td>2020</td>\n",
       "      <td>06</td>\n",
       "      <td>21</td>\n",
       "    </tr>\n",
       "    <tr>\n",
       "      <th>1</th>\n",
       "      <td>3573030041201292</td>\n",
       "      <td>fraud_Sporer-Keebler</td>\n",
       "      <td>personal_care</td>\n",
       "      <td>29.84</td>\n",
       "      <td>F</td>\n",
       "      <td>3638 Marsh Union</td>\n",
       "      <td>Altonah</td>\n",
       "      <td>UT</td>\n",
       "      <td>84002</td>\n",
       "      <td>40.3207</td>\n",
       "      <td>-110.4360</td>\n",
       "      <td>302</td>\n",
       "      <td>Sales professional, IT</td>\n",
       "      <td>324cc204407e99f51b0d6ca0055005e7</td>\n",
       "      <td>1371816873</td>\n",
       "      <td>39.450498</td>\n",
       "      <td>-109.960431</td>\n",
       "      <td>0</td>\n",
       "      <td>Joanne Williams</td>\n",
       "      <td>33</td>\n",
       "      <td>12:14:33</td>\n",
       "      <td>2020</td>\n",
       "      <td>06</td>\n",
       "      <td>21</td>\n",
       "    </tr>\n",
       "  </tbody>\n",
       "</table>\n",
       "</div>"
      ],
      "text/plain": [
       "             cc_num               merchant       category    amt gender  \\\n",
       "0  2291163933867244  fraud_Kirlin and Sons  personal_care   2.86      M   \n",
       "1  3573030041201292   fraud_Sporer-Keebler  personal_care  29.84      F   \n",
       "\n",
       "              street      city state    zip      lat      long  city_pop  \\\n",
       "0  351 Darlene Green  Columbia    SC  29209  33.9659  -80.9355    333497   \n",
       "1   3638 Marsh Union   Altonah    UT  84002  40.3207 -110.4360       302   \n",
       "\n",
       "                      job                         trans_num   unix_time  \\\n",
       "0     Mechanical engineer  2da90c7d74bd46a0caf3777415b3ebd3  1371816865   \n",
       "1  Sales professional, IT  324cc204407e99f51b0d6ca0055005e7  1371816873   \n",
       "\n",
       "   merch_lat  merch_long  is_fraud    Customer_Name  Age_Cust trans_time  \\\n",
       "0  33.986391  -81.200714         0     Jeff Elliott        55   12:14:25   \n",
       "1  39.450498 -109.960431         0  Joanne Williams        33   12:14:33   \n",
       "\n",
       "  trans_year trans_month trans_day  \n",
       "0       2020          06        21  \n",
       "1       2020          06        21  "
      ]
     },
     "execution_count": 56,
     "metadata": {},
     "output_type": "execute_result"
    }
   ],
   "source": [
    "df.head(2)"
   ]
  },
  {
   "cell_type": "code",
   "execution_count": 57,
   "id": "09995828",
   "metadata": {},
   "outputs": [],
   "source": [
    "# df['street'].value_counts()"
   ]
  },
  {
   "cell_type": "code",
   "execution_count": 58,
   "id": "2c07158b",
   "metadata": {},
   "outputs": [],
   "source": [
    "num_cols= df.select_dtypes(include=np.number)\n",
    "cat_cols=df.select_dtypes(include=object)"
   ]
  },
  {
   "cell_type": "code",
   "execution_count": 59,
   "id": "f1f12d34",
   "metadata": {},
   "outputs": [
    {
     "data": {
      "text/html": [
       "<div>\n",
       "<style scoped>\n",
       "    .dataframe tbody tr th:only-of-type {\n",
       "        vertical-align: middle;\n",
       "    }\n",
       "\n",
       "    .dataframe tbody tr th {\n",
       "        vertical-align: top;\n",
       "    }\n",
       "\n",
       "    .dataframe thead th {\n",
       "        text-align: right;\n",
       "    }\n",
       "</style>\n",
       "<table border=\"1\" class=\"dataframe\">\n",
       "  <thead>\n",
       "    <tr style=\"text-align: right;\">\n",
       "      <th></th>\n",
       "      <th>amt</th>\n",
       "      <th>lat</th>\n",
       "      <th>long</th>\n",
       "      <th>city_pop</th>\n",
       "      <th>merch_lat</th>\n",
       "      <th>merch_long</th>\n",
       "      <th>is_fraud</th>\n",
       "      <th>Age_Cust</th>\n",
       "    </tr>\n",
       "  </thead>\n",
       "  <tbody>\n",
       "    <tr>\n",
       "      <th>0</th>\n",
       "      <td>2.86</td>\n",
       "      <td>33.9659</td>\n",
       "      <td>-80.9355</td>\n",
       "      <td>333497</td>\n",
       "      <td>33.986391</td>\n",
       "      <td>-81.200714</td>\n",
       "      <td>0</td>\n",
       "      <td>55</td>\n",
       "    </tr>\n",
       "    <tr>\n",
       "      <th>1</th>\n",
       "      <td>29.84</td>\n",
       "      <td>40.3207</td>\n",
       "      <td>-110.4360</td>\n",
       "      <td>302</td>\n",
       "      <td>39.450498</td>\n",
       "      <td>-109.960431</td>\n",
       "      <td>0</td>\n",
       "      <td>33</td>\n",
       "    </tr>\n",
       "  </tbody>\n",
       "</table>\n",
       "</div>"
      ],
      "text/plain": [
       "     amt      lat      long  city_pop  merch_lat  merch_long  is_fraud  \\\n",
       "0   2.86  33.9659  -80.9355    333497  33.986391  -81.200714         0   \n",
       "1  29.84  40.3207 -110.4360       302  39.450498 -109.960431         0   \n",
       "\n",
       "   Age_Cust  \n",
       "0        55  \n",
       "1        33  "
      ]
     },
     "execution_count": 59,
     "metadata": {},
     "output_type": "execute_result"
    }
   ],
   "source": [
    "num_cols.head(2)"
   ]
  },
  {
   "cell_type": "code",
   "execution_count": 60,
   "id": "8dbc9aaa",
   "metadata": {},
   "outputs": [
    {
     "data": {
      "text/html": [
       "<div>\n",
       "<style scoped>\n",
       "    .dataframe tbody tr th:only-of-type {\n",
       "        vertical-align: middle;\n",
       "    }\n",
       "\n",
       "    .dataframe tbody tr th {\n",
       "        vertical-align: top;\n",
       "    }\n",
       "\n",
       "    .dataframe thead th {\n",
       "        text-align: right;\n",
       "    }\n",
       "</style>\n",
       "<table border=\"1\" class=\"dataframe\">\n",
       "  <thead>\n",
       "    <tr style=\"text-align: right;\">\n",
       "      <th></th>\n",
       "      <th>cc_num</th>\n",
       "      <th>merchant</th>\n",
       "      <th>category</th>\n",
       "      <th>gender</th>\n",
       "      <th>street</th>\n",
       "      <th>city</th>\n",
       "      <th>state</th>\n",
       "      <th>zip</th>\n",
       "      <th>job</th>\n",
       "      <th>trans_num</th>\n",
       "      <th>unix_time</th>\n",
       "      <th>Customer_Name</th>\n",
       "      <th>trans_time</th>\n",
       "      <th>trans_year</th>\n",
       "      <th>trans_month</th>\n",
       "      <th>trans_day</th>\n",
       "    </tr>\n",
       "  </thead>\n",
       "  <tbody>\n",
       "    <tr>\n",
       "      <th>0</th>\n",
       "      <td>2291163933867244</td>\n",
       "      <td>fraud_Kirlin and Sons</td>\n",
       "      <td>personal_care</td>\n",
       "      <td>M</td>\n",
       "      <td>351 Darlene Green</td>\n",
       "      <td>Columbia</td>\n",
       "      <td>SC</td>\n",
       "      <td>29209</td>\n",
       "      <td>Mechanical engineer</td>\n",
       "      <td>2da90c7d74bd46a0caf3777415b3ebd3</td>\n",
       "      <td>1371816865</td>\n",
       "      <td>Jeff Elliott</td>\n",
       "      <td>12:14:25</td>\n",
       "      <td>2020</td>\n",
       "      <td>06</td>\n",
       "      <td>21</td>\n",
       "    </tr>\n",
       "    <tr>\n",
       "      <th>1</th>\n",
       "      <td>3573030041201292</td>\n",
       "      <td>fraud_Sporer-Keebler</td>\n",
       "      <td>personal_care</td>\n",
       "      <td>F</td>\n",
       "      <td>3638 Marsh Union</td>\n",
       "      <td>Altonah</td>\n",
       "      <td>UT</td>\n",
       "      <td>84002</td>\n",
       "      <td>Sales professional, IT</td>\n",
       "      <td>324cc204407e99f51b0d6ca0055005e7</td>\n",
       "      <td>1371816873</td>\n",
       "      <td>Joanne Williams</td>\n",
       "      <td>12:14:33</td>\n",
       "      <td>2020</td>\n",
       "      <td>06</td>\n",
       "      <td>21</td>\n",
       "    </tr>\n",
       "  </tbody>\n",
       "</table>\n",
       "</div>"
      ],
      "text/plain": [
       "             cc_num               merchant       category gender  \\\n",
       "0  2291163933867244  fraud_Kirlin and Sons  personal_care      M   \n",
       "1  3573030041201292   fraud_Sporer-Keebler  personal_care      F   \n",
       "\n",
       "              street      city state    zip                     job  \\\n",
       "0  351 Darlene Green  Columbia    SC  29209     Mechanical engineer   \n",
       "1   3638 Marsh Union   Altonah    UT  84002  Sales professional, IT   \n",
       "\n",
       "                          trans_num   unix_time    Customer_Name trans_time  \\\n",
       "0  2da90c7d74bd46a0caf3777415b3ebd3  1371816865     Jeff Elliott   12:14:25   \n",
       "1  324cc204407e99f51b0d6ca0055005e7  1371816873  Joanne Williams   12:14:33   \n",
       "\n",
       "  trans_year trans_month trans_day  \n",
       "0       2020          06        21  \n",
       "1       2020          06        21  "
      ]
     },
     "execution_count": 60,
     "metadata": {},
     "output_type": "execute_result"
    }
   ],
   "source": [
    "cat_cols.head(2)"
   ]
  },
  {
   "cell_type": "markdown",
   "id": "9270fb53",
   "metadata": {},
   "source": [
    "#### As trans_time is given in 24 hour format, splitting it and taking only the Hours Column."
   ]
  },
  {
   "cell_type": "code",
   "execution_count": 61,
   "id": "7c43f524",
   "metadata": {},
   "outputs": [],
   "source": [
    "df[['Hours','Minute','Second']]=df['trans_time'].str.split(expand=True,pat=':')"
   ]
  },
  {
   "cell_type": "code",
   "execution_count": 62,
   "id": "e7fba23c",
   "metadata": {},
   "outputs": [
    {
     "data": {
      "text/html": [
       "<div>\n",
       "<style scoped>\n",
       "    .dataframe tbody tr th:only-of-type {\n",
       "        vertical-align: middle;\n",
       "    }\n",
       "\n",
       "    .dataframe tbody tr th {\n",
       "        vertical-align: top;\n",
       "    }\n",
       "\n",
       "    .dataframe thead th {\n",
       "        text-align: right;\n",
       "    }\n",
       "</style>\n",
       "<table border=\"1\" class=\"dataframe\">\n",
       "  <thead>\n",
       "    <tr style=\"text-align: right;\">\n",
       "      <th></th>\n",
       "      <th>cc_num</th>\n",
       "      <th>merchant</th>\n",
       "      <th>category</th>\n",
       "      <th>amt</th>\n",
       "      <th>gender</th>\n",
       "      <th>street</th>\n",
       "      <th>city</th>\n",
       "      <th>state</th>\n",
       "      <th>zip</th>\n",
       "      <th>lat</th>\n",
       "      <th>long</th>\n",
       "      <th>city_pop</th>\n",
       "      <th>job</th>\n",
       "      <th>trans_num</th>\n",
       "      <th>unix_time</th>\n",
       "      <th>merch_lat</th>\n",
       "      <th>merch_long</th>\n",
       "      <th>is_fraud</th>\n",
       "      <th>Customer_Name</th>\n",
       "      <th>Age_Cust</th>\n",
       "      <th>trans_time</th>\n",
       "      <th>trans_year</th>\n",
       "      <th>trans_month</th>\n",
       "      <th>trans_day</th>\n",
       "      <th>Hours</th>\n",
       "      <th>Minute</th>\n",
       "      <th>Second</th>\n",
       "    </tr>\n",
       "  </thead>\n",
       "  <tbody>\n",
       "    <tr>\n",
       "      <th>0</th>\n",
       "      <td>2291163933867244</td>\n",
       "      <td>fraud_Kirlin and Sons</td>\n",
       "      <td>personal_care</td>\n",
       "      <td>2.86</td>\n",
       "      <td>M</td>\n",
       "      <td>351 Darlene Green</td>\n",
       "      <td>Columbia</td>\n",
       "      <td>SC</td>\n",
       "      <td>29209</td>\n",
       "      <td>33.9659</td>\n",
       "      <td>-80.9355</td>\n",
       "      <td>333497</td>\n",
       "      <td>Mechanical engineer</td>\n",
       "      <td>2da90c7d74bd46a0caf3777415b3ebd3</td>\n",
       "      <td>1371816865</td>\n",
       "      <td>33.986391</td>\n",
       "      <td>-81.200714</td>\n",
       "      <td>0</td>\n",
       "      <td>Jeff Elliott</td>\n",
       "      <td>55</td>\n",
       "      <td>12:14:25</td>\n",
       "      <td>2020</td>\n",
       "      <td>06</td>\n",
       "      <td>21</td>\n",
       "      <td>12</td>\n",
       "      <td>14</td>\n",
       "      <td>25</td>\n",
       "    </tr>\n",
       "    <tr>\n",
       "      <th>1</th>\n",
       "      <td>3573030041201292</td>\n",
       "      <td>fraud_Sporer-Keebler</td>\n",
       "      <td>personal_care</td>\n",
       "      <td>29.84</td>\n",
       "      <td>F</td>\n",
       "      <td>3638 Marsh Union</td>\n",
       "      <td>Altonah</td>\n",
       "      <td>UT</td>\n",
       "      <td>84002</td>\n",
       "      <td>40.3207</td>\n",
       "      <td>-110.4360</td>\n",
       "      <td>302</td>\n",
       "      <td>Sales professional, IT</td>\n",
       "      <td>324cc204407e99f51b0d6ca0055005e7</td>\n",
       "      <td>1371816873</td>\n",
       "      <td>39.450498</td>\n",
       "      <td>-109.960431</td>\n",
       "      <td>0</td>\n",
       "      <td>Joanne Williams</td>\n",
       "      <td>33</td>\n",
       "      <td>12:14:33</td>\n",
       "      <td>2020</td>\n",
       "      <td>06</td>\n",
       "      <td>21</td>\n",
       "      <td>12</td>\n",
       "      <td>14</td>\n",
       "      <td>33</td>\n",
       "    </tr>\n",
       "  </tbody>\n",
       "</table>\n",
       "</div>"
      ],
      "text/plain": [
       "             cc_num               merchant       category    amt gender  \\\n",
       "0  2291163933867244  fraud_Kirlin and Sons  personal_care   2.86      M   \n",
       "1  3573030041201292   fraud_Sporer-Keebler  personal_care  29.84      F   \n",
       "\n",
       "              street      city state    zip      lat      long  city_pop  \\\n",
       "0  351 Darlene Green  Columbia    SC  29209  33.9659  -80.9355    333497   \n",
       "1   3638 Marsh Union   Altonah    UT  84002  40.3207 -110.4360       302   \n",
       "\n",
       "                      job                         trans_num   unix_time  \\\n",
       "0     Mechanical engineer  2da90c7d74bd46a0caf3777415b3ebd3  1371816865   \n",
       "1  Sales professional, IT  324cc204407e99f51b0d6ca0055005e7  1371816873   \n",
       "\n",
       "   merch_lat  merch_long  is_fraud    Customer_Name  Age_Cust trans_time  \\\n",
       "0  33.986391  -81.200714         0     Jeff Elliott        55   12:14:25   \n",
       "1  39.450498 -109.960431         0  Joanne Williams        33   12:14:33   \n",
       "\n",
       "  trans_year trans_month trans_day Hours Minute Second  \n",
       "0       2020          06        21    12     14     25  \n",
       "1       2020          06        21    12     14     33  "
      ]
     },
     "execution_count": 62,
     "metadata": {},
     "output_type": "execute_result"
    }
   ],
   "source": [
    "df.head(2)"
   ]
  },
  {
   "cell_type": "code",
   "execution_count": 63,
   "id": "d25a7e9c",
   "metadata": {},
   "outputs": [],
   "source": [
    "df.drop(columns=['trans_time','Minute','Second'],inplace=True)"
   ]
  },
  {
   "cell_type": "code",
   "execution_count": 64,
   "id": "d4864fd5",
   "metadata": {},
   "outputs": [
    {
     "data": {
      "text/html": [
       "<div>\n",
       "<style scoped>\n",
       "    .dataframe tbody tr th:only-of-type {\n",
       "        vertical-align: middle;\n",
       "    }\n",
       "\n",
       "    .dataframe tbody tr th {\n",
       "        vertical-align: top;\n",
       "    }\n",
       "\n",
       "    .dataframe thead th {\n",
       "        text-align: right;\n",
       "    }\n",
       "</style>\n",
       "<table border=\"1\" class=\"dataframe\">\n",
       "  <thead>\n",
       "    <tr style=\"text-align: right;\">\n",
       "      <th></th>\n",
       "      <th>cc_num</th>\n",
       "      <th>merchant</th>\n",
       "      <th>category</th>\n",
       "      <th>amt</th>\n",
       "      <th>gender</th>\n",
       "      <th>street</th>\n",
       "      <th>city</th>\n",
       "      <th>state</th>\n",
       "      <th>zip</th>\n",
       "      <th>lat</th>\n",
       "      <th>long</th>\n",
       "      <th>city_pop</th>\n",
       "      <th>job</th>\n",
       "      <th>trans_num</th>\n",
       "      <th>unix_time</th>\n",
       "      <th>merch_lat</th>\n",
       "      <th>merch_long</th>\n",
       "      <th>is_fraud</th>\n",
       "      <th>Customer_Name</th>\n",
       "      <th>Age_Cust</th>\n",
       "      <th>trans_year</th>\n",
       "      <th>trans_month</th>\n",
       "      <th>trans_day</th>\n",
       "      <th>Hours</th>\n",
       "    </tr>\n",
       "  </thead>\n",
       "  <tbody>\n",
       "    <tr>\n",
       "      <th>0</th>\n",
       "      <td>2291163933867244</td>\n",
       "      <td>fraud_Kirlin and Sons</td>\n",
       "      <td>personal_care</td>\n",
       "      <td>2.86</td>\n",
       "      <td>M</td>\n",
       "      <td>351 Darlene Green</td>\n",
       "      <td>Columbia</td>\n",
       "      <td>SC</td>\n",
       "      <td>29209</td>\n",
       "      <td>33.9659</td>\n",
       "      <td>-80.9355</td>\n",
       "      <td>333497</td>\n",
       "      <td>Mechanical engineer</td>\n",
       "      <td>2da90c7d74bd46a0caf3777415b3ebd3</td>\n",
       "      <td>1371816865</td>\n",
       "      <td>33.986391</td>\n",
       "      <td>-81.200714</td>\n",
       "      <td>0</td>\n",
       "      <td>Jeff Elliott</td>\n",
       "      <td>55</td>\n",
       "      <td>2020</td>\n",
       "      <td>06</td>\n",
       "      <td>21</td>\n",
       "      <td>12</td>\n",
       "    </tr>\n",
       "    <tr>\n",
       "      <th>1</th>\n",
       "      <td>3573030041201292</td>\n",
       "      <td>fraud_Sporer-Keebler</td>\n",
       "      <td>personal_care</td>\n",
       "      <td>29.84</td>\n",
       "      <td>F</td>\n",
       "      <td>3638 Marsh Union</td>\n",
       "      <td>Altonah</td>\n",
       "      <td>UT</td>\n",
       "      <td>84002</td>\n",
       "      <td>40.3207</td>\n",
       "      <td>-110.4360</td>\n",
       "      <td>302</td>\n",
       "      <td>Sales professional, IT</td>\n",
       "      <td>324cc204407e99f51b0d6ca0055005e7</td>\n",
       "      <td>1371816873</td>\n",
       "      <td>39.450498</td>\n",
       "      <td>-109.960431</td>\n",
       "      <td>0</td>\n",
       "      <td>Joanne Williams</td>\n",
       "      <td>33</td>\n",
       "      <td>2020</td>\n",
       "      <td>06</td>\n",
       "      <td>21</td>\n",
       "      <td>12</td>\n",
       "    </tr>\n",
       "  </tbody>\n",
       "</table>\n",
       "</div>"
      ],
      "text/plain": [
       "             cc_num               merchant       category    amt gender  \\\n",
       "0  2291163933867244  fraud_Kirlin and Sons  personal_care   2.86      M   \n",
       "1  3573030041201292   fraud_Sporer-Keebler  personal_care  29.84      F   \n",
       "\n",
       "              street      city state    zip      lat      long  city_pop  \\\n",
       "0  351 Darlene Green  Columbia    SC  29209  33.9659  -80.9355    333497   \n",
       "1   3638 Marsh Union   Altonah    UT  84002  40.3207 -110.4360       302   \n",
       "\n",
       "                      job                         trans_num   unix_time  \\\n",
       "0     Mechanical engineer  2da90c7d74bd46a0caf3777415b3ebd3  1371816865   \n",
       "1  Sales professional, IT  324cc204407e99f51b0d6ca0055005e7  1371816873   \n",
       "\n",
       "   merch_lat  merch_long  is_fraud    Customer_Name  Age_Cust trans_year  \\\n",
       "0  33.986391  -81.200714         0     Jeff Elliott        55       2020   \n",
       "1  39.450498 -109.960431         0  Joanne Williams        33       2020   \n",
       "\n",
       "  trans_month trans_day Hours  \n",
       "0          06        21    12  \n",
       "1          06        21    12  "
      ]
     },
     "execution_count": 64,
     "metadata": {},
     "output_type": "execute_result"
    }
   ],
   "source": [
    "df.head(2)"
   ]
  },
  {
   "cell_type": "code",
   "execution_count": 65,
   "id": "319771fa",
   "metadata": {},
   "outputs": [],
   "source": [
    "num_cols= df.select_dtypes(include=np.number)\n",
    "cat_cols=df.select_dtypes(include=object)"
   ]
  },
  {
   "cell_type": "code",
   "execution_count": 66,
   "id": "28629155",
   "metadata": {},
   "outputs": [
    {
     "data": {
      "text/html": [
       "<div>\n",
       "<style scoped>\n",
       "    .dataframe tbody tr th:only-of-type {\n",
       "        vertical-align: middle;\n",
       "    }\n",
       "\n",
       "    .dataframe tbody tr th {\n",
       "        vertical-align: top;\n",
       "    }\n",
       "\n",
       "    .dataframe thead th {\n",
       "        text-align: right;\n",
       "    }\n",
       "</style>\n",
       "<table border=\"1\" class=\"dataframe\">\n",
       "  <thead>\n",
       "    <tr style=\"text-align: right;\">\n",
       "      <th></th>\n",
       "      <th>amt</th>\n",
       "      <th>lat</th>\n",
       "      <th>long</th>\n",
       "      <th>city_pop</th>\n",
       "      <th>merch_lat</th>\n",
       "      <th>merch_long</th>\n",
       "      <th>is_fraud</th>\n",
       "      <th>Age_Cust</th>\n",
       "    </tr>\n",
       "  </thead>\n",
       "  <tbody>\n",
       "    <tr>\n",
       "      <th>0</th>\n",
       "      <td>2.86</td>\n",
       "      <td>33.9659</td>\n",
       "      <td>-80.9355</td>\n",
       "      <td>333497</td>\n",
       "      <td>33.986391</td>\n",
       "      <td>-81.200714</td>\n",
       "      <td>0</td>\n",
       "      <td>55</td>\n",
       "    </tr>\n",
       "    <tr>\n",
       "      <th>1</th>\n",
       "      <td>29.84</td>\n",
       "      <td>40.3207</td>\n",
       "      <td>-110.4360</td>\n",
       "      <td>302</td>\n",
       "      <td>39.450498</td>\n",
       "      <td>-109.960431</td>\n",
       "      <td>0</td>\n",
       "      <td>33</td>\n",
       "    </tr>\n",
       "    <tr>\n",
       "      <th>2</th>\n",
       "      <td>41.28</td>\n",
       "      <td>40.6729</td>\n",
       "      <td>-73.5365</td>\n",
       "      <td>34496</td>\n",
       "      <td>40.495810</td>\n",
       "      <td>-74.196111</td>\n",
       "      <td>0</td>\n",
       "      <td>53</td>\n",
       "    </tr>\n",
       "    <tr>\n",
       "      <th>3</th>\n",
       "      <td>60.05</td>\n",
       "      <td>28.5697</td>\n",
       "      <td>-80.8191</td>\n",
       "      <td>54767</td>\n",
       "      <td>28.812398</td>\n",
       "      <td>-80.883061</td>\n",
       "      <td>0</td>\n",
       "      <td>36</td>\n",
       "    </tr>\n",
       "    <tr>\n",
       "      <th>4</th>\n",
       "      <td>3.19</td>\n",
       "      <td>44.2529</td>\n",
       "      <td>-85.0170</td>\n",
       "      <td>1126</td>\n",
       "      <td>44.959148</td>\n",
       "      <td>-85.884734</td>\n",
       "      <td>0</td>\n",
       "      <td>68</td>\n",
       "    </tr>\n",
       "  </tbody>\n",
       "</table>\n",
       "</div>"
      ],
      "text/plain": [
       "     amt      lat      long  city_pop  merch_lat  merch_long  is_fraud  \\\n",
       "0   2.86  33.9659  -80.9355    333497  33.986391  -81.200714         0   \n",
       "1  29.84  40.3207 -110.4360       302  39.450498 -109.960431         0   \n",
       "2  41.28  40.6729  -73.5365     34496  40.495810  -74.196111         0   \n",
       "3  60.05  28.5697  -80.8191     54767  28.812398  -80.883061         0   \n",
       "4   3.19  44.2529  -85.0170      1126  44.959148  -85.884734         0   \n",
       "\n",
       "   Age_Cust  \n",
       "0        55  \n",
       "1        33  \n",
       "2        53  \n",
       "3        36  \n",
       "4        68  "
      ]
     },
     "execution_count": 66,
     "metadata": {},
     "output_type": "execute_result"
    }
   ],
   "source": [
    "num_cols.head()"
   ]
  },
  {
   "cell_type": "code",
   "execution_count": 67,
   "id": "644468e4",
   "metadata": {},
   "outputs": [
    {
     "data": {
      "text/html": [
       "<div>\n",
       "<style scoped>\n",
       "    .dataframe tbody tr th:only-of-type {\n",
       "        vertical-align: middle;\n",
       "    }\n",
       "\n",
       "    .dataframe tbody tr th {\n",
       "        vertical-align: top;\n",
       "    }\n",
       "\n",
       "    .dataframe thead th {\n",
       "        text-align: right;\n",
       "    }\n",
       "</style>\n",
       "<table border=\"1\" class=\"dataframe\">\n",
       "  <thead>\n",
       "    <tr style=\"text-align: right;\">\n",
       "      <th></th>\n",
       "      <th>cc_num</th>\n",
       "      <th>merchant</th>\n",
       "      <th>category</th>\n",
       "      <th>gender</th>\n",
       "      <th>street</th>\n",
       "      <th>city</th>\n",
       "      <th>state</th>\n",
       "      <th>zip</th>\n",
       "      <th>job</th>\n",
       "      <th>trans_num</th>\n",
       "      <th>unix_time</th>\n",
       "      <th>Customer_Name</th>\n",
       "      <th>trans_year</th>\n",
       "      <th>trans_month</th>\n",
       "      <th>trans_day</th>\n",
       "      <th>Hours</th>\n",
       "    </tr>\n",
       "  </thead>\n",
       "  <tbody>\n",
       "    <tr>\n",
       "      <th>0</th>\n",
       "      <td>2291163933867244</td>\n",
       "      <td>fraud_Kirlin and Sons</td>\n",
       "      <td>personal_care</td>\n",
       "      <td>M</td>\n",
       "      <td>351 Darlene Green</td>\n",
       "      <td>Columbia</td>\n",
       "      <td>SC</td>\n",
       "      <td>29209</td>\n",
       "      <td>Mechanical engineer</td>\n",
       "      <td>2da90c7d74bd46a0caf3777415b3ebd3</td>\n",
       "      <td>1371816865</td>\n",
       "      <td>Jeff Elliott</td>\n",
       "      <td>2020</td>\n",
       "      <td>06</td>\n",
       "      <td>21</td>\n",
       "      <td>12</td>\n",
       "    </tr>\n",
       "    <tr>\n",
       "      <th>1</th>\n",
       "      <td>3573030041201292</td>\n",
       "      <td>fraud_Sporer-Keebler</td>\n",
       "      <td>personal_care</td>\n",
       "      <td>F</td>\n",
       "      <td>3638 Marsh Union</td>\n",
       "      <td>Altonah</td>\n",
       "      <td>UT</td>\n",
       "      <td>84002</td>\n",
       "      <td>Sales professional, IT</td>\n",
       "      <td>324cc204407e99f51b0d6ca0055005e7</td>\n",
       "      <td>1371816873</td>\n",
       "      <td>Joanne Williams</td>\n",
       "      <td>2020</td>\n",
       "      <td>06</td>\n",
       "      <td>21</td>\n",
       "      <td>12</td>\n",
       "    </tr>\n",
       "    <tr>\n",
       "      <th>2</th>\n",
       "      <td>3598215285024754</td>\n",
       "      <td>fraud_Swaniawski, Nitzsche and Welch</td>\n",
       "      <td>health_fitness</td>\n",
       "      <td>F</td>\n",
       "      <td>9333 Valentine Point</td>\n",
       "      <td>Bellmore</td>\n",
       "      <td>NY</td>\n",
       "      <td>11710</td>\n",
       "      <td>Librarian, public</td>\n",
       "      <td>c81755dbbbea9d5c77f094348a7579be</td>\n",
       "      <td>1371816893</td>\n",
       "      <td>Ashley Lopez</td>\n",
       "      <td>2020</td>\n",
       "      <td>06</td>\n",
       "      <td>21</td>\n",
       "      <td>12</td>\n",
       "    </tr>\n",
       "    <tr>\n",
       "      <th>3</th>\n",
       "      <td>3591919803438423</td>\n",
       "      <td>fraud_Haley Group</td>\n",
       "      <td>misc_pos</td>\n",
       "      <td>M</td>\n",
       "      <td>32941 Krystal Mill Apt. 552</td>\n",
       "      <td>Titusville</td>\n",
       "      <td>FL</td>\n",
       "      <td>32780</td>\n",
       "      <td>Set designer</td>\n",
       "      <td>2159175b9efe66dc301f149d3d5abf8c</td>\n",
       "      <td>1371816915</td>\n",
       "      <td>Brian Williams</td>\n",
       "      <td>2020</td>\n",
       "      <td>06</td>\n",
       "      <td>21</td>\n",
       "      <td>12</td>\n",
       "    </tr>\n",
       "    <tr>\n",
       "      <th>4</th>\n",
       "      <td>3526826139003047</td>\n",
       "      <td>fraud_Johnston-Casper</td>\n",
       "      <td>travel</td>\n",
       "      <td>M</td>\n",
       "      <td>5783 Evan Roads Apt. 465</td>\n",
       "      <td>Falmouth</td>\n",
       "      <td>MI</td>\n",
       "      <td>49632</td>\n",
       "      <td>Furniture designer</td>\n",
       "      <td>57ff021bd3f328f8738bb535c302a31b</td>\n",
       "      <td>1371816917</td>\n",
       "      <td>Nathan Massey</td>\n",
       "      <td>2020</td>\n",
       "      <td>06</td>\n",
       "      <td>21</td>\n",
       "      <td>12</td>\n",
       "    </tr>\n",
       "  </tbody>\n",
       "</table>\n",
       "</div>"
      ],
      "text/plain": [
       "             cc_num                              merchant        category  \\\n",
       "0  2291163933867244                 fraud_Kirlin and Sons   personal_care   \n",
       "1  3573030041201292                  fraud_Sporer-Keebler   personal_care   \n",
       "2  3598215285024754  fraud_Swaniawski, Nitzsche and Welch  health_fitness   \n",
       "3  3591919803438423                     fraud_Haley Group        misc_pos   \n",
       "4  3526826139003047                 fraud_Johnston-Casper          travel   \n",
       "\n",
       "  gender                       street        city state    zip  \\\n",
       "0      M            351 Darlene Green    Columbia    SC  29209   \n",
       "1      F             3638 Marsh Union     Altonah    UT  84002   \n",
       "2      F         9333 Valentine Point    Bellmore    NY  11710   \n",
       "3      M  32941 Krystal Mill Apt. 552  Titusville    FL  32780   \n",
       "4      M     5783 Evan Roads Apt. 465    Falmouth    MI  49632   \n",
       "\n",
       "                      job                         trans_num   unix_time  \\\n",
       "0     Mechanical engineer  2da90c7d74bd46a0caf3777415b3ebd3  1371816865   \n",
       "1  Sales professional, IT  324cc204407e99f51b0d6ca0055005e7  1371816873   \n",
       "2       Librarian, public  c81755dbbbea9d5c77f094348a7579be  1371816893   \n",
       "3            Set designer  2159175b9efe66dc301f149d3d5abf8c  1371816915   \n",
       "4      Furniture designer  57ff021bd3f328f8738bb535c302a31b  1371816917   \n",
       "\n",
       "     Customer_Name trans_year trans_month trans_day Hours  \n",
       "0     Jeff Elliott       2020          06        21    12  \n",
       "1  Joanne Williams       2020          06        21    12  \n",
       "2     Ashley Lopez       2020          06        21    12  \n",
       "3   Brian Williams       2020          06        21    12  \n",
       "4    Nathan Massey       2020          06        21    12  "
      ]
     },
     "execution_count": 67,
     "metadata": {},
     "output_type": "execute_result"
    }
   ],
   "source": [
    "cat_cols.head()"
   ]
  },
  {
   "cell_type": "code",
   "execution_count": 68,
   "id": "69e10da4",
   "metadata": {},
   "outputs": [],
   "source": [
    "df.rename(columns={'Hours':'trans_time_24hr'},inplace=True)"
   ]
  },
  {
   "cell_type": "code",
   "execution_count": 69,
   "id": "3c59a1b6",
   "metadata": {},
   "outputs": [
    {
     "data": {
      "text/html": [
       "<div>\n",
       "<style scoped>\n",
       "    .dataframe tbody tr th:only-of-type {\n",
       "        vertical-align: middle;\n",
       "    }\n",
       "\n",
       "    .dataframe tbody tr th {\n",
       "        vertical-align: top;\n",
       "    }\n",
       "\n",
       "    .dataframe thead th {\n",
       "        text-align: right;\n",
       "    }\n",
       "</style>\n",
       "<table border=\"1\" class=\"dataframe\">\n",
       "  <thead>\n",
       "    <tr style=\"text-align: right;\">\n",
       "      <th></th>\n",
       "      <th>cc_num</th>\n",
       "      <th>merchant</th>\n",
       "      <th>category</th>\n",
       "      <th>amt</th>\n",
       "      <th>gender</th>\n",
       "      <th>street</th>\n",
       "      <th>city</th>\n",
       "      <th>state</th>\n",
       "      <th>zip</th>\n",
       "      <th>lat</th>\n",
       "      <th>long</th>\n",
       "      <th>city_pop</th>\n",
       "      <th>job</th>\n",
       "      <th>trans_num</th>\n",
       "      <th>unix_time</th>\n",
       "      <th>merch_lat</th>\n",
       "      <th>merch_long</th>\n",
       "      <th>is_fraud</th>\n",
       "      <th>Customer_Name</th>\n",
       "      <th>Age_Cust</th>\n",
       "      <th>trans_year</th>\n",
       "      <th>trans_month</th>\n",
       "      <th>trans_day</th>\n",
       "      <th>trans_time_24hr</th>\n",
       "    </tr>\n",
       "  </thead>\n",
       "  <tbody>\n",
       "    <tr>\n",
       "      <th>0</th>\n",
       "      <td>2291163933867244</td>\n",
       "      <td>fraud_Kirlin and Sons</td>\n",
       "      <td>personal_care</td>\n",
       "      <td>2.86</td>\n",
       "      <td>M</td>\n",
       "      <td>351 Darlene Green</td>\n",
       "      <td>Columbia</td>\n",
       "      <td>SC</td>\n",
       "      <td>29209</td>\n",
       "      <td>33.9659</td>\n",
       "      <td>-80.9355</td>\n",
       "      <td>333497</td>\n",
       "      <td>Mechanical engineer</td>\n",
       "      <td>2da90c7d74bd46a0caf3777415b3ebd3</td>\n",
       "      <td>1371816865</td>\n",
       "      <td>33.986391</td>\n",
       "      <td>-81.200714</td>\n",
       "      <td>0</td>\n",
       "      <td>Jeff Elliott</td>\n",
       "      <td>55</td>\n",
       "      <td>2020</td>\n",
       "      <td>06</td>\n",
       "      <td>21</td>\n",
       "      <td>12</td>\n",
       "    </tr>\n",
       "    <tr>\n",
       "      <th>1</th>\n",
       "      <td>3573030041201292</td>\n",
       "      <td>fraud_Sporer-Keebler</td>\n",
       "      <td>personal_care</td>\n",
       "      <td>29.84</td>\n",
       "      <td>F</td>\n",
       "      <td>3638 Marsh Union</td>\n",
       "      <td>Altonah</td>\n",
       "      <td>UT</td>\n",
       "      <td>84002</td>\n",
       "      <td>40.3207</td>\n",
       "      <td>-110.4360</td>\n",
       "      <td>302</td>\n",
       "      <td>Sales professional, IT</td>\n",
       "      <td>324cc204407e99f51b0d6ca0055005e7</td>\n",
       "      <td>1371816873</td>\n",
       "      <td>39.450498</td>\n",
       "      <td>-109.960431</td>\n",
       "      <td>0</td>\n",
       "      <td>Joanne Williams</td>\n",
       "      <td>33</td>\n",
       "      <td>2020</td>\n",
       "      <td>06</td>\n",
       "      <td>21</td>\n",
       "      <td>12</td>\n",
       "    </tr>\n",
       "  </tbody>\n",
       "</table>\n",
       "</div>"
      ],
      "text/plain": [
       "             cc_num               merchant       category    amt gender  \\\n",
       "0  2291163933867244  fraud_Kirlin and Sons  personal_care   2.86      M   \n",
       "1  3573030041201292   fraud_Sporer-Keebler  personal_care  29.84      F   \n",
       "\n",
       "              street      city state    zip      lat      long  city_pop  \\\n",
       "0  351 Darlene Green  Columbia    SC  29209  33.9659  -80.9355    333497   \n",
       "1   3638 Marsh Union   Altonah    UT  84002  40.3207 -110.4360       302   \n",
       "\n",
       "                      job                         trans_num   unix_time  \\\n",
       "0     Mechanical engineer  2da90c7d74bd46a0caf3777415b3ebd3  1371816865   \n",
       "1  Sales professional, IT  324cc204407e99f51b0d6ca0055005e7  1371816873   \n",
       "\n",
       "   merch_lat  merch_long  is_fraud    Customer_Name  Age_Cust trans_year  \\\n",
       "0  33.986391  -81.200714         0     Jeff Elliott        55       2020   \n",
       "1  39.450498 -109.960431         0  Joanne Williams        33       2020   \n",
       "\n",
       "  trans_month trans_day trans_time_24hr  \n",
       "0          06        21              12  \n",
       "1          06        21              12  "
      ]
     },
     "execution_count": 69,
     "metadata": {},
     "output_type": "execute_result"
    }
   ],
   "source": [
    "df.head(2)"
   ]
  },
  {
   "cell_type": "code",
   "execution_count": 70,
   "id": "6292295e",
   "metadata": {},
   "outputs": [
    {
     "data": {
      "text/html": [
       "<div>\n",
       "<style scoped>\n",
       "    .dataframe tbody tr th:only-of-type {\n",
       "        vertical-align: middle;\n",
       "    }\n",
       "\n",
       "    .dataframe tbody tr th {\n",
       "        vertical-align: top;\n",
       "    }\n",
       "\n",
       "    .dataframe thead th {\n",
       "        text-align: right;\n",
       "    }\n",
       "</style>\n",
       "<table border=\"1\" class=\"dataframe\">\n",
       "  <thead>\n",
       "    <tr style=\"text-align: right;\">\n",
       "      <th></th>\n",
       "      <th>cc_num</th>\n",
       "      <th>merchant</th>\n",
       "      <th>category</th>\n",
       "      <th>gender</th>\n",
       "      <th>street</th>\n",
       "      <th>city</th>\n",
       "      <th>state</th>\n",
       "      <th>zip</th>\n",
       "      <th>job</th>\n",
       "      <th>trans_num</th>\n",
       "      <th>unix_time</th>\n",
       "      <th>Customer_Name</th>\n",
       "      <th>trans_year</th>\n",
       "      <th>trans_month</th>\n",
       "      <th>trans_day</th>\n",
       "      <th>Hours</th>\n",
       "    </tr>\n",
       "  </thead>\n",
       "  <tbody>\n",
       "    <tr>\n",
       "      <th>0</th>\n",
       "      <td>2291163933867244</td>\n",
       "      <td>fraud_Kirlin and Sons</td>\n",
       "      <td>personal_care</td>\n",
       "      <td>M</td>\n",
       "      <td>351 Darlene Green</td>\n",
       "      <td>Columbia</td>\n",
       "      <td>SC</td>\n",
       "      <td>29209</td>\n",
       "      <td>Mechanical engineer</td>\n",
       "      <td>2da90c7d74bd46a0caf3777415b3ebd3</td>\n",
       "      <td>1371816865</td>\n",
       "      <td>Jeff Elliott</td>\n",
       "      <td>2020</td>\n",
       "      <td>06</td>\n",
       "      <td>21</td>\n",
       "      <td>12</td>\n",
       "    </tr>\n",
       "    <tr>\n",
       "      <th>1</th>\n",
       "      <td>3573030041201292</td>\n",
       "      <td>fraud_Sporer-Keebler</td>\n",
       "      <td>personal_care</td>\n",
       "      <td>F</td>\n",
       "      <td>3638 Marsh Union</td>\n",
       "      <td>Altonah</td>\n",
       "      <td>UT</td>\n",
       "      <td>84002</td>\n",
       "      <td>Sales professional, IT</td>\n",
       "      <td>324cc204407e99f51b0d6ca0055005e7</td>\n",
       "      <td>1371816873</td>\n",
       "      <td>Joanne Williams</td>\n",
       "      <td>2020</td>\n",
       "      <td>06</td>\n",
       "      <td>21</td>\n",
       "      <td>12</td>\n",
       "    </tr>\n",
       "  </tbody>\n",
       "</table>\n",
       "</div>"
      ],
      "text/plain": [
       "             cc_num               merchant       category gender  \\\n",
       "0  2291163933867244  fraud_Kirlin and Sons  personal_care      M   \n",
       "1  3573030041201292   fraud_Sporer-Keebler  personal_care      F   \n",
       "\n",
       "              street      city state    zip                     job  \\\n",
       "0  351 Darlene Green  Columbia    SC  29209     Mechanical engineer   \n",
       "1   3638 Marsh Union   Altonah    UT  84002  Sales professional, IT   \n",
       "\n",
       "                          trans_num   unix_time    Customer_Name trans_year  \\\n",
       "0  2da90c7d74bd46a0caf3777415b3ebd3  1371816865     Jeff Elliott       2020   \n",
       "1  324cc204407e99f51b0d6ca0055005e7  1371816873  Joanne Williams       2020   \n",
       "\n",
       "  trans_month trans_day Hours  \n",
       "0          06        21    12  \n",
       "1          06        21    12  "
      ]
     },
     "execution_count": 70,
     "metadata": {},
     "output_type": "execute_result"
    }
   ],
   "source": [
    "cat_cols.head(2)"
   ]
  },
  {
   "cell_type": "markdown",
   "id": "e7187e32",
   "metadata": {},
   "source": [
    "#### Customer Name would not have impact on Fraud and uniques identity is represented by cc_num"
   ]
  },
  {
   "cell_type": "code",
   "execution_count": 71,
   "id": "a1cdfea1",
   "metadata": {},
   "outputs": [],
   "source": [
    "# df.drop(columns='Customer_Name',inplace=True)"
   ]
  },
  {
   "cell_type": "markdown",
   "id": "7c93ddd9",
   "metadata": {},
   "source": [
    "#### trans_num would also not have impact on Fraud\n",
    "#### unix_time would also not have impact on Fraud"
   ]
  },
  {
   "cell_type": "code",
   "execution_count": 72,
   "id": "f32f9146",
   "metadata": {},
   "outputs": [],
   "source": [
    "df.drop(columns=['Customer_Name','unix_time','trans_num'],inplace=True)\n"
   ]
  },
  {
   "cell_type": "code",
   "execution_count": 73,
   "id": "dcbecb44",
   "metadata": {},
   "outputs": [],
   "source": [
    "num_cols= df.select_dtypes(include=np.number)\n",
    "cat_cols=df.select_dtypes(include=object)"
   ]
  },
  {
   "cell_type": "code",
   "execution_count": 74,
   "id": "1fe36cd6",
   "metadata": {},
   "outputs": [
    {
     "data": {
      "text/html": [
       "<div>\n",
       "<style scoped>\n",
       "    .dataframe tbody tr th:only-of-type {\n",
       "        vertical-align: middle;\n",
       "    }\n",
       "\n",
       "    .dataframe tbody tr th {\n",
       "        vertical-align: top;\n",
       "    }\n",
       "\n",
       "    .dataframe thead th {\n",
       "        text-align: right;\n",
       "    }\n",
       "</style>\n",
       "<table border=\"1\" class=\"dataframe\">\n",
       "  <thead>\n",
       "    <tr style=\"text-align: right;\">\n",
       "      <th></th>\n",
       "      <th>cc_num</th>\n",
       "      <th>merchant</th>\n",
       "      <th>category</th>\n",
       "      <th>gender</th>\n",
       "      <th>street</th>\n",
       "      <th>city</th>\n",
       "      <th>state</th>\n",
       "      <th>zip</th>\n",
       "      <th>job</th>\n",
       "      <th>trans_year</th>\n",
       "      <th>trans_month</th>\n",
       "      <th>trans_day</th>\n",
       "      <th>trans_time_24hr</th>\n",
       "    </tr>\n",
       "  </thead>\n",
       "  <tbody>\n",
       "    <tr>\n",
       "      <th>0</th>\n",
       "      <td>2291163933867244</td>\n",
       "      <td>fraud_Kirlin and Sons</td>\n",
       "      <td>personal_care</td>\n",
       "      <td>M</td>\n",
       "      <td>351 Darlene Green</td>\n",
       "      <td>Columbia</td>\n",
       "      <td>SC</td>\n",
       "      <td>29209</td>\n",
       "      <td>Mechanical engineer</td>\n",
       "      <td>2020</td>\n",
       "      <td>06</td>\n",
       "      <td>21</td>\n",
       "      <td>12</td>\n",
       "    </tr>\n",
       "    <tr>\n",
       "      <th>1</th>\n",
       "      <td>3573030041201292</td>\n",
       "      <td>fraud_Sporer-Keebler</td>\n",
       "      <td>personal_care</td>\n",
       "      <td>F</td>\n",
       "      <td>3638 Marsh Union</td>\n",
       "      <td>Altonah</td>\n",
       "      <td>UT</td>\n",
       "      <td>84002</td>\n",
       "      <td>Sales professional, IT</td>\n",
       "      <td>2020</td>\n",
       "      <td>06</td>\n",
       "      <td>21</td>\n",
       "      <td>12</td>\n",
       "    </tr>\n",
       "    <tr>\n",
       "      <th>2</th>\n",
       "      <td>3598215285024754</td>\n",
       "      <td>fraud_Swaniawski, Nitzsche and Welch</td>\n",
       "      <td>health_fitness</td>\n",
       "      <td>F</td>\n",
       "      <td>9333 Valentine Point</td>\n",
       "      <td>Bellmore</td>\n",
       "      <td>NY</td>\n",
       "      <td>11710</td>\n",
       "      <td>Librarian, public</td>\n",
       "      <td>2020</td>\n",
       "      <td>06</td>\n",
       "      <td>21</td>\n",
       "      <td>12</td>\n",
       "    </tr>\n",
       "  </tbody>\n",
       "</table>\n",
       "</div>"
      ],
      "text/plain": [
       "             cc_num                              merchant        category  \\\n",
       "0  2291163933867244                 fraud_Kirlin and Sons   personal_care   \n",
       "1  3573030041201292                  fraud_Sporer-Keebler   personal_care   \n",
       "2  3598215285024754  fraud_Swaniawski, Nitzsche and Welch  health_fitness   \n",
       "\n",
       "  gender                street      city state    zip                     job  \\\n",
       "0      M     351 Darlene Green  Columbia    SC  29209     Mechanical engineer   \n",
       "1      F      3638 Marsh Union   Altonah    UT  84002  Sales professional, IT   \n",
       "2      F  9333 Valentine Point  Bellmore    NY  11710       Librarian, public   \n",
       "\n",
       "  trans_year trans_month trans_day trans_time_24hr  \n",
       "0       2020          06        21              12  \n",
       "1       2020          06        21              12  \n",
       "2       2020          06        21              12  "
      ]
     },
     "execution_count": 74,
     "metadata": {},
     "output_type": "execute_result"
    }
   ],
   "source": [
    "cat_cols.head(3)"
   ]
  },
  {
   "cell_type": "markdown",
   "id": "edd67663",
   "metadata": {},
   "source": [
    "## Encoding for categorical Columns"
   ]
  },
  {
   "cell_type": "markdown",
   "id": "14e33d73",
   "metadata": {},
   "source": [
    "#### Using Frequency Encoding"
   ]
  },
  {
   "cell_type": "code",
   "execution_count": 75,
   "id": "5b003463",
   "metadata": {},
   "outputs": [],
   "source": [
    "cat_cols=cat_cols.columns"
   ]
  },
  {
   "cell_type": "code",
   "execution_count": 76,
   "id": "4664a737",
   "metadata": {},
   "outputs": [],
   "source": [
    "# a=df['cc_num'].value_counts(normalize=True).to_dict()"
   ]
  },
  {
   "cell_type": "code",
   "execution_count": 77,
   "id": "5c5cff9b",
   "metadata": {},
   "outputs": [],
   "source": [
    "# df['cc_num']=df['cc_num'].replace(a)"
   ]
  },
  {
   "cell_type": "code",
   "execution_count": 78,
   "id": "e452113b",
   "metadata": {},
   "outputs": [],
   "source": [
    "# df.head()"
   ]
  },
  {
   "cell_type": "code",
   "execution_count": 79,
   "id": "30619a06",
   "metadata": {},
   "outputs": [],
   "source": [
    "# for i in cat_cols:\n",
    "#     df[i]=df[i].replace(df[i].value_counts(normalize=True).to_dict())\n",
    "    "
   ]
  },
  {
   "cell_type": "code",
   "execution_count": 80,
   "id": "508d8211",
   "metadata": {},
   "outputs": [
    {
     "data": {
      "text/html": [
       "<div>\n",
       "<style scoped>\n",
       "    .dataframe tbody tr th:only-of-type {\n",
       "        vertical-align: middle;\n",
       "    }\n",
       "\n",
       "    .dataframe tbody tr th {\n",
       "        vertical-align: top;\n",
       "    }\n",
       "\n",
       "    .dataframe thead th {\n",
       "        text-align: right;\n",
       "    }\n",
       "</style>\n",
       "<table border=\"1\" class=\"dataframe\">\n",
       "  <thead>\n",
       "    <tr style=\"text-align: right;\">\n",
       "      <th></th>\n",
       "      <th>cc_num</th>\n",
       "      <th>merchant</th>\n",
       "      <th>category</th>\n",
       "      <th>amt</th>\n",
       "      <th>gender</th>\n",
       "      <th>street</th>\n",
       "      <th>city</th>\n",
       "      <th>state</th>\n",
       "      <th>zip</th>\n",
       "      <th>lat</th>\n",
       "      <th>long</th>\n",
       "      <th>city_pop</th>\n",
       "      <th>job</th>\n",
       "      <th>merch_lat</th>\n",
       "      <th>merch_long</th>\n",
       "      <th>is_fraud</th>\n",
       "      <th>Age_Cust</th>\n",
       "      <th>trans_year</th>\n",
       "      <th>trans_month</th>\n",
       "      <th>trans_day</th>\n",
       "      <th>trans_time_24hr</th>\n",
       "    </tr>\n",
       "  </thead>\n",
       "  <tbody>\n",
       "    <tr>\n",
       "      <th>0</th>\n",
       "      <td>2291163933867244</td>\n",
       "      <td>fraud_Kirlin and Sons</td>\n",
       "      <td>personal_care</td>\n",
       "      <td>2.86</td>\n",
       "      <td>M</td>\n",
       "      <td>351 Darlene Green</td>\n",
       "      <td>Columbia</td>\n",
       "      <td>SC</td>\n",
       "      <td>29209</td>\n",
       "      <td>33.9659</td>\n",
       "      <td>-80.9355</td>\n",
       "      <td>333497</td>\n",
       "      <td>Mechanical engineer</td>\n",
       "      <td>33.986391</td>\n",
       "      <td>-81.200714</td>\n",
       "      <td>0</td>\n",
       "      <td>55</td>\n",
       "      <td>2020</td>\n",
       "      <td>06</td>\n",
       "      <td>21</td>\n",
       "      <td>12</td>\n",
       "    </tr>\n",
       "    <tr>\n",
       "      <th>1</th>\n",
       "      <td>3573030041201292</td>\n",
       "      <td>fraud_Sporer-Keebler</td>\n",
       "      <td>personal_care</td>\n",
       "      <td>29.84</td>\n",
       "      <td>F</td>\n",
       "      <td>3638 Marsh Union</td>\n",
       "      <td>Altonah</td>\n",
       "      <td>UT</td>\n",
       "      <td>84002</td>\n",
       "      <td>40.3207</td>\n",
       "      <td>-110.4360</td>\n",
       "      <td>302</td>\n",
       "      <td>Sales professional, IT</td>\n",
       "      <td>39.450498</td>\n",
       "      <td>-109.960431</td>\n",
       "      <td>0</td>\n",
       "      <td>33</td>\n",
       "      <td>2020</td>\n",
       "      <td>06</td>\n",
       "      <td>21</td>\n",
       "      <td>12</td>\n",
       "    </tr>\n",
       "    <tr>\n",
       "      <th>2</th>\n",
       "      <td>3598215285024754</td>\n",
       "      <td>fraud_Swaniawski, Nitzsche and Welch</td>\n",
       "      <td>health_fitness</td>\n",
       "      <td>41.28</td>\n",
       "      <td>F</td>\n",
       "      <td>9333 Valentine Point</td>\n",
       "      <td>Bellmore</td>\n",
       "      <td>NY</td>\n",
       "      <td>11710</td>\n",
       "      <td>40.6729</td>\n",
       "      <td>-73.5365</td>\n",
       "      <td>34496</td>\n",
       "      <td>Librarian, public</td>\n",
       "      <td>40.495810</td>\n",
       "      <td>-74.196111</td>\n",
       "      <td>0</td>\n",
       "      <td>53</td>\n",
       "      <td>2020</td>\n",
       "      <td>06</td>\n",
       "      <td>21</td>\n",
       "      <td>12</td>\n",
       "    </tr>\n",
       "  </tbody>\n",
       "</table>\n",
       "</div>"
      ],
      "text/plain": [
       "             cc_num                              merchant        category  \\\n",
       "0  2291163933867244                 fraud_Kirlin and Sons   personal_care   \n",
       "1  3573030041201292                  fraud_Sporer-Keebler   personal_care   \n",
       "2  3598215285024754  fraud_Swaniawski, Nitzsche and Welch  health_fitness   \n",
       "\n",
       "     amt gender                street      city state    zip      lat  \\\n",
       "0   2.86      M     351 Darlene Green  Columbia    SC  29209  33.9659   \n",
       "1  29.84      F      3638 Marsh Union   Altonah    UT  84002  40.3207   \n",
       "2  41.28      F  9333 Valentine Point  Bellmore    NY  11710  40.6729   \n",
       "\n",
       "       long  city_pop                     job  merch_lat  merch_long  \\\n",
       "0  -80.9355    333497     Mechanical engineer  33.986391  -81.200714   \n",
       "1 -110.4360       302  Sales professional, IT  39.450498 -109.960431   \n",
       "2  -73.5365     34496       Librarian, public  40.495810  -74.196111   \n",
       "\n",
       "   is_fraud  Age_Cust trans_year trans_month trans_day trans_time_24hr  \n",
       "0         0        55       2020          06        21              12  \n",
       "1         0        33       2020          06        21              12  \n",
       "2         0        53       2020          06        21              12  "
      ]
     },
     "execution_count": 80,
     "metadata": {},
     "output_type": "execute_result"
    }
   ],
   "source": [
    "df.head(3)"
   ]
  },
  {
   "cell_type": "code",
   "execution_count": 81,
   "id": "2f793838",
   "metadata": {},
   "outputs": [
    {
     "data": {
      "text/plain": [
       "Index(['cc_num', 'merchant', 'category', 'gender', 'street', 'city', 'state',\n",
       "       'zip', 'job', 'trans_year', 'trans_month', 'trans_day',\n",
       "       'trans_time_24hr'],\n",
       "      dtype='object')"
      ]
     },
     "execution_count": 81,
     "metadata": {},
     "output_type": "execute_result"
    }
   ],
   "source": [
    "cat_cols"
   ]
  },
  {
   "cell_type": "code",
   "execution_count": 82,
   "id": "3c595a1f",
   "metadata": {},
   "outputs": [],
   "source": [
    "cat_cols1=['cc_num', 'merchant', 'category', 'gender', 'street', 'city', 'state']"
   ]
  },
  {
   "cell_type": "code",
   "execution_count": 83,
   "id": "f27663d0",
   "metadata": {},
   "outputs": [],
   "source": [
    "cat_cols2=['zip', 'job', 'trans_year', 'trans_month', 'trans_day','trans_time_24hr']"
   ]
  },
  {
   "cell_type": "code",
   "execution_count": 84,
   "id": "88ae8e66",
   "metadata": {},
   "outputs": [],
   "source": [
    "for i in cat_cols1:\n",
    "    df[i]=df[i].replace(df[i].value_counts(normalize=True).to_dict())"
   ]
  },
  {
   "cell_type": "code",
   "execution_count": 85,
   "id": "90e5e81d",
   "metadata": {},
   "outputs": [],
   "source": [
    "for i in cat_cols2:\n",
    "    df[i]=df[i].replace(df[i].value_counts(normalize=True).to_dict())"
   ]
  },
  {
   "cell_type": "code",
   "execution_count": 86,
   "id": "49362e1c",
   "metadata": {},
   "outputs": [],
   "source": [
    "# cat_cols"
   ]
  },
  {
   "cell_type": "code",
   "execution_count": 87,
   "id": "d8f1337e",
   "metadata": {},
   "outputs": [
    {
     "data": {
      "text/html": [
       "<div>\n",
       "<style scoped>\n",
       "    .dataframe tbody tr th:only-of-type {\n",
       "        vertical-align: middle;\n",
       "    }\n",
       "\n",
       "    .dataframe tbody tr th {\n",
       "        vertical-align: top;\n",
       "    }\n",
       "\n",
       "    .dataframe thead th {\n",
       "        text-align: right;\n",
       "    }\n",
       "</style>\n",
       "<table border=\"1\" class=\"dataframe\">\n",
       "  <thead>\n",
       "    <tr style=\"text-align: right;\">\n",
       "      <th></th>\n",
       "      <th>cc_num</th>\n",
       "      <th>merchant</th>\n",
       "      <th>category</th>\n",
       "      <th>amt</th>\n",
       "      <th>gender</th>\n",
       "      <th>street</th>\n",
       "      <th>city</th>\n",
       "      <th>state</th>\n",
       "      <th>zip</th>\n",
       "      <th>lat</th>\n",
       "      <th>long</th>\n",
       "      <th>city_pop</th>\n",
       "      <th>job</th>\n",
       "      <th>merch_lat</th>\n",
       "      <th>merch_long</th>\n",
       "      <th>is_fraud</th>\n",
       "      <th>Age_Cust</th>\n",
       "      <th>trans_year</th>\n",
       "      <th>trans_month</th>\n",
       "      <th>trans_day</th>\n",
       "      <th>trans_time_24hr</th>\n",
       "    </tr>\n",
       "  </thead>\n",
       "  <tbody>\n",
       "    <tr>\n",
       "      <th>0</th>\n",
       "      <td>0.001152</td>\n",
       "      <td>0.001324</td>\n",
       "      <td>0.070768</td>\n",
       "      <td>2.86</td>\n",
       "      <td>0.451367</td>\n",
       "      <td>0.001152</td>\n",
       "      <td>0.001152</td>\n",
       "      <td>0.022567</td>\n",
       "      <td>0.001152</td>\n",
       "      <td>33.9659</td>\n",
       "      <td>-80.9355</td>\n",
       "      <td>333497</td>\n",
       "      <td>0.004373</td>\n",
       "      <td>33.986391</td>\n",
       "      <td>-81.200714</td>\n",
       "      <td>0</td>\n",
       "      <td>55</td>\n",
       "      <td>1.0</td>\n",
       "      <td>0.054088</td>\n",
       "      <td>0.038061</td>\n",
       "      <td>0.050452</td>\n",
       "    </tr>\n",
       "    <tr>\n",
       "      <th>1</th>\n",
       "      <td>0.001506</td>\n",
       "      <td>0.001413</td>\n",
       "      <td>0.070768</td>\n",
       "      <td>29.84</td>\n",
       "      <td>0.548633</td>\n",
       "      <td>0.001506</td>\n",
       "      <td>0.001506</td>\n",
       "      <td>0.008382</td>\n",
       "      <td>0.001506</td>\n",
       "      <td>40.3207</td>\n",
       "      <td>-110.4360</td>\n",
       "      <td>302</td>\n",
       "      <td>0.004562</td>\n",
       "      <td>39.450498</td>\n",
       "      <td>-109.960431</td>\n",
       "      <td>0</td>\n",
       "      <td>33</td>\n",
       "      <td>1.0</td>\n",
       "      <td>0.054088</td>\n",
       "      <td>0.038061</td>\n",
       "      <td>0.050452</td>\n",
       "    </tr>\n",
       "    <tr>\n",
       "      <th>2</th>\n",
       "      <td>0.001931</td>\n",
       "      <td>0.001359</td>\n",
       "      <td>0.065994</td>\n",
       "      <td>41.28</td>\n",
       "      <td>0.548633</td>\n",
       "      <td>0.001931</td>\n",
       "      <td>0.001931</td>\n",
       "      <td>0.064633</td>\n",
       "      <td>0.001931</td>\n",
       "      <td>40.6729</td>\n",
       "      <td>-73.5365</td>\n",
       "      <td>34496</td>\n",
       "      <td>0.004655</td>\n",
       "      <td>40.495810</td>\n",
       "      <td>-74.196111</td>\n",
       "      <td>0</td>\n",
       "      <td>53</td>\n",
       "      <td>1.0</td>\n",
       "      <td>0.054088</td>\n",
       "      <td>0.038061</td>\n",
       "      <td>0.050452</td>\n",
       "    </tr>\n",
       "    <tr>\n",
       "      <th>3</th>\n",
       "      <td>0.001193</td>\n",
       "      <td>0.001279</td>\n",
       "      <td>0.062215</td>\n",
       "      <td>60.05</td>\n",
       "      <td>0.451367</td>\n",
       "      <td>0.001193</td>\n",
       "      <td>0.001193</td>\n",
       "      <td>0.032578</td>\n",
       "      <td>0.001193</td>\n",
       "      <td>28.5697</td>\n",
       "      <td>-80.8191</td>\n",
       "      <td>54767</td>\n",
       "      <td>0.001193</td>\n",
       "      <td>28.812398</td>\n",
       "      <td>-80.883061</td>\n",
       "      <td>0</td>\n",
       "      <td>36</td>\n",
       "      <td>1.0</td>\n",
       "      <td>0.054088</td>\n",
       "      <td>0.038061</td>\n",
       "      <td>0.050452</td>\n",
       "    </tr>\n",
       "    <tr>\n",
       "      <th>4</th>\n",
       "      <td>0.001603</td>\n",
       "      <td>0.000666</td>\n",
       "      <td>0.031399</td>\n",
       "      <td>3.19</td>\n",
       "      <td>0.451367</td>\n",
       "      <td>0.001603</td>\n",
       "      <td>0.001603</td>\n",
       "      <td>0.035397</td>\n",
       "      <td>0.001603</td>\n",
       "      <td>44.2529</td>\n",
       "      <td>-85.0170</td>\n",
       "      <td>1126</td>\n",
       "      <td>0.001603</td>\n",
       "      <td>44.959148</td>\n",
       "      <td>-85.884734</td>\n",
       "      <td>0</td>\n",
       "      <td>68</td>\n",
       "      <td>1.0</td>\n",
       "      <td>0.054088</td>\n",
       "      <td>0.038061</td>\n",
       "      <td>0.050452</td>\n",
       "    </tr>\n",
       "  </tbody>\n",
       "</table>\n",
       "</div>"
      ],
      "text/plain": [
       "     cc_num  merchant  category    amt    gender    street      city  \\\n",
       "0  0.001152  0.001324  0.070768   2.86  0.451367  0.001152  0.001152   \n",
       "1  0.001506  0.001413  0.070768  29.84  0.548633  0.001506  0.001506   \n",
       "2  0.001931  0.001359  0.065994  41.28  0.548633  0.001931  0.001931   \n",
       "3  0.001193  0.001279  0.062215  60.05  0.451367  0.001193  0.001193   \n",
       "4  0.001603  0.000666  0.031399   3.19  0.451367  0.001603  0.001603   \n",
       "\n",
       "      state       zip      lat      long  city_pop       job  merch_lat  \\\n",
       "0  0.022567  0.001152  33.9659  -80.9355    333497  0.004373  33.986391   \n",
       "1  0.008382  0.001506  40.3207 -110.4360       302  0.004562  39.450498   \n",
       "2  0.064633  0.001931  40.6729  -73.5365     34496  0.004655  40.495810   \n",
       "3  0.032578  0.001193  28.5697  -80.8191     54767  0.001193  28.812398   \n",
       "4  0.035397  0.001603  44.2529  -85.0170      1126  0.001603  44.959148   \n",
       "\n",
       "   merch_long  is_fraud  Age_Cust  trans_year  trans_month  trans_day  \\\n",
       "0  -81.200714         0        55         1.0     0.054088   0.038061   \n",
       "1 -109.960431         0        33         1.0     0.054088   0.038061   \n",
       "2  -74.196111         0        53         1.0     0.054088   0.038061   \n",
       "3  -80.883061         0        36         1.0     0.054088   0.038061   \n",
       "4  -85.884734         0        68         1.0     0.054088   0.038061   \n",
       "\n",
       "   trans_time_24hr  \n",
       "0         0.050452  \n",
       "1         0.050452  \n",
       "2         0.050452  \n",
       "3         0.050452  \n",
       "4         0.050452  "
      ]
     },
     "execution_count": 87,
     "metadata": {},
     "output_type": "execute_result"
    }
   ],
   "source": [
    "df.head()"
   ]
  },
  {
   "cell_type": "markdown",
   "id": "901beb6a",
   "metadata": {},
   "source": [
    "### Scaling Numerical Columns"
   ]
  },
  {
   "cell_type": "code",
   "execution_count": 88,
   "id": "a6b5b798",
   "metadata": {},
   "outputs": [],
   "source": [
    "from sklearn.preprocessing import MinMaxScaler"
   ]
  },
  {
   "cell_type": "code",
   "execution_count": 89,
   "id": "35f183dc",
   "metadata": {},
   "outputs": [],
   "source": [
    "mms=MinMaxScaler()"
   ]
  },
  {
   "cell_type": "code",
   "execution_count": 90,
   "id": "ce7e3bbf",
   "metadata": {},
   "outputs": [],
   "source": [
    "num_cols=num_cols.columns"
   ]
  },
  {
   "cell_type": "code",
   "execution_count": 91,
   "id": "c6b54b4e",
   "metadata": {},
   "outputs": [
    {
     "data": {
      "text/plain": [
       "Index(['amt', 'lat', 'long', 'city_pop', 'merch_lat', 'merch_long', 'is_fraud',\n",
       "       'Age_Cust'],\n",
       "      dtype='object')"
      ]
     },
     "execution_count": 91,
     "metadata": {},
     "output_type": "execute_result"
    }
   ],
   "source": [
    "num_cols"
   ]
  },
  {
   "cell_type": "code",
   "execution_count": 92,
   "id": "810f3ff7",
   "metadata": {},
   "outputs": [],
   "source": [
    "num_cols1=['amt', 'lat', 'long', 'city_pop', 'merch_lat', 'merch_long','Age_Cust']"
   ]
  },
  {
   "cell_type": "code",
   "execution_count": 93,
   "id": "2e5427bd",
   "metadata": {},
   "outputs": [],
   "source": [
    "for i in num_cols1:\n",
    "    df[i] = mms.fit_transform(pd.DataFrame(df[i]))"
   ]
  },
  {
   "cell_type": "code",
   "execution_count": 94,
   "id": "0aab3ff1",
   "metadata": {},
   "outputs": [
    {
     "data": {
      "text/html": [
       "<div>\n",
       "<style scoped>\n",
       "    .dataframe tbody tr th:only-of-type {\n",
       "        vertical-align: middle;\n",
       "    }\n",
       "\n",
       "    .dataframe tbody tr th {\n",
       "        vertical-align: top;\n",
       "    }\n",
       "\n",
       "    .dataframe thead th {\n",
       "        text-align: right;\n",
       "    }\n",
       "</style>\n",
       "<table border=\"1\" class=\"dataframe\">\n",
       "  <thead>\n",
       "    <tr style=\"text-align: right;\">\n",
       "      <th></th>\n",
       "      <th>cc_num</th>\n",
       "      <th>merchant</th>\n",
       "      <th>category</th>\n",
       "      <th>amt</th>\n",
       "      <th>gender</th>\n",
       "      <th>street</th>\n",
       "      <th>city</th>\n",
       "      <th>state</th>\n",
       "      <th>zip</th>\n",
       "      <th>lat</th>\n",
       "      <th>long</th>\n",
       "      <th>city_pop</th>\n",
       "      <th>job</th>\n",
       "      <th>merch_lat</th>\n",
       "      <th>merch_long</th>\n",
       "      <th>is_fraud</th>\n",
       "      <th>Age_Cust</th>\n",
       "      <th>trans_year</th>\n",
       "      <th>trans_month</th>\n",
       "      <th>trans_day</th>\n",
       "      <th>trans_time_24hr</th>\n",
       "    </tr>\n",
       "  </thead>\n",
       "  <tbody>\n",
       "    <tr>\n",
       "      <th>0</th>\n",
       "      <td>0.001152</td>\n",
       "      <td>0.001324</td>\n",
       "      <td>0.070768</td>\n",
       "      <td>0.000082</td>\n",
       "      <td>0.451367</td>\n",
       "      <td>0.001152</td>\n",
       "      <td>0.001152</td>\n",
       "      <td>0.022567</td>\n",
       "      <td>0.001152</td>\n",
       "      <td>0.305255</td>\n",
       "      <td>0.867121</td>\n",
       "      <td>0.114727</td>\n",
       "      <td>0.004373</td>\n",
       "      <td>0.313922</td>\n",
       "      <td>0.857112</td>\n",
       "      <td>0</td>\n",
       "      <td>0.456790</td>\n",
       "      <td>1.0</td>\n",
       "      <td>0.054088</td>\n",
       "      <td>0.038061</td>\n",
       "      <td>0.050452</td>\n",
       "    </tr>\n",
       "    <tr>\n",
       "      <th>1</th>\n",
       "      <td>0.001506</td>\n",
       "      <td>0.001413</td>\n",
       "      <td>0.070768</td>\n",
       "      <td>0.001267</td>\n",
       "      <td>0.548633</td>\n",
       "      <td>0.001506</td>\n",
       "      <td>0.001506</td>\n",
       "      <td>0.008382</td>\n",
       "      <td>0.001506</td>\n",
       "      <td>0.444423</td>\n",
       "      <td>0.565239</td>\n",
       "      <td>0.000096</td>\n",
       "      <td>0.004562</td>\n",
       "      <td>0.428589</td>\n",
       "      <td>0.568706</td>\n",
       "      <td>0</td>\n",
       "      <td>0.185185</td>\n",
       "      <td>1.0</td>\n",
       "      <td>0.054088</td>\n",
       "      <td>0.038061</td>\n",
       "      <td>0.050452</td>\n",
       "    </tr>\n",
       "    <tr>\n",
       "      <th>2</th>\n",
       "      <td>0.001931</td>\n",
       "      <td>0.001359</td>\n",
       "      <td>0.065994</td>\n",
       "      <td>0.001769</td>\n",
       "      <td>0.548633</td>\n",
       "      <td>0.001931</td>\n",
       "      <td>0.001931</td>\n",
       "      <td>0.064633</td>\n",
       "      <td>0.001931</td>\n",
       "      <td>0.452136</td>\n",
       "      <td>0.942836</td>\n",
       "      <td>0.011860</td>\n",
       "      <td>0.004655</td>\n",
       "      <td>0.450526</td>\n",
       "      <td>0.927355</td>\n",
       "      <td>0</td>\n",
       "      <td>0.432099</td>\n",
       "      <td>1.0</td>\n",
       "      <td>0.054088</td>\n",
       "      <td>0.038061</td>\n",
       "      <td>0.050452</td>\n",
       "    </tr>\n",
       "    <tr>\n",
       "      <th>3</th>\n",
       "      <td>0.001193</td>\n",
       "      <td>0.001279</td>\n",
       "      <td>0.062215</td>\n",
       "      <td>0.002594</td>\n",
       "      <td>0.451367</td>\n",
       "      <td>0.001193</td>\n",
       "      <td>0.001193</td>\n",
       "      <td>0.032578</td>\n",
       "      <td>0.001193</td>\n",
       "      <td>0.187080</td>\n",
       "      <td>0.868312</td>\n",
       "      <td>0.018834</td>\n",
       "      <td>0.001193</td>\n",
       "      <td>0.205343</td>\n",
       "      <td>0.860298</td>\n",
       "      <td>0</td>\n",
       "      <td>0.222222</td>\n",
       "      <td>1.0</td>\n",
       "      <td>0.054088</td>\n",
       "      <td>0.038061</td>\n",
       "      <td>0.050452</td>\n",
       "    </tr>\n",
       "    <tr>\n",
       "      <th>4</th>\n",
       "      <td>0.001603</td>\n",
       "      <td>0.000666</td>\n",
       "      <td>0.031399</td>\n",
       "      <td>0.000096</td>\n",
       "      <td>0.451367</td>\n",
       "      <td>0.001603</td>\n",
       "      <td>0.001603</td>\n",
       "      <td>0.035397</td>\n",
       "      <td>0.001603</td>\n",
       "      <td>0.530537</td>\n",
       "      <td>0.825355</td>\n",
       "      <td>0.000379</td>\n",
       "      <td>0.001603</td>\n",
       "      <td>0.544191</td>\n",
       "      <td>0.810140</td>\n",
       "      <td>0</td>\n",
       "      <td>0.617284</td>\n",
       "      <td>1.0</td>\n",
       "      <td>0.054088</td>\n",
       "      <td>0.038061</td>\n",
       "      <td>0.050452</td>\n",
       "    </tr>\n",
       "  </tbody>\n",
       "</table>\n",
       "</div>"
      ],
      "text/plain": [
       "     cc_num  merchant  category       amt    gender    street      city  \\\n",
       "0  0.001152  0.001324  0.070768  0.000082  0.451367  0.001152  0.001152   \n",
       "1  0.001506  0.001413  0.070768  0.001267  0.548633  0.001506  0.001506   \n",
       "2  0.001931  0.001359  0.065994  0.001769  0.548633  0.001931  0.001931   \n",
       "3  0.001193  0.001279  0.062215  0.002594  0.451367  0.001193  0.001193   \n",
       "4  0.001603  0.000666  0.031399  0.000096  0.451367  0.001603  0.001603   \n",
       "\n",
       "      state       zip       lat      long  city_pop       job  merch_lat  \\\n",
       "0  0.022567  0.001152  0.305255  0.867121  0.114727  0.004373   0.313922   \n",
       "1  0.008382  0.001506  0.444423  0.565239  0.000096  0.004562   0.428589   \n",
       "2  0.064633  0.001931  0.452136  0.942836  0.011860  0.004655   0.450526   \n",
       "3  0.032578  0.001193  0.187080  0.868312  0.018834  0.001193   0.205343   \n",
       "4  0.035397  0.001603  0.530537  0.825355  0.000379  0.001603   0.544191   \n",
       "\n",
       "   merch_long  is_fraud  Age_Cust  trans_year  trans_month  trans_day  \\\n",
       "0    0.857112         0  0.456790         1.0     0.054088   0.038061   \n",
       "1    0.568706         0  0.185185         1.0     0.054088   0.038061   \n",
       "2    0.927355         0  0.432099         1.0     0.054088   0.038061   \n",
       "3    0.860298         0  0.222222         1.0     0.054088   0.038061   \n",
       "4    0.810140         0  0.617284         1.0     0.054088   0.038061   \n",
       "\n",
       "   trans_time_24hr  \n",
       "0         0.050452  \n",
       "1         0.050452  \n",
       "2         0.050452  \n",
       "3         0.050452  \n",
       "4         0.050452  "
      ]
     },
     "execution_count": 94,
     "metadata": {},
     "output_type": "execute_result"
    }
   ],
   "source": [
    "df.head()"
   ]
  },
  {
   "cell_type": "markdown",
   "id": "bea9db81",
   "metadata": {},
   "source": [
    "#### All the transactions have happened in the same year"
   ]
  },
  {
   "cell_type": "code",
   "execution_count": 95,
   "id": "dc151a54",
   "metadata": {},
   "outputs": [
    {
     "data": {
      "text/plain": [
       "1.0    555719\n",
       "Name: trans_year, dtype: int64"
      ]
     },
     "execution_count": 95,
     "metadata": {},
     "output_type": "execute_result"
    }
   ],
   "source": [
    "df['trans_year'].value_counts()"
   ]
  },
  {
   "cell_type": "markdown",
   "id": "337e8e1e",
   "metadata": {},
   "source": [
    "# Train Test Split"
   ]
  },
  {
   "cell_type": "code",
   "execution_count": 96,
   "id": "0f3fe3d0",
   "metadata": {},
   "outputs": [],
   "source": [
    "x=df.drop(columns=['is_fraud'])\n",
    "y=df['is_fraud']"
   ]
  },
  {
   "cell_type": "code",
   "execution_count": 97,
   "id": "750f7f0c",
   "metadata": {},
   "outputs": [],
   "source": [
    "from sklearn.model_selection import train_test_split"
   ]
  },
  {
   "cell_type": "code",
   "execution_count": 98,
   "id": "960e47ae",
   "metadata": {},
   "outputs": [],
   "source": [
    "x_train,x_test,y_train,y_test = train_test_split(x,y,train_size=0.8,stratify=y, random_state=2)"
   ]
  },
  {
   "cell_type": "code",
   "execution_count": 99,
   "id": "6f61e5d0",
   "metadata": {},
   "outputs": [
    {
     "name": "stdout",
     "output_type": "stream",
     "text": [
      "(444575, 20) (111144, 20) (444575,) (111144,)\n"
     ]
    }
   ],
   "source": [
    "print(x_train.shape, x_test.shape, y_train.shape, y_test.shape)"
   ]
  },
  {
   "cell_type": "code",
   "execution_count": 100,
   "id": "8c93c058",
   "metadata": {},
   "outputs": [
    {
     "data": {
      "text/plain": [
       "0    0.99614\n",
       "1    0.00386\n",
       "Name: is_fraud, dtype: float64"
      ]
     },
     "execution_count": 100,
     "metadata": {},
     "output_type": "execute_result"
    }
   ],
   "source": [
    "y.value_counts(normalize=True)"
   ]
  },
  {
   "cell_type": "code",
   "execution_count": 101,
   "id": "6a4a59dc",
   "metadata": {},
   "outputs": [
    {
     "data": {
      "text/plain": [
       "0    0.99614\n",
       "1    0.00386\n",
       "Name: is_fraud, dtype: float64"
      ]
     },
     "execution_count": 101,
     "metadata": {},
     "output_type": "execute_result"
    }
   ],
   "source": [
    "y_train.value_counts(normalize=True)"
   ]
  },
  {
   "cell_type": "code",
   "execution_count": 102,
   "id": "ac658ad9",
   "metadata": {},
   "outputs": [
    {
     "data": {
      "text/plain": [
       "0    0.99614\n",
       "1    0.00386\n",
       "Name: is_fraud, dtype: float64"
      ]
     },
     "execution_count": 102,
     "metadata": {},
     "output_type": "execute_result"
    }
   ],
   "source": [
    "y_test.value_counts(normalize=True)"
   ]
  },
  {
   "cell_type": "markdown",
   "id": "e0678b98",
   "metadata": {},
   "source": [
    "# Base Model"
   ]
  },
  {
   "cell_type": "code",
   "execution_count": 103,
   "id": "593b1d9a",
   "metadata": {},
   "outputs": [],
   "source": [
    "import statsmodels.api as sm\n",
    "X_train=sm.add_constant(x_train)\n",
    "X_test=sm.add_constant(x_test)"
   ]
  },
  {
   "cell_type": "code",
   "execution_count": 104,
   "id": "93399faa",
   "metadata": {},
   "outputs": [
    {
     "name": "stdout",
     "output_type": "stream",
     "text": [
      "Warning: Maximum number of iterations has been exceeded.\n",
      "         Current function value: 0.022425\n",
      "         Iterations: 35\n"
     ]
    },
    {
     "name": "stderr",
     "output_type": "stream",
     "text": [
      "C:\\Users\\dell\\anaconda3\\lib\\site-packages\\statsmodels\\base\\model.py:604: ConvergenceWarning: Maximum Likelihood optimization failed to converge. Check mle_retvals\n",
      "  warnings.warn(\"Maximum Likelihood optimization failed to \"\n"
     ]
    }
   ],
   "source": [
    "base_model=sm.Logit(y_train,X_train).fit()"
   ]
  },
  {
   "cell_type": "code",
   "execution_count": 122,
   "id": "e5ddca1c",
   "metadata": {},
   "outputs": [
    {
     "data": {
      "text/html": [
       "<table class=\"simpletable\">\n",
       "<caption>Logit Regression Results</caption>\n",
       "<tr>\n",
       "  <th>Dep. Variable:</th>       <td>is_fraud</td>     <th>  No. Observations:  </th>  <td>444575</td> \n",
       "</tr>\n",
       "<tr>\n",
       "  <th>Model:</th>                 <td>Logit</td>      <th>  Df Residuals:      </th>  <td>444556</td> \n",
       "</tr>\n",
       "<tr>\n",
       "  <th>Method:</th>                 <td>MLE</td>       <th>  Df Model:          </th>  <td>    18</td> \n",
       "</tr>\n",
       "<tr>\n",
       "  <th>Date:</th>            <td>Mon, 27 Mar 2023</td> <th>  Pseudo R-squ.:     </th>  <td>0.1137</td> \n",
       "</tr>\n",
       "<tr>\n",
       "  <th>Time:</th>                <td>03:02:08</td>     <th>  Log-Likelihood:    </th> <td> -9969.7</td>\n",
       "</tr>\n",
       "<tr>\n",
       "  <th>converged:</th>             <td>False</td>      <th>  LL-Null:           </th> <td> -11249.</td>\n",
       "</tr>\n",
       "<tr>\n",
       "  <th>Covariance Type:</th>     <td>nonrobust</td>    <th>  LLR p-value:       </th>  <td> 0.000</td> \n",
       "</tr>\n",
       "</table>\n",
       "<table class=\"simpletable\">\n",
       "<tr>\n",
       "         <td></td>            <th>coef</th>     <th>std err</th>      <th>z</th>      <th>P>|z|</th>  <th>[0.025</th>    <th>0.975]</th>  \n",
       "</tr>\n",
       "<tr>\n",
       "  <th>cc_num</th>          <td> 4164.3333</td> <td>      nan</td> <td>      nan</td> <td>   nan</td> <td>      nan</td> <td>      nan</td>\n",
       "</tr>\n",
       "<tr>\n",
       "  <th>merchant</th>        <td>  129.8898</td> <td>  120.190</td> <td>    1.081</td> <td> 0.280</td> <td> -105.678</td> <td>  365.458</td>\n",
       "</tr>\n",
       "<tr>\n",
       "  <th>category</th>        <td>    6.7920</td> <td>    2.613</td> <td>    2.599</td> <td> 0.009</td> <td>    1.670</td> <td>   11.914</td>\n",
       "</tr>\n",
       "<tr>\n",
       "  <th>amt</th>             <td>   45.5628</td> <td>    1.146</td> <td>   39.772</td> <td> 0.000</td> <td>   43.317</td> <td>   47.808</td>\n",
       "</tr>\n",
       "<tr>\n",
       "  <th>gender</th>          <td>    2.5963</td> <td>    0.520</td> <td>    4.993</td> <td> 0.000</td> <td>    1.577</td> <td>    3.615</td>\n",
       "</tr>\n",
       "<tr>\n",
       "  <th>street</th>          <td> 4164.3333</td> <td>      nan</td> <td>      nan</td> <td>   nan</td> <td>      nan</td> <td>      nan</td>\n",
       "</tr>\n",
       "<tr>\n",
       "  <th>city</th>            <td>  169.2691</td> <td>   48.107</td> <td>    3.519</td> <td> 0.000</td> <td>   74.981</td> <td>  263.557</td>\n",
       "</tr>\n",
       "<tr>\n",
       "  <th>state</th>           <td>   -1.0034</td> <td>    1.369</td> <td>   -0.733</td> <td> 0.463</td> <td>   -3.686</td> <td>    1.679</td>\n",
       "</tr>\n",
       "<tr>\n",
       "  <th>zip</th>             <td>-9820.6375</td> <td> 2907.685</td> <td>   -3.377</td> <td> 0.001</td> <td>-1.55e+04</td> <td>-4121.681</td>\n",
       "</tr>\n",
       "<tr>\n",
       "  <th>lat</th>             <td>    0.3981</td> <td>    2.003</td> <td>    0.199</td> <td> 0.842</td> <td>   -3.527</td> <td>    4.324</td>\n",
       "</tr>\n",
       "<tr>\n",
       "  <th>long</th>            <td>    7.9556</td> <td>    3.045</td> <td>    2.613</td> <td> 0.009</td> <td>    1.988</td> <td>   13.923</td>\n",
       "</tr>\n",
       "<tr>\n",
       "  <th>city_pop</th>        <td>   -1.4382</td> <td>    0.367</td> <td>   -3.916</td> <td> 0.000</td> <td>   -2.158</td> <td>   -0.718</td>\n",
       "</tr>\n",
       "<tr>\n",
       "  <th>job</th>             <td>   36.5230</td> <td>   16.484</td> <td>    2.216</td> <td> 0.027</td> <td>    4.216</td> <td>   68.830</td>\n",
       "</tr>\n",
       "<tr>\n",
       "  <th>merch_lat</th>       <td>    0.3553</td> <td>    2.079</td> <td>    0.171</td> <td> 0.864</td> <td>   -3.720</td> <td>    4.431</td>\n",
       "</tr>\n",
       "<tr>\n",
       "  <th>merch_long</th>      <td>   -8.2074</td> <td>    2.807</td> <td>   -2.924</td> <td> 0.003</td> <td>  -13.709</td> <td>   -2.706</td>\n",
       "</tr>\n",
       "<tr>\n",
       "  <th>Age_Cust</th>        <td>   -0.3495</td> <td>    0.119</td> <td>   -2.948</td> <td> 0.003</td> <td>   -0.582</td> <td>   -0.117</td>\n",
       "</tr>\n",
       "<tr>\n",
       "  <th>trans_year</th>      <td>   -4.4650</td> <td>    0.062</td> <td>  -71.852</td> <td> 0.000</td> <td>   -4.587</td> <td>   -4.343</td>\n",
       "</tr>\n",
       "<tr>\n",
       "  <th>trans_month</th>     <td>   -6.2897</td> <td>    0.507</td> <td>  -12.394</td> <td> 0.000</td> <td>   -7.284</td> <td>   -5.295</td>\n",
       "</tr>\n",
       "<tr>\n",
       "  <th>trans_day</th>       <td>  -39.2696</td> <td>    5.464</td> <td>   -7.188</td> <td> 0.000</td> <td>  -49.978</td> <td>  -28.561</td>\n",
       "</tr>\n",
       "<tr>\n",
       "  <th>trans_time_24hr</th> <td>    8.8981</td> <td>    2.789</td> <td>    3.190</td> <td> 0.001</td> <td>    3.432</td> <td>   14.365</td>\n",
       "</tr>\n",
       "</table>"
      ],
      "text/plain": [
       "<class 'statsmodels.iolib.summary.Summary'>\n",
       "\"\"\"\n",
       "                           Logit Regression Results                           \n",
       "==============================================================================\n",
       "Dep. Variable:               is_fraud   No. Observations:               444575\n",
       "Model:                          Logit   Df Residuals:                   444556\n",
       "Method:                           MLE   Df Model:                           18\n",
       "Date:                Mon, 27 Mar 2023   Pseudo R-squ.:                  0.1137\n",
       "Time:                        03:02:08   Log-Likelihood:                -9969.7\n",
       "converged:                      False   LL-Null:                       -11249.\n",
       "Covariance Type:            nonrobust   LLR p-value:                     0.000\n",
       "===================================================================================\n",
       "                      coef    std err          z      P>|z|      [0.025      0.975]\n",
       "-----------------------------------------------------------------------------------\n",
       "cc_num           4164.3333        nan        nan        nan         nan         nan\n",
       "merchant          129.8898    120.190      1.081      0.280    -105.678     365.458\n",
       "category            6.7920      2.613      2.599      0.009       1.670      11.914\n",
       "amt                45.5628      1.146     39.772      0.000      43.317      47.808\n",
       "gender              2.5963      0.520      4.993      0.000       1.577       3.615\n",
       "street           4164.3333        nan        nan        nan         nan         nan\n",
       "city              169.2691     48.107      3.519      0.000      74.981     263.557\n",
       "state              -1.0034      1.369     -0.733      0.463      -3.686       1.679\n",
       "zip             -9820.6375   2907.685     -3.377      0.001   -1.55e+04   -4121.681\n",
       "lat                 0.3981      2.003      0.199      0.842      -3.527       4.324\n",
       "long                7.9556      3.045      2.613      0.009       1.988      13.923\n",
       "city_pop           -1.4382      0.367     -3.916      0.000      -2.158      -0.718\n",
       "job                36.5230     16.484      2.216      0.027       4.216      68.830\n",
       "merch_lat           0.3553      2.079      0.171      0.864      -3.720       4.431\n",
       "merch_long         -8.2074      2.807     -2.924      0.003     -13.709      -2.706\n",
       "Age_Cust           -0.3495      0.119     -2.948      0.003      -0.582      -0.117\n",
       "trans_year         -4.4650      0.062    -71.852      0.000      -4.587      -4.343\n",
       "trans_month        -6.2897      0.507    -12.394      0.000      -7.284      -5.295\n",
       "trans_day         -39.2696      5.464     -7.188      0.000     -49.978     -28.561\n",
       "trans_time_24hr     8.8981      2.789      3.190      0.001       3.432      14.365\n",
       "===================================================================================\n",
       "\"\"\""
      ]
     },
     "execution_count": 122,
     "metadata": {},
     "output_type": "execute_result"
    }
   ],
   "source": [
    "base_model.summary()"
   ]
  },
  {
   "cell_type": "code",
   "execution_count": 106,
   "id": "aedf1527",
   "metadata": {},
   "outputs": [],
   "source": [
    "# base_model.predict(X_test)"
   ]
  },
  {
   "cell_type": "code",
   "execution_count": 123,
   "id": "1b287543",
   "metadata": {},
   "outputs": [],
   "source": [
    "y_pred_prob=base_model.predict(X_test)"
   ]
  },
  {
   "cell_type": "code",
   "execution_count": 124,
   "id": "2a258219",
   "metadata": {},
   "outputs": [
    {
     "data": {
      "text/plain": [
       "410685    0.000957\n",
       "228260    0.005110\n",
       "357513    0.003325\n",
       "507633    0.001437\n",
       "105822    0.001524\n",
       "            ...   \n",
       "295334    0.001708\n",
       "268118    0.005236\n",
       "3172      0.016655\n",
       "505316    0.001154\n",
       "341685    0.005367\n",
       "Length: 111144, dtype: float64"
      ]
     },
     "execution_count": 124,
     "metadata": {},
     "output_type": "execute_result"
    }
   ],
   "source": [
    "y_pred_prob"
   ]
  },
  {
   "cell_type": "code",
   "execution_count": 109,
   "id": "ff525b16",
   "metadata": {},
   "outputs": [],
   "source": [
    "# Calculating y_pred by assigning values based on threshhold value.\n",
    "\n",
    "y_pred=np.where(y_pred_prob>0.5,1,0)"
   ]
  },
  {
   "cell_type": "markdown",
   "id": "5faea188",
   "metadata": {},
   "source": [
    "### Importing different metrics"
   ]
  },
  {
   "cell_type": "code",
   "execution_count": 110,
   "id": "56416f9d",
   "metadata": {},
   "outputs": [],
   "source": [
    "from sklearn.metrics import confusion_matrix,accuracy_score, recall_score, precision_score, classification_report, f1_score, cohen_kappa_score"
   ]
  },
  {
   "cell_type": "code",
   "execution_count": 111,
   "id": "030b7bf3",
   "metadata": {},
   "outputs": [],
   "source": [
    "def scores(actual, predicted): \n",
    "    print('Confusion Matrix:\\n', confusion_matrix(actual,predicted))\n",
    "    print('Accuracy: ', accuracy_score(actual,predicted))\n",
    "    print('Recall: ', recall_score(actual,predicted))\n",
    "    print('Precision: ', precision_score(actual,predicted))\n",
    "    print('F1 score: ', f1_score(actual,predicted))\n",
    "    print('Cohen Kappa Score:',cohen_kappa_score(actual,predicted))\n",
    "    print('Classification Summary:\\n ', classification_report(actual,predicted))"
   ]
  },
  {
   "cell_type": "code",
   "execution_count": 112,
   "id": "df1244c4",
   "metadata": {},
   "outputs": [
    {
     "name": "stdout",
     "output_type": "stream",
     "text": [
      "Confusion Matrix:\n",
      " [[110681     34]\n",
      " [   429      0]]\n",
      "Accuracy:  0.9958342330670121\n",
      "Recall:  0.0\n",
      "Precision:  0.0\n",
      "F1 score:  0.0\n",
      "Cohen Kappa Score: -0.0005672120628810173\n",
      "Classification Summary:\n",
      "                precision    recall  f1-score   support\n",
      "\n",
      "           0       1.00      1.00      1.00    110715\n",
      "           1       0.00      0.00      0.00       429\n",
      "\n",
      "    accuracy                           1.00    111144\n",
      "   macro avg       0.50      0.50      0.50    111144\n",
      "weighted avg       0.99      1.00      0.99    111144\n",
      "\n"
     ]
    }
   ],
   "source": [
    "scores(y_test,y_pred)"
   ]
  },
  {
   "cell_type": "markdown",
   "id": "3a60ea02",
   "metadata": {},
   "source": [
    "# ROC Curve"
   ]
  },
  {
   "cell_type": "code",
   "execution_count": 113,
   "id": "0786921b",
   "metadata": {},
   "outputs": [],
   "source": [
    "from sklearn.metrics import roc_auc_score, roc_curve"
   ]
  },
  {
   "cell_type": "code",
   "execution_count": 114,
   "id": "ed53bb7e",
   "metadata": {},
   "outputs": [],
   "source": [
    "def roc_new(actual,pred_prob):\n",
    "    fpr,tpr,thres=roc_curve(actual,pred_prob)\n",
    "    plt.plot(fpr,tpr, color='r')\n",
    "    plt.plot([0,1],[0,1],ls='--', color='b')\n",
    "    plt.xlabel(f'FPR, AUC: {round(roc_auc_score(actual,pred_prob),2)}')\n",
    "    plt.ylabel('TPR')\n",
    "    plt.show()"
   ]
  },
  {
   "cell_type": "code",
   "execution_count": 115,
   "id": "61fd8d0e",
   "metadata": {},
   "outputs": [
    {
     "data": {
      "image/png": "[encoded data removed]",
      "text/plain": [
       "<Figure size 432x288 with 1 Axes>"
      ]
     },
     "metadata": {
      "needs_background": "light"
     },
     "output_type": "display_data"
    }
   ],
   "source": [
    "roc_new(y_test,y_pred_prob)"
   ]
  },
  {
   "cell_type": "code",
   "execution_count": 116,
   "id": "54071d76",
   "metadata": {},
   "outputs": [],
   "source": [
    "# Changing the Threshhold Value"
   ]
  },
  {
   "cell_type": "code",
   "execution_count": 117,
   "id": "0407bbaf",
   "metadata": {},
   "outputs": [],
   "source": [
    "y_pred_55=np.where(y_pred_prob>0.55,1,0)"
   ]
  },
  {
   "cell_type": "code",
   "execution_count": 118,
   "id": "978e9b50",
   "metadata": {},
   "outputs": [
    {
     "name": "stdout",
     "output_type": "stream",
     "text": [
      "Confusion Matrix:\n",
      " [[110684     31]\n",
      " [   429      0]]\n",
      "Accuracy:  0.9958612250773771\n",
      "Recall:  0.0\n",
      "Precision:  0.0\n",
      "F1 score:  0.0\n",
      "Cohen Kappa Score: -0.0005205124529052974\n",
      "Classification Summary:\n",
      "                precision    recall  f1-score   support\n",
      "\n",
      "           0       1.00      1.00      1.00    110715\n",
      "           1       0.00      0.00      0.00       429\n",
      "\n",
      "    accuracy                           1.00    111144\n",
      "   macro avg       0.50      0.50      0.50    111144\n",
      "weighted avg       0.99      1.00      0.99    111144\n",
      "\n"
     ]
    }
   ],
   "source": [
    "scores(y_test,y_pred_55)"
   ]
  },
  {
   "cell_type": "code",
   "execution_count": 119,
   "id": "ab53f040",
   "metadata": {},
   "outputs": [],
   "source": [
    "# threshold=0.37"
   ]
  },
  {
   "cell_type": "code",
   "execution_count": 120,
   "id": "947a6cb6",
   "metadata": {},
   "outputs": [],
   "source": [
    "y_pred_37=np.where(y_pred_prob>0.37,1,0)"
   ]
  },
  {
   "cell_type": "code",
   "execution_count": 121,
   "id": "2c6617e5",
   "metadata": {},
   "outputs": [
    {
     "name": "stdout",
     "output_type": "stream",
     "text": [
      "Confusion Matrix:\n",
      " [[110677     38]\n",
      " [   429      0]]\n",
      "Accuracy:  0.9957982437198589\n",
      "Recall:  0.0\n",
      "Precision:  0.0\n",
      "F1 score:  0.0\n",
      "Cohen Kappa Score: -0.000628551506869357\n",
      "Classification Summary:\n",
      "                precision    recall  f1-score   support\n",
      "\n",
      "           0       1.00      1.00      1.00    110715\n",
      "           1       0.00      0.00      0.00       429\n",
      "\n",
      "    accuracy                           1.00    111144\n",
      "   macro avg       0.50      0.50      0.50    111144\n",
      "weighted avg       0.99      1.00      0.99    111144\n",
      "\n"
     ]
    }
   ],
   "source": [
    "scores(y_test,y_pred_37)"
   ]
  },
  {
   "cell_type": "markdown",
   "id": "ec2eb945",
   "metadata": {},
   "source": [
    "# Balancing the Dataset"
   ]
  },
  {
   "cell_type": "code",
   "execution_count": 412,
   "id": "58398f77",
   "metadata": {},
   "outputs": [],
   "source": [
    "from imblearn.over_sampling import SMOTE"
   ]
  },
  {
   "cell_type": "code",
   "execution_count": 413,
   "id": "90a5ea7f",
   "metadata": {},
   "outputs": [],
   "source": [
    "over_samp=SMOTE()"
   ]
  },
  {
   "cell_type": "code",
   "execution_count": 414,
   "id": "1b537833",
   "metadata": {},
   "outputs": [],
   "source": [
    "x_train_os,y_train_os=over_samp.fit_resample(x_train,y_train)"
   ]
  },
  {
   "cell_type": "code",
   "execution_count": 415,
   "id": "95f67c78",
   "metadata": {},
   "outputs": [
    {
     "data": {
      "text/plain": [
       "0    442859\n",
       "1    442859\n",
       "Name: is_fraud, dtype: int64"
      ]
     },
     "execution_count": 415,
     "metadata": {},
     "output_type": "execute_result"
    }
   ],
   "source": [
    "y_train_os.value_counts()"
   ]
  },
  {
   "cell_type": "code",
   "execution_count": 416,
   "id": "2d168df0",
   "metadata": {},
   "outputs": [
    {
     "data": {
      "text/plain": [
       "0    0.5\n",
       "1    0.5\n",
       "Name: is_fraud, dtype: float64"
      ]
     },
     "execution_count": 416,
     "metadata": {},
     "output_type": "execute_result"
    }
   ],
   "source": [
    "y_train_os.value_counts(normalize=True)"
   ]
  },
  {
   "cell_type": "markdown",
   "id": "8c5f577e",
   "metadata": {},
   "source": [
    "# Logistic Regression(sklearn)"
   ]
  },
  {
   "cell_type": "code",
   "execution_count": 417,
   "id": "b7155907",
   "metadata": {},
   "outputs": [],
   "source": [
    "from sklearn.linear_model import LogisticRegression"
   ]
  },
  {
   "cell_type": "code",
   "execution_count": 418,
   "id": "3a889153",
   "metadata": {},
   "outputs": [],
   "source": [
    "model_lr = LogisticRegression()"
   ]
  },
  {
   "cell_type": "code",
   "execution_count": 419,
   "id": "6fcf1797",
   "metadata": {},
   "outputs": [
    {
     "data": {
      "text/html": [
       "<style>#sk-container-id-1 {color: black;background-color: white;}#sk-container-id-1 pre{padding: 0;}#sk-container-id-1 div.sk-toggleable {background-color: white;}#sk-container-id-1 label.sk-toggleable__label {cursor: pointer;display: block;width: 100%;margin-bottom: 0;padding: 0.3em;box-sizing: border-box;text-align: center;}#sk-container-id-1 label.sk-toggleable__label-arrow:before {content: \"▸\";float: left;margin-right: 0.25em;color: #696969;}#sk-container-id-1 label.sk-toggleable__label-arrow:hover:before {color: black;}#sk-container-id-1 div.sk-estimator:hover label.sk-toggleable__label-arrow:before {color: black;}#sk-container-id-1 div.sk-toggleable__content {max-height: 0;max-width: 0;overflow: hidden;text-align: left;background-color: #f0f8ff;}#sk-container-id-1 div.sk-toggleable__content pre {margin: 0.2em;color: black;border-radius: 0.25em;background-color: #f0f8ff;}#sk-container-id-1 input.sk-toggleable__control:checked~div.sk-toggleable__content {max-height: 200px;max-width: 100%;overflow: auto;}#sk-container-id-1 input.sk-toggleable__control:checked~label.sk-toggleable__label-arrow:before {content: \"▾\";}#sk-container-id-1 div.sk-estimator input.sk-toggleable__control:checked~label.sk-toggleable__label {background-color: #d4ebff;}#sk-container-id-1 div.sk-label input.sk-toggleable__control:checked~label.sk-toggleable__label {background-color: #d4ebff;}#sk-container-id-1 input.sk-hidden--visually {border: 0;clip: rect(1px 1px 1px 1px);clip: rect(1px, 1px, 1px, 1px);height: 1px;margin: -1px;overflow: hidden;padding: 0;position: absolute;width: 1px;}#sk-container-id-1 div.sk-estimator {font-family: monospace;background-color: #f0f8ff;border: 1px dotted black;border-radius: 0.25em;box-sizing: border-box;margin-bottom: 0.5em;}#sk-container-id-1 div.sk-estimator:hover {background-color: #d4ebff;}#sk-container-id-1 div.sk-parallel-item::after {content: \"\";width: 100%;border-bottom: 1px solid gray;flex-grow: 1;}#sk-container-id-1 div.sk-label:hover label.sk-toggleable__label {background-color: #d4ebff;}#sk-container-id-1 div.sk-serial::before {content: \"\";position: absolute;border-left: 1px solid gray;box-sizing: border-box;top: 0;bottom: 0;left: 50%;z-index: 0;}#sk-container-id-1 div.sk-serial {display: flex;flex-direction: column;align-items: center;background-color: white;padding-right: 0.2em;padding-left: 0.2em;position: relative;}#sk-container-id-1 div.sk-item {position: relative;z-index: 1;}#sk-container-id-1 div.sk-parallel {display: flex;align-items: stretch;justify-content: center;background-color: white;position: relative;}#sk-container-id-1 div.sk-item::before, #sk-container-id-1 div.sk-parallel-item::before {content: \"\";position: absolute;border-left: 1px solid gray;box-sizing: border-box;top: 0;bottom: 0;left: 50%;z-index: -1;}#sk-container-id-1 div.sk-parallel-item {display: flex;flex-direction: column;z-index: 1;position: relative;background-color: white;}#sk-container-id-1 div.sk-parallel-item:first-child::after {align-self: flex-end;width: 50%;}#sk-container-id-1 div.sk-parallel-item:last-child::after {align-self: flex-start;width: 50%;}#sk-container-id-1 div.sk-parallel-item:only-child::after {width: 0;}#sk-container-id-1 div.sk-dashed-wrapped {border: 1px dashed gray;margin: 0 0.4em 0.5em 0.4em;box-sizing: border-box;padding-bottom: 0.4em;background-color: white;}#sk-container-id-1 div.sk-label label {font-family: monospace;font-weight: bold;display: inline-block;line-height: 1.2em;}#sk-container-id-1 div.sk-label-container {text-align: center;}#sk-container-id-1 div.sk-container {/* jupyter's `normalize.less` sets `[hidden] { display: none; }` but bootstrap.min.css set `[hidden] { display: none !important; }` so we also need the `!important` here to be able to override the default hidden behavior on the sphinx rendered scikit-learn.org. See: https://github.com/scikit-learn/scikit-learn/issues/21755 */display: inline-block !important;position: relative;}#sk-container-id-1 div.sk-text-repr-fallback {display: none;}</style><div id=\"sk-container-id-1\" class=\"sk-top-container\"><div class=\"sk-text-repr-fallback\"><pre>LogisticRegression()</pre><b>In a Jupyter environment, please rerun this cell to show the HTML representation or trust the notebook. <br />On GitHub, the HTML representation is unable to render, please try loading this page with nbviewer.org.</b></div><div class=\"sk-container\" hidden><div class=\"sk-item\"><div class=\"sk-estimator sk-toggleable\"><input class=\"sk-toggleable__control sk-hidden--visually\" id=\"sk-estimator-id-1\" type=\"checkbox\" checked><label for=\"sk-estimator-id-1\" class=\"sk-toggleable__label sk-toggleable__label-arrow\">LogisticRegression</label><div class=\"sk-toggleable__content\"><pre>LogisticRegression()</pre></div></div></div></div></div>"
      ],
      "text/plain": [
       "LogisticRegression()"
      ]
     },
     "execution_count": 419,
     "metadata": {},
     "output_type": "execute_result"
    }
   ],
   "source": [
    "model_lr.fit(x_train_os,y_train_os)"
   ]
  },
  {
   "cell_type": "code",
   "execution_count": 420,
   "id": "0656f23b",
   "metadata": {},
   "outputs": [],
   "source": [
    "y_pred_lr=model_lr.predict(x_test)"
   ]
  },
  {
   "cell_type": "code",
   "execution_count": 421,
   "id": "9a63fecb",
   "metadata": {},
   "outputs": [
    {
     "name": "stdout",
     "output_type": "stream",
     "text": [
      "Confusion Matrix:\n",
      " [[105472   5243]\n",
      " [   115    314]]\n",
      "Accuracy:  0.9517922694882315\n",
      "Recall:  0.7319347319347319\n",
      "Precision:  0.05650530861975886\n",
      "F1 score:  0.10491146007350484\n",
      "Cohen Kappa Score: 0.09845053792481595\n",
      "Classification Summary:\n",
      "                precision    recall  f1-score   support\n",
      "\n",
      "           0       1.00      0.95      0.98    110715\n",
      "           1       0.06      0.73      0.10       429\n",
      "\n",
      "    accuracy                           0.95    111144\n",
      "   macro avg       0.53      0.84      0.54    111144\n",
      "weighted avg       1.00      0.95      0.97    111144\n",
      "\n"
     ]
    }
   ],
   "source": [
    "scores(y_test,y_pred_lr)"
   ]
  },
  {
   "cell_type": "code",
   "execution_count": 422,
   "id": "940a9807",
   "metadata": {},
   "outputs": [],
   "source": [
    "# Probabilities"
   ]
  },
  {
   "cell_type": "code",
   "execution_count": 423,
   "id": "941e8fa4",
   "metadata": {},
   "outputs": [],
   "source": [
    "y_pred_lr_prob = model_lr.predict_proba(x_test)[:,1]"
   ]
  },
  {
   "cell_type": "code",
   "execution_count": 424,
   "id": "47e561ed",
   "metadata": {},
   "outputs": [
    {
     "data": {
      "text/plain": [
       "array([0.42318376, 0.23869198, 0.50633   , ..., 0.43699687, 0.17788927,\n",
       "       0.22848702])"
      ]
     },
     "execution_count": 424,
     "metadata": {},
     "output_type": "execute_result"
    }
   ],
   "source": [
    "y_pred_lr_prob"
   ]
  },
  {
   "cell_type": "code",
   "execution_count": 426,
   "id": "79b90fd3",
   "metadata": {},
   "outputs": [
    {
     "data": {
      "image/png": "[encoded data removed]",
      "text/plain": [
       "<Figure size 432x288 with 1 Axes>"
      ]
     },
     "metadata": {
      "needs_background": "light"
     },
     "output_type": "display_data"
    }
   ],
   "source": [
    "roc_new(y_test,y_pred_lr_prob)"
   ]
  },
  {
   "cell_type": "markdown",
   "id": "709ec6e9",
   "metadata": {},
   "source": [
    "# KNN Model"
   ]
  },
  {
   "cell_type": "code",
   "execution_count": 427,
   "id": "d22e198d",
   "metadata": {},
   "outputs": [],
   "source": [
    "from sklearn.neighbors import KNeighborsClassifier"
   ]
  },
  {
   "cell_type": "code",
   "execution_count": 428,
   "id": "f3b711e0",
   "metadata": {},
   "outputs": [],
   "source": [
    "model_knn=KNeighborsClassifier(n_neighbors=7)"
   ]
  },
  {
   "cell_type": "code",
   "execution_count": 429,
   "id": "bb671486",
   "metadata": {},
   "outputs": [
    {
     "data": {
      "text/html": [
       "<style>#sk-container-id-2 {color: black;background-color: white;}#sk-container-id-2 pre{padding: 0;}#sk-container-id-2 div.sk-toggleable {background-color: white;}#sk-container-id-2 label.sk-toggleable__label {cursor: pointer;display: block;width: 100%;margin-bottom: 0;padding: 0.3em;box-sizing: border-box;text-align: center;}#sk-container-id-2 label.sk-toggleable__label-arrow:before {content: \"▸\";float: left;margin-right: 0.25em;color: #696969;}#sk-container-id-2 label.sk-toggleable__label-arrow:hover:before {color: black;}#sk-container-id-2 div.sk-estimator:hover label.sk-toggleable__label-arrow:before {color: black;}#sk-container-id-2 div.sk-toggleable__content {max-height: 0;max-width: 0;overflow: hidden;text-align: left;background-color: #f0f8ff;}#sk-container-id-2 div.sk-toggleable__content pre {margin: 0.2em;color: black;border-radius: 0.25em;background-color: #f0f8ff;}#sk-container-id-2 input.sk-toggleable__control:checked~div.sk-toggleable__content {max-height: 200px;max-width: 100%;overflow: auto;}#sk-container-id-2 input.sk-toggleable__control:checked~label.sk-toggleable__label-arrow:before {content: \"▾\";}#sk-container-id-2 div.sk-estimator input.sk-toggleable__control:checked~label.sk-toggleable__label {background-color: #d4ebff;}#sk-container-id-2 div.sk-label input.sk-toggleable__control:checked~label.sk-toggleable__label {background-color: #d4ebff;}#sk-container-id-2 input.sk-hidden--visually {border: 0;clip: rect(1px 1px 1px 1px);clip: rect(1px, 1px, 1px, 1px);height: 1px;margin: -1px;overflow: hidden;padding: 0;position: absolute;width: 1px;}#sk-container-id-2 div.sk-estimator {font-family: monospace;background-color: #f0f8ff;border: 1px dotted black;border-radius: 0.25em;box-sizing: border-box;margin-bottom: 0.5em;}#sk-container-id-2 div.sk-estimator:hover {background-color: #d4ebff;}#sk-container-id-2 div.sk-parallel-item::after {content: \"\";width: 100%;border-bottom: 1px solid gray;flex-grow: 1;}#sk-container-id-2 div.sk-label:hover label.sk-toggleable__label {background-color: #d4ebff;}#sk-container-id-2 div.sk-serial::before {content: \"\";position: absolute;border-left: 1px solid gray;box-sizing: border-box;top: 0;bottom: 0;left: 50%;z-index: 0;}#sk-container-id-2 div.sk-serial {display: flex;flex-direction: column;align-items: center;background-color: white;padding-right: 0.2em;padding-left: 0.2em;position: relative;}#sk-container-id-2 div.sk-item {position: relative;z-index: 1;}#sk-container-id-2 div.sk-parallel {display: flex;align-items: stretch;justify-content: center;background-color: white;position: relative;}#sk-container-id-2 div.sk-item::before, #sk-container-id-2 div.sk-parallel-item::before {content: \"\";position: absolute;border-left: 1px solid gray;box-sizing: border-box;top: 0;bottom: 0;left: 50%;z-index: -1;}#sk-container-id-2 div.sk-parallel-item {display: flex;flex-direction: column;z-index: 1;position: relative;background-color: white;}#sk-container-id-2 div.sk-parallel-item:first-child::after {align-self: flex-end;width: 50%;}#sk-container-id-2 div.sk-parallel-item:last-child::after {align-self: flex-start;width: 50%;}#sk-container-id-2 div.sk-parallel-item:only-child::after {width: 0;}#sk-container-id-2 div.sk-dashed-wrapped {border: 1px dashed gray;margin: 0 0.4em 0.5em 0.4em;box-sizing: border-box;padding-bottom: 0.4em;background-color: white;}#sk-container-id-2 div.sk-label label {font-family: monospace;font-weight: bold;display: inline-block;line-height: 1.2em;}#sk-container-id-2 div.sk-label-container {text-align: center;}#sk-container-id-2 div.sk-container {/* jupyter's `normalize.less` sets `[hidden] { display: none; }` but bootstrap.min.css set `[hidden] { display: none !important; }` so we also need the `!important` here to be able to override the default hidden behavior on the sphinx rendered scikit-learn.org. See: https://github.com/scikit-learn/scikit-learn/issues/21755 */display: inline-block !important;position: relative;}#sk-container-id-2 div.sk-text-repr-fallback {display: none;}</style><div id=\"sk-container-id-2\" class=\"sk-top-container\"><div class=\"sk-text-repr-fallback\"><pre>KNeighborsClassifier(n_neighbors=7)</pre><b>In a Jupyter environment, please rerun this cell to show the HTML representation or trust the notebook. <br />On GitHub, the HTML representation is unable to render, please try loading this page with nbviewer.org.</b></div><div class=\"sk-container\" hidden><div class=\"sk-item\"><div class=\"sk-estimator sk-toggleable\"><input class=\"sk-toggleable__control sk-hidden--visually\" id=\"sk-estimator-id-2\" type=\"checkbox\" checked><label for=\"sk-estimator-id-2\" class=\"sk-toggleable__label sk-toggleable__label-arrow\">KNeighborsClassifier</label><div class=\"sk-toggleable__content\"><pre>KNeighborsClassifier(n_neighbors=7)</pre></div></div></div></div></div>"
      ],
      "text/plain": [
       "KNeighborsClassifier(n_neighbors=7)"
      ]
     },
     "execution_count": 429,
     "metadata": {},
     "output_type": "execute_result"
    }
   ],
   "source": [
    "model_knn.fit(x_train_os,y_train_os)"
   ]
  },
  {
   "cell_type": "code",
   "execution_count": 430,
   "id": "3998ca26",
   "metadata": {},
   "outputs": [],
   "source": [
    "y_pred_knn=model_knn.predict(x_test)"
   ]
  },
  {
   "cell_type": "code",
   "execution_count": 431,
   "id": "5f1daa04",
   "metadata": {
    "scrolled": true
   },
   "outputs": [
    {
     "name": "stdout",
     "output_type": "stream",
     "text": [
      "Confusion Matrix:\n",
      " [[109681   1034]\n",
      " [   125    304]]\n",
      "Accuracy:  0.989572086662348\n",
      "Recall:  0.7086247086247086\n",
      "Precision:  0.22720478325859492\n",
      "F1 score:  0.34408602150537637\n",
      "Cohen Kappa Score: 0.34022933953162604\n",
      "Classification Summary:\n",
      "                precision    recall  f1-score   support\n",
      "\n",
      "           0       1.00      0.99      0.99    110715\n",
      "           1       0.23      0.71      0.34       429\n",
      "\n",
      "    accuracy                           0.99    111144\n",
      "   macro avg       0.61      0.85      0.67    111144\n",
      "weighted avg       1.00      0.99      0.99    111144\n",
      "\n"
     ]
    }
   ],
   "source": [
    "scores(y_test,y_pred_knn)"
   ]
  },
  {
   "cell_type": "code",
   "execution_count": 432,
   "id": "5d9359e5",
   "metadata": {},
   "outputs": [],
   "source": [
    "y_pred_prob_knn=model_knn.predict_proba(x_test)[:,1]"
   ]
  },
  {
   "cell_type": "code",
   "execution_count": 433,
   "id": "36d26c08",
   "metadata": {},
   "outputs": [
    {
     "data": {
      "text/plain": [
       "array([0., 0., 0., ..., 0., 0., 0.])"
      ]
     },
     "execution_count": 433,
     "metadata": {},
     "output_type": "execute_result"
    }
   ],
   "source": [
    "y_pred_prob_knn"
   ]
  },
  {
   "cell_type": "code",
   "execution_count": 435,
   "id": "62fc3c2b",
   "metadata": {},
   "outputs": [
    {
     "data": {
      "image/png": "[encoded data removed]",
      "text/plain": [
       "<Figure size 432x288 with 1 Axes>"
      ]
     },
     "metadata": {
      "needs_background": "light"
     },
     "output_type": "display_data"
    }
   ],
   "source": [
    "roc_new(y_test,y_pred_prob_knn)"
   ]
  },
  {
   "cell_type": "markdown",
   "id": "ca876c87",
   "metadata": {},
   "source": [
    "# Naive Bayes Model"
   ]
  },
  {
   "cell_type": "code",
   "execution_count": 439,
   "id": "e1b7f9bb",
   "metadata": {},
   "outputs": [],
   "source": [
    "from sklearn.naive_bayes import GaussianNB, MultinomialNB"
   ]
  },
  {
   "cell_type": "code",
   "execution_count": 440,
   "id": "b3cd0be9",
   "metadata": {},
   "outputs": [],
   "source": [
    "model_nb = GaussianNB()"
   ]
  },
  {
   "cell_type": "code",
   "execution_count": 441,
   "id": "2ff774f4",
   "metadata": {},
   "outputs": [
    {
     "data": {
      "text/html": [
       "<style>#sk-container-id-3 {color: black;background-color: white;}#sk-container-id-3 pre{padding: 0;}#sk-container-id-3 div.sk-toggleable {background-color: white;}#sk-container-id-3 label.sk-toggleable__label {cursor: pointer;display: block;width: 100%;margin-bottom: 0;padding: 0.3em;box-sizing: border-box;text-align: center;}#sk-container-id-3 label.sk-toggleable__label-arrow:before {content: \"▸\";float: left;margin-right: 0.25em;color: #696969;}#sk-container-id-3 label.sk-toggleable__label-arrow:hover:before {color: black;}#sk-container-id-3 div.sk-estimator:hover label.sk-toggleable__label-arrow:before {color: black;}#sk-container-id-3 div.sk-toggleable__content {max-height: 0;max-width: 0;overflow: hidden;text-align: left;background-color: #f0f8ff;}#sk-container-id-3 div.sk-toggleable__content pre {margin: 0.2em;color: black;border-radius: 0.25em;background-color: #f0f8ff;}#sk-container-id-3 input.sk-toggleable__control:checked~div.sk-toggleable__content {max-height: 200px;max-width: 100%;overflow: auto;}#sk-container-id-3 input.sk-toggleable__control:checked~label.sk-toggleable__label-arrow:before {content: \"▾\";}#sk-container-id-3 div.sk-estimator input.sk-toggleable__control:checked~label.sk-toggleable__label {background-color: #d4ebff;}#sk-container-id-3 div.sk-label input.sk-toggleable__control:checked~label.sk-toggleable__label {background-color: #d4ebff;}#sk-container-id-3 input.sk-hidden--visually {border: 0;clip: rect(1px 1px 1px 1px);clip: rect(1px, 1px, 1px, 1px);height: 1px;margin: -1px;overflow: hidden;padding: 0;position: absolute;width: 1px;}#sk-container-id-3 div.sk-estimator {font-family: monospace;background-color: #f0f8ff;border: 1px dotted black;border-radius: 0.25em;box-sizing: border-box;margin-bottom: 0.5em;}#sk-container-id-3 div.sk-estimator:hover {background-color: #d4ebff;}#sk-container-id-3 div.sk-parallel-item::after {content: \"\";width: 100%;border-bottom: 1px solid gray;flex-grow: 1;}#sk-container-id-3 div.sk-label:hover label.sk-toggleable__label {background-color: #d4ebff;}#sk-container-id-3 div.sk-serial::before {content: \"\";position: absolute;border-left: 1px solid gray;box-sizing: border-box;top: 0;bottom: 0;left: 50%;z-index: 0;}#sk-container-id-3 div.sk-serial {display: flex;flex-direction: column;align-items: center;background-color: white;padding-right: 0.2em;padding-left: 0.2em;position: relative;}#sk-container-id-3 div.sk-item {position: relative;z-index: 1;}#sk-container-id-3 div.sk-parallel {display: flex;align-items: stretch;justify-content: center;background-color: white;position: relative;}#sk-container-id-3 div.sk-item::before, #sk-container-id-3 div.sk-parallel-item::before {content: \"\";position: absolute;border-left: 1px solid gray;box-sizing: border-box;top: 0;bottom: 0;left: 50%;z-index: -1;}#sk-container-id-3 div.sk-parallel-item {display: flex;flex-direction: column;z-index: 1;position: relative;background-color: white;}#sk-container-id-3 div.sk-parallel-item:first-child::after {align-self: flex-end;width: 50%;}#sk-container-id-3 div.sk-parallel-item:last-child::after {align-self: flex-start;width: 50%;}#sk-container-id-3 div.sk-parallel-item:only-child::after {width: 0;}#sk-container-id-3 div.sk-dashed-wrapped {border: 1px dashed gray;margin: 0 0.4em 0.5em 0.4em;box-sizing: border-box;padding-bottom: 0.4em;background-color: white;}#sk-container-id-3 div.sk-label label {font-family: monospace;font-weight: bold;display: inline-block;line-height: 1.2em;}#sk-container-id-3 div.sk-label-container {text-align: center;}#sk-container-id-3 div.sk-container {/* jupyter's `normalize.less` sets `[hidden] { display: none; }` but bootstrap.min.css set `[hidden] { display: none !important; }` so we also need the `!important` here to be able to override the default hidden behavior on the sphinx rendered scikit-learn.org. See: https://github.com/scikit-learn/scikit-learn/issues/21755 */display: inline-block !important;position: relative;}#sk-container-id-3 div.sk-text-repr-fallback {display: none;}</style><div id=\"sk-container-id-3\" class=\"sk-top-container\"><div class=\"sk-text-repr-fallback\"><pre>GaussianNB()</pre><b>In a Jupyter environment, please rerun this cell to show the HTML representation or trust the notebook. <br />On GitHub, the HTML representation is unable to render, please try loading this page with nbviewer.org.</b></div><div class=\"sk-container\" hidden><div class=\"sk-item\"><div class=\"sk-estimator sk-toggleable\"><input class=\"sk-toggleable__control sk-hidden--visually\" id=\"sk-estimator-id-3\" type=\"checkbox\" checked><label for=\"sk-estimator-id-3\" class=\"sk-toggleable__label sk-toggleable__label-arrow\">GaussianNB</label><div class=\"sk-toggleable__content\"><pre>GaussianNB()</pre></div></div></div></div></div>"
      ],
      "text/plain": [
       "GaussianNB()"
      ]
     },
     "execution_count": 441,
     "metadata": {},
     "output_type": "execute_result"
    }
   ],
   "source": [
    "model_nb.fit(x_train_os,y_train_os)"
   ]
  },
  {
   "cell_type": "code",
   "execution_count": 442,
   "id": "11a8263e",
   "metadata": {},
   "outputs": [],
   "source": [
    "y_pred_nb=model_nb.predict(x_test)"
   ]
  },
  {
   "cell_type": "code",
   "execution_count": 443,
   "id": "9c252532",
   "metadata": {},
   "outputs": [
    {
     "data": {
      "text/plain": [
       "array([0, 0, 0, ..., 1, 0, 0], dtype=int64)"
      ]
     },
     "execution_count": 443,
     "metadata": {},
     "output_type": "execute_result"
    }
   ],
   "source": [
    "y_pred_nb"
   ]
  },
  {
   "cell_type": "code",
   "execution_count": 444,
   "id": "f4b0bdef",
   "metadata": {},
   "outputs": [],
   "source": [
    "y_pred_nb_prob=model_nb.predict_proba(x_test)[:,1]"
   ]
  },
  {
   "cell_type": "code",
   "execution_count": 445,
   "id": "196bc03c",
   "metadata": {},
   "outputs": [
    {
     "data": {
      "text/plain": [
       "array([9.30422334e-03, 1.09929231e-01, 1.31757309e-04, ...,\n",
       "       7.69320219e-01, 1.22191770e-02, 4.28467949e-02])"
      ]
     },
     "execution_count": 445,
     "metadata": {},
     "output_type": "execute_result"
    }
   ],
   "source": [
    "y_pred_nb_prob"
   ]
  },
  {
   "cell_type": "code",
   "execution_count": 446,
   "id": "ab7656b2",
   "metadata": {},
   "outputs": [
    {
     "name": "stdout",
     "output_type": "stream",
     "text": [
      "Confusion Matrix:\n",
      " [[92555 18160]\n",
      " [  111   318]]\n",
      "Accuracy:  0.8356096595407759\n",
      "Recall:  0.7412587412587412\n",
      "Precision:  0.01720965472453729\n",
      "F1 score:  0.033638335008198024\n",
      "Cohen Kappa Score: 0.02629214295285054\n",
      "Classification Summary:\n",
      "                precision    recall  f1-score   support\n",
      "\n",
      "           0       1.00      0.84      0.91    110715\n",
      "           1       0.02      0.74      0.03       429\n",
      "\n",
      "    accuracy                           0.84    111144\n",
      "   macro avg       0.51      0.79      0.47    111144\n",
      "weighted avg       1.00      0.84      0.91    111144\n",
      "\n"
     ]
    }
   ],
   "source": [
    "scores(y_test,y_pred_nb)"
   ]
  },
  {
   "cell_type": "code",
   "execution_count": 447,
   "id": "36aafb48",
   "metadata": {},
   "outputs": [
    {
     "data": {
      "image/png": "[encoded data removed]",
      "text/plain": [
       "<Figure size 432x288 with 1 Axes>"
      ]
     },
     "metadata": {
      "needs_background": "light"
     },
     "output_type": "display_data"
    }
   ],
   "source": [
    "roc_new(y_test,y_pred_nb_prob)"
   ]
  },
  {
   "cell_type": "markdown",
   "id": "e66da90c",
   "metadata": {},
   "source": [
    "# Decision Tree"
   ]
  },
  {
   "cell_type": "code",
   "execution_count": 449,
   "id": "7028dc00",
   "metadata": {},
   "outputs": [],
   "source": [
    "from sklearn.tree import DecisionTreeClassifier,plot_tree"
   ]
  },
  {
   "cell_type": "code",
   "execution_count": 450,
   "id": "d8ec4e7e",
   "metadata": {},
   "outputs": [],
   "source": [
    "model_dt=DecisionTreeClassifier(max_depth=5,criterion='entropy')"
   ]
  },
  {
   "cell_type": "code",
   "execution_count": 451,
   "id": "5b996f49",
   "metadata": {},
   "outputs": [
    {
     "data": {
      "text/html": [
       "<style>#sk-container-id-4 {color: black;background-color: white;}#sk-container-id-4 pre{padding: 0;}#sk-container-id-4 div.sk-toggleable {background-color: white;}#sk-container-id-4 label.sk-toggleable__label {cursor: pointer;display: block;width: 100%;margin-bottom: 0;padding: 0.3em;box-sizing: border-box;text-align: center;}#sk-container-id-4 label.sk-toggleable__label-arrow:before {content: \"▸\";float: left;margin-right: 0.25em;color: #696969;}#sk-container-id-4 label.sk-toggleable__label-arrow:hover:before {color: black;}#sk-container-id-4 div.sk-estimator:hover label.sk-toggleable__label-arrow:before {color: black;}#sk-container-id-4 div.sk-toggleable__content {max-height: 0;max-width: 0;overflow: hidden;text-align: left;background-color: #f0f8ff;}#sk-container-id-4 div.sk-toggleable__content pre {margin: 0.2em;color: black;border-radius: 0.25em;background-color: #f0f8ff;}#sk-container-id-4 input.sk-toggleable__control:checked~div.sk-toggleable__content {max-height: 200px;max-width: 100%;overflow: auto;}#sk-container-id-4 input.sk-toggleable__control:checked~label.sk-toggleable__label-arrow:before {content: \"▾\";}#sk-container-id-4 div.sk-estimator input.sk-toggleable__control:checked~label.sk-toggleable__label {background-color: #d4ebff;}#sk-container-id-4 div.sk-label input.sk-toggleable__control:checked~label.sk-toggleable__label {background-color: #d4ebff;}#sk-container-id-4 input.sk-hidden--visually {border: 0;clip: rect(1px 1px 1px 1px);clip: rect(1px, 1px, 1px, 1px);height: 1px;margin: -1px;overflow: hidden;padding: 0;position: absolute;width: 1px;}#sk-container-id-4 div.sk-estimator {font-family: monospace;background-color: #f0f8ff;border: 1px dotted black;border-radius: 0.25em;box-sizing: border-box;margin-bottom: 0.5em;}#sk-container-id-4 div.sk-estimator:hover {background-color: #d4ebff;}#sk-container-id-4 div.sk-parallel-item::after {content: \"\";width: 100%;border-bottom: 1px solid gray;flex-grow: 1;}#sk-container-id-4 div.sk-label:hover label.sk-toggleable__label {background-color: #d4ebff;}#sk-container-id-4 div.sk-serial::before {content: \"\";position: absolute;border-left: 1px solid gray;box-sizing: border-box;top: 0;bottom: 0;left: 50%;z-index: 0;}#sk-container-id-4 div.sk-serial {display: flex;flex-direction: column;align-items: center;background-color: white;padding-right: 0.2em;padding-left: 0.2em;position: relative;}#sk-container-id-4 div.sk-item {position: relative;z-index: 1;}#sk-container-id-4 div.sk-parallel {display: flex;align-items: stretch;justify-content: center;background-color: white;position: relative;}#sk-container-id-4 div.sk-item::before, #sk-container-id-4 div.sk-parallel-item::before {content: \"\";position: absolute;border-left: 1px solid gray;box-sizing: border-box;top: 0;bottom: 0;left: 50%;z-index: -1;}#sk-container-id-4 div.sk-parallel-item {display: flex;flex-direction: column;z-index: 1;position: relative;background-color: white;}#sk-container-id-4 div.sk-parallel-item:first-child::after {align-self: flex-end;width: 50%;}#sk-container-id-4 div.sk-parallel-item:last-child::after {align-self: flex-start;width: 50%;}#sk-container-id-4 div.sk-parallel-item:only-child::after {width: 0;}#sk-container-id-4 div.sk-dashed-wrapped {border: 1px dashed gray;margin: 0 0.4em 0.5em 0.4em;box-sizing: border-box;padding-bottom: 0.4em;background-color: white;}#sk-container-id-4 div.sk-label label {font-family: monospace;font-weight: bold;display: inline-block;line-height: 1.2em;}#sk-container-id-4 div.sk-label-container {text-align: center;}#sk-container-id-4 div.sk-container {/* jupyter's `normalize.less` sets `[hidden] { display: none; }` but bootstrap.min.css set `[hidden] { display: none !important; }` so we also need the `!important` here to be able to override the default hidden behavior on the sphinx rendered scikit-learn.org. See: https://github.com/scikit-learn/scikit-learn/issues/21755 */display: inline-block !important;position: relative;}#sk-container-id-4 div.sk-text-repr-fallback {display: none;}</style><div id=\"sk-container-id-4\" class=\"sk-top-container\"><div class=\"sk-text-repr-fallback\"><pre>DecisionTreeClassifier(criterion=&#x27;entropy&#x27;, max_depth=5)</pre><b>In a Jupyter environment, please rerun this cell to show the HTML representation or trust the notebook. <br />On GitHub, the HTML representation is unable to render, please try loading this page with nbviewer.org.</b></div><div class=\"sk-container\" hidden><div class=\"sk-item\"><div class=\"sk-estimator sk-toggleable\"><input class=\"sk-toggleable__control sk-hidden--visually\" id=\"sk-estimator-id-4\" type=\"checkbox\" checked><label for=\"sk-estimator-id-4\" class=\"sk-toggleable__label sk-toggleable__label-arrow\">DecisionTreeClassifier</label><div class=\"sk-toggleable__content\"><pre>DecisionTreeClassifier(criterion=&#x27;entropy&#x27;, max_depth=5)</pre></div></div></div></div></div>"
      ],
      "text/plain": [
       "DecisionTreeClassifier(criterion='entropy', max_depth=5)"
      ]
     },
     "execution_count": 451,
     "metadata": {},
     "output_type": "execute_result"
    }
   ],
   "source": [
    "model_dt.fit(x_train_os,y_train_os)"
   ]
  },
  {
   "cell_type": "code",
   "execution_count": 452,
   "id": "3ab744fb",
   "metadata": {},
   "outputs": [],
   "source": [
    "y_pred_dt=model_dt.predict(x_test)"
   ]
  },
  {
   "cell_type": "code",
   "execution_count": 453,
   "id": "f96d7359",
   "metadata": {},
   "outputs": [
    {
     "data": {
      "image/png": "[encoded data removed]",
      "text/plain": [
       "<Figure size 4800x1600 with 1 Axes>"
      ]
     },
     "metadata": {
      "needs_background": "light"
     },
     "output_type": "display_data"
    }
   ],
   "source": [
    "plt.figure(figsize=(30,10), dpi=160)\n",
    "plot_tree(model_dt,feature_names=x_train_os.columns,class_names=['Normal','Luxury'])\n",
    "plt.show()"
   ]
  },
  {
   "cell_type": "code",
   "execution_count": 454,
   "id": "4df2b6ee",
   "metadata": {},
   "outputs": [],
   "source": [
    "y_pred_dt=model_dt.predict(x_test)"
   ]
  },
  {
   "cell_type": "code",
   "execution_count": 455,
   "id": "c1096164",
   "metadata": {},
   "outputs": [
    {
     "data": {
      "text/plain": [
       "array([0, 0, 1, ..., 0, 1, 0], dtype=int64)"
      ]
     },
     "execution_count": 455,
     "metadata": {},
     "output_type": "execute_result"
    }
   ],
   "source": [
    "y_pred_dt"
   ]
  },
  {
   "cell_type": "code",
   "execution_count": 456,
   "id": "f8683e4c",
   "metadata": {},
   "outputs": [
    {
     "name": "stdout",
     "output_type": "stream",
     "text": [
      "Confusion Matrix:\n",
      " [[104189   6526]\n",
      " [    89    340]]\n",
      "Accuracy:  0.940482617145325\n",
      "Recall:  0.7925407925407926\n",
      "Precision:  0.04951937081270026\n",
      "F1 score:  0.0932145305003427\n",
      "Cohen Kappa Score: 0.08657784390040868\n",
      "Classification Summary:\n",
      "                precision    recall  f1-score   support\n",
      "\n",
      "           0       1.00      0.94      0.97    110715\n",
      "           1       0.05      0.79      0.09       429\n",
      "\n",
      "    accuracy                           0.94    111144\n",
      "   macro avg       0.52      0.87      0.53    111144\n",
      "weighted avg       1.00      0.94      0.97    111144\n",
      "\n"
     ]
    }
   ],
   "source": [
    "scores(y_test,y_pred_dt)"
   ]
  },
  {
   "cell_type": "code",
   "execution_count": 457,
   "id": "0ff60bb7",
   "metadata": {},
   "outputs": [],
   "source": [
    "y_pred_dt_prob=model_dt.predict_proba(x_test)[:,1]"
   ]
  },
  {
   "cell_type": "code",
   "execution_count": 458,
   "id": "e2d54e71",
   "metadata": {},
   "outputs": [
    {
     "data": {
      "text/plain": [
       "array([1.04190433e-02, 4.45618614e-03, 9.83730555e-01, ...,\n",
       "       3.33544578e-05, 5.28120670e-01, 9.26382138e-02])"
      ]
     },
     "execution_count": 458,
     "metadata": {},
     "output_type": "execute_result"
    }
   ],
   "source": [
    "y_pred_dt_prob"
   ]
  },
  {
   "cell_type": "code",
   "execution_count": 459,
   "id": "5f7ec891",
   "metadata": {},
   "outputs": [],
   "source": [
    "y_preddt_30=np.where(y_pred_dt_prob>0.3,1,0)"
   ]
  },
  {
   "cell_type": "code",
   "execution_count": 460,
   "id": "a6b57f24",
   "metadata": {},
   "outputs": [
    {
     "name": "stdout",
     "output_type": "stream",
     "text": [
      "Confusion Matrix:\n",
      " [[91574 19141]\n",
      " [   38   391]]\n",
      "Accuracy:  0.8274400777369898\n",
      "Recall:  0.9114219114219114\n",
      "Precision:  0.02001843129223838\n",
      "F1 score:  0.03917639396823807\n",
      "Cohen Kappa Score: 0.03186327936996447\n",
      "Classification Summary:\n",
      "                precision    recall  f1-score   support\n",
      "\n",
      "           0       1.00      0.83      0.91    110715\n",
      "           1       0.02      0.91      0.04       429\n",
      "\n",
      "    accuracy                           0.83    111144\n",
      "   macro avg       0.51      0.87      0.47    111144\n",
      "weighted avg       1.00      0.83      0.90    111144\n",
      "\n"
     ]
    }
   ],
   "source": [
    "scores(y_test,y_preddt_30)"
   ]
  },
  {
   "cell_type": "code",
   "execution_count": 487,
   "id": "907448a3",
   "metadata": {},
   "outputs": [],
   "source": [
    "# 91574/(91574+19141)"
   ]
  },
  {
   "cell_type": "code",
   "execution_count": 480,
   "id": "c3d560b3",
   "metadata": {},
   "outputs": [],
   "source": [
    "# Recall\n",
    "r=391/(391+38)"
   ]
  },
  {
   "cell_type": "code",
   "execution_count": 481,
   "id": "188a9f65",
   "metadata": {},
   "outputs": [],
   "source": [
    "# Precision\n",
    "p=391/(391+19141)"
   ]
  },
  {
   "cell_type": "code",
   "execution_count": 483,
   "id": "bdaa5b6d",
   "metadata": {},
   "outputs": [],
   "source": [
    "# F1_Score\n",
    "f1s=(2*r*p)/(r+p)"
   ]
  },
  {
   "cell_type": "code",
   "execution_count": 484,
   "id": "8cfca0a5",
   "metadata": {},
   "outputs": [
    {
     "data": {
      "text/plain": [
       "0.03917639396823807"
      ]
     },
     "execution_count": 484,
     "metadata": {},
     "output_type": "execute_result"
    }
   ],
   "source": [
    "f1s"
   ]
  },
  {
   "cell_type": "code",
   "execution_count": 461,
   "id": "aaff666c",
   "metadata": {},
   "outputs": [
    {
     "data": {
      "image/png": "[encoded data removed]",
      "text/plain": [
       "<Figure size 432x288 with 1 Axes>"
      ]
     },
     "metadata": {
      "needs_background": "light"
     },
     "output_type": "display_data"
    }
   ],
   "source": [
    "roc_new(y_test,y_pred_dt_prob)"
   ]
  },
  {
   "cell_type": "markdown",
   "id": "f7eb35ce",
   "metadata": {},
   "source": [
    "#### YOUDEN's Index on Decision Tree"
   ]
  },
  {
   "cell_type": "code",
   "execution_count": 463,
   "id": "0422ff8d",
   "metadata": {},
   "outputs": [],
   "source": [
    "fpr,tpr,thres=roc_curve(y_test,y_pred_dt_prob)"
   ]
  },
  {
   "cell_type": "code",
   "execution_count": 464,
   "id": "660dcd0e",
   "metadata": {},
   "outputs": [],
   "source": [
    "ft_data=pd.DataFrame({'FPR':fpr,'TPR':tpr,'Thres':thres,'Youden':tpr-fpr})"
   ]
  },
  {
   "cell_type": "code",
   "execution_count": 465,
   "id": "8bd01b10",
   "metadata": {},
   "outputs": [
    {
     "data": {
      "text/html": [
       "<div>\n",
       "<style scoped>\n",
       "    .dataframe tbody tr th:only-of-type {\n",
       "        vertical-align: middle;\n",
       "    }\n",
       "\n",
       "    .dataframe tbody tr th {\n",
       "        vertical-align: top;\n",
       "    }\n",
       "\n",
       "    .dataframe thead th {\n",
       "        text-align: right;\n",
       "    }\n",
       "</style>\n",
       "<table border=\"1\" class=\"dataframe\">\n",
       "  <thead>\n",
       "    <tr style=\"text-align: right;\">\n",
       "      <th></th>\n",
       "      <th>FPR</th>\n",
       "      <th>TPR</th>\n",
       "      <th>Thres</th>\n",
       "      <th>Youden</th>\n",
       "    </tr>\n",
       "  </thead>\n",
       "  <tbody>\n",
       "    <tr>\n",
       "      <th>10</th>\n",
       "      <td>0.172885</td>\n",
       "      <td>0.911422</td>\n",
       "      <td>0.410043</td>\n",
       "      <td>0.738537</td>\n",
       "    </tr>\n",
       "    <tr>\n",
       "      <th>8</th>\n",
       "      <td>0.060958</td>\n",
       "      <td>0.794872</td>\n",
       "      <td>0.478390</td>\n",
       "      <td>0.733913</td>\n",
       "    </tr>\n",
       "    <tr>\n",
       "      <th>9</th>\n",
       "      <td>0.061256</td>\n",
       "      <td>0.794872</td>\n",
       "      <td>0.435345</td>\n",
       "      <td>0.733615</td>\n",
       "    </tr>\n",
       "    <tr>\n",
       "      <th>7</th>\n",
       "      <td>0.058944</td>\n",
       "      <td>0.792541</td>\n",
       "      <td>0.528121</td>\n",
       "      <td>0.733597</td>\n",
       "    </tr>\n",
       "    <tr>\n",
       "      <th>6</th>\n",
       "      <td>0.024811</td>\n",
       "      <td>0.729604</td>\n",
       "      <td>0.604903</td>\n",
       "      <td>0.704792</td>\n",
       "    </tr>\n",
       "    <tr>\n",
       "      <th>4</th>\n",
       "      <td>0.015590</td>\n",
       "      <td>0.713287</td>\n",
       "      <td>0.923297</td>\n",
       "      <td>0.697697</td>\n",
       "    </tr>\n",
       "    <tr>\n",
       "      <th>5</th>\n",
       "      <td>0.020042</td>\n",
       "      <td>0.713287</td>\n",
       "      <td>0.615132</td>\n",
       "      <td>0.693244</td>\n",
       "    </tr>\n",
       "    <tr>\n",
       "      <th>11</th>\n",
       "      <td>0.265267</td>\n",
       "      <td>0.946387</td>\n",
       "      <td>0.092638</td>\n",
       "      <td>0.681120</td>\n",
       "    </tr>\n",
       "    <tr>\n",
       "      <th>12</th>\n",
       "      <td>0.267091</td>\n",
       "      <td>0.946387</td>\n",
       "      <td>0.091814</td>\n",
       "      <td>0.679296</td>\n",
       "    </tr>\n",
       "    <tr>\n",
       "      <th>3</th>\n",
       "      <td>0.012121</td>\n",
       "      <td>0.689977</td>\n",
       "      <td>0.983731</td>\n",
       "      <td>0.677855</td>\n",
       "    </tr>\n",
       "    <tr>\n",
       "      <th>13</th>\n",
       "      <td>0.600867</td>\n",
       "      <td>0.974359</td>\n",
       "      <td>0.032699</td>\n",
       "      <td>0.373492</td>\n",
       "    </tr>\n",
       "    <tr>\n",
       "      <th>14</th>\n",
       "      <td>0.637276</td>\n",
       "      <td>0.986014</td>\n",
       "      <td>0.014734</td>\n",
       "      <td>0.348738</td>\n",
       "    </tr>\n",
       "    <tr>\n",
       "      <th>16</th>\n",
       "      <td>0.667579</td>\n",
       "      <td>0.993007</td>\n",
       "      <td>0.008639</td>\n",
       "      <td>0.325428</td>\n",
       "    </tr>\n",
       "    <tr>\n",
       "      <th>15</th>\n",
       "      <td>0.666721</td>\n",
       "      <td>0.986014</td>\n",
       "      <td>0.010419</td>\n",
       "      <td>0.319293</td>\n",
       "    </tr>\n",
       "    <tr>\n",
       "      <th>17</th>\n",
       "      <td>0.737777</td>\n",
       "      <td>0.993007</td>\n",
       "      <td>0.004456</td>\n",
       "      <td>0.255230</td>\n",
       "    </tr>\n",
       "    <tr>\n",
       "      <th>18</th>\n",
       "      <td>0.843553</td>\n",
       "      <td>0.997669</td>\n",
       "      <td>0.000360</td>\n",
       "      <td>0.154116</td>\n",
       "    </tr>\n",
       "    <tr>\n",
       "      <th>19</th>\n",
       "      <td>0.911033</td>\n",
       "      <td>0.997669</td>\n",
       "      <td>0.000033</td>\n",
       "      <td>0.086636</td>\n",
       "    </tr>\n",
       "    <tr>\n",
       "      <th>2</th>\n",
       "      <td>0.000000</td>\n",
       "      <td>0.027972</td>\n",
       "      <td>0.996047</td>\n",
       "      <td>0.027972</td>\n",
       "    </tr>\n",
       "    <tr>\n",
       "      <th>1</th>\n",
       "      <td>0.000000</td>\n",
       "      <td>0.020979</td>\n",
       "      <td>0.999297</td>\n",
       "      <td>0.020979</td>\n",
       "    </tr>\n",
       "    <tr>\n",
       "      <th>0</th>\n",
       "      <td>0.000000</td>\n",
       "      <td>0.000000</td>\n",
       "      <td>1.999297</td>\n",
       "      <td>0.000000</td>\n",
       "    </tr>\n",
       "    <tr>\n",
       "      <th>20</th>\n",
       "      <td>1.000000</td>\n",
       "      <td>1.000000</td>\n",
       "      <td>0.000000</td>\n",
       "      <td>0.000000</td>\n",
       "    </tr>\n",
       "  </tbody>\n",
       "</table>\n",
       "</div>"
      ],
      "text/plain": [
       "         FPR       TPR     Thres    Youden\n",
       "10  0.172885  0.911422  0.410043  0.738537\n",
       "8   0.060958  0.794872  0.478390  0.733913\n",
       "9   0.061256  0.794872  0.435345  0.733615\n",
       "7   0.058944  0.792541  0.528121  0.733597\n",
       "6   0.024811  0.729604  0.604903  0.704792\n",
       "4   0.015590  0.713287  0.923297  0.697697\n",
       "5   0.020042  0.713287  0.615132  0.693244\n",
       "11  0.265267  0.946387  0.092638  0.681120\n",
       "12  0.267091  0.946387  0.091814  0.679296\n",
       "3   0.012121  0.689977  0.983731  0.677855\n",
       "13  0.600867  0.974359  0.032699  0.373492\n",
       "14  0.637276  0.986014  0.014734  0.348738\n",
       "16  0.667579  0.993007  0.008639  0.325428\n",
       "15  0.666721  0.986014  0.010419  0.319293\n",
       "17  0.737777  0.993007  0.004456  0.255230\n",
       "18  0.843553  0.997669  0.000360  0.154116\n",
       "19  0.911033  0.997669  0.000033  0.086636\n",
       "2   0.000000  0.027972  0.996047  0.027972\n",
       "1   0.000000  0.020979  0.999297  0.020979\n",
       "0   0.000000  0.000000  1.999297  0.000000\n",
       "20  1.000000  1.000000  0.000000  0.000000"
      ]
     },
     "execution_count": 465,
     "metadata": {},
     "output_type": "execute_result"
    }
   ],
   "source": [
    "ft_data.sort_values(by='Youden', ascending=False)"
   ]
  },
  {
   "cell_type": "code",
   "execution_count": 466,
   "id": "f91ff9e4",
   "metadata": {},
   "outputs": [],
   "source": [
    "y_pred_dt_73=np.where(y_pred_dt_prob>0.73,1,0)"
   ]
  },
  {
   "cell_type": "code",
   "execution_count": 467,
   "id": "26234656",
   "metadata": {},
   "outputs": [
    {
     "name": "stdout",
     "output_type": "stream",
     "text": [
      "Confusion Matrix:\n",
      " [[108989   1726]\n",
      " [   123    306]]\n",
      "Accuracy:  0.9833639242784136\n",
      "Recall:  0.7132867132867133\n",
      "Precision:  0.15059055118110237\n",
      "F1 score:  0.24867939861844782\n",
      "Cohen Kappa Score: 0.24385974625950857\n",
      "Classification Summary:\n",
      "                precision    recall  f1-score   support\n",
      "\n",
      "           0       1.00      0.98      0.99    110715\n",
      "           1       0.15      0.71      0.25       429\n",
      "\n",
      "    accuracy                           0.98    111144\n",
      "   macro avg       0.57      0.85      0.62    111144\n",
      "weighted avg       1.00      0.98      0.99    111144\n",
      "\n"
     ]
    }
   ],
   "source": [
    "scores(y_test,y_pred_dt_73)"
   ]
  },
  {
   "cell_type": "markdown",
   "id": "ddd31ea2",
   "metadata": {},
   "source": [
    "# Ensemble Techniques"
   ]
  },
  {
   "cell_type": "code",
   "execution_count": 468,
   "id": "6b99621b",
   "metadata": {},
   "outputs": [],
   "source": [
    "from sklearn.ensemble import RandomForestClassifier"
   ]
  },
  {
   "cell_type": "code",
   "execution_count": 469,
   "id": "6707eafd",
   "metadata": {},
   "outputs": [],
   "source": [
    "model_rf=RandomForestClassifier(n_estimators=200,\n",
    "                               criterion='entropy',\n",
    "                               max_depth=3)"
   ]
  },
  {
   "cell_type": "code",
   "execution_count": 470,
   "id": "5c7b02ce",
   "metadata": {},
   "outputs": [
    {
     "data": {
      "text/html": [
       "<style>#sk-container-id-5 {color: black;background-color: white;}#sk-container-id-5 pre{padding: 0;}#sk-container-id-5 div.sk-toggleable {background-color: white;}#sk-container-id-5 label.sk-toggleable__label {cursor: pointer;display: block;width: 100%;margin-bottom: 0;padding: 0.3em;box-sizing: border-box;text-align: center;}#sk-container-id-5 label.sk-toggleable__label-arrow:before {content: \"▸\";float: left;margin-right: 0.25em;color: #696969;}#sk-container-id-5 label.sk-toggleable__label-arrow:hover:before {color: black;}#sk-container-id-5 div.sk-estimator:hover label.sk-toggleable__label-arrow:before {color: black;}#sk-container-id-5 div.sk-toggleable__content {max-height: 0;max-width: 0;overflow: hidden;text-align: left;background-color: #f0f8ff;}#sk-container-id-5 div.sk-toggleable__content pre {margin: 0.2em;color: black;border-radius: 0.25em;background-color: #f0f8ff;}#sk-container-id-5 input.sk-toggleable__control:checked~div.sk-toggleable__content {max-height: 200px;max-width: 100%;overflow: auto;}#sk-container-id-5 input.sk-toggleable__control:checked~label.sk-toggleable__label-arrow:before {content: \"▾\";}#sk-container-id-5 div.sk-estimator input.sk-toggleable__control:checked~label.sk-toggleable__label {background-color: #d4ebff;}#sk-container-id-5 div.sk-label input.sk-toggleable__control:checked~label.sk-toggleable__label {background-color: #d4ebff;}#sk-container-id-5 input.sk-hidden--visually {border: 0;clip: rect(1px 1px 1px 1px);clip: rect(1px, 1px, 1px, 1px);height: 1px;margin: -1px;overflow: hidden;padding: 0;position: absolute;width: 1px;}#sk-container-id-5 div.sk-estimator {font-family: monospace;background-color: #f0f8ff;border: 1px dotted black;border-radius: 0.25em;box-sizing: border-box;margin-bottom: 0.5em;}#sk-container-id-5 div.sk-estimator:hover {background-color: #d4ebff;}#sk-container-id-5 div.sk-parallel-item::after {content: \"\";width: 100%;border-bottom: 1px solid gray;flex-grow: 1;}#sk-container-id-5 div.sk-label:hover label.sk-toggleable__label {background-color: #d4ebff;}#sk-container-id-5 div.sk-serial::before {content: \"\";position: absolute;border-left: 1px solid gray;box-sizing: border-box;top: 0;bottom: 0;left: 50%;z-index: 0;}#sk-container-id-5 div.sk-serial {display: flex;flex-direction: column;align-items: center;background-color: white;padding-right: 0.2em;padding-left: 0.2em;position: relative;}#sk-container-id-5 div.sk-item {position: relative;z-index: 1;}#sk-container-id-5 div.sk-parallel {display: flex;align-items: stretch;justify-content: center;background-color: white;position: relative;}#sk-container-id-5 div.sk-item::before, #sk-container-id-5 div.sk-parallel-item::before {content: \"\";position: absolute;border-left: 1px solid gray;box-sizing: border-box;top: 0;bottom: 0;left: 50%;z-index: -1;}#sk-container-id-5 div.sk-parallel-item {display: flex;flex-direction: column;z-index: 1;position: relative;background-color: white;}#sk-container-id-5 div.sk-parallel-item:first-child::after {align-self: flex-end;width: 50%;}#sk-container-id-5 div.sk-parallel-item:last-child::after {align-self: flex-start;width: 50%;}#sk-container-id-5 div.sk-parallel-item:only-child::after {width: 0;}#sk-container-id-5 div.sk-dashed-wrapped {border: 1px dashed gray;margin: 0 0.4em 0.5em 0.4em;box-sizing: border-box;padding-bottom: 0.4em;background-color: white;}#sk-container-id-5 div.sk-label label {font-family: monospace;font-weight: bold;display: inline-block;line-height: 1.2em;}#sk-container-id-5 div.sk-label-container {text-align: center;}#sk-container-id-5 div.sk-container {/* jupyter's `normalize.less` sets `[hidden] { display: none; }` but bootstrap.min.css set `[hidden] { display: none !important; }` so we also need the `!important` here to be able to override the default hidden behavior on the sphinx rendered scikit-learn.org. See: https://github.com/scikit-learn/scikit-learn/issues/21755 */display: inline-block !important;position: relative;}#sk-container-id-5 div.sk-text-repr-fallback {display: none;}</style><div id=\"sk-container-id-5\" class=\"sk-top-container\"><div class=\"sk-text-repr-fallback\"><pre>RandomForestClassifier(criterion=&#x27;entropy&#x27;, max_depth=3, n_estimators=200)</pre><b>In a Jupyter environment, please rerun this cell to show the HTML representation or trust the notebook. <br />On GitHub, the HTML representation is unable to render, please try loading this page with nbviewer.org.</b></div><div class=\"sk-container\" hidden><div class=\"sk-item\"><div class=\"sk-estimator sk-toggleable\"><input class=\"sk-toggleable__control sk-hidden--visually\" id=\"sk-estimator-id-5\" type=\"checkbox\" checked><label for=\"sk-estimator-id-5\" class=\"sk-toggleable__label sk-toggleable__label-arrow\">RandomForestClassifier</label><div class=\"sk-toggleable__content\"><pre>RandomForestClassifier(criterion=&#x27;entropy&#x27;, max_depth=3, n_estimators=200)</pre></div></div></div></div></div>"
      ],
      "text/plain": [
       "RandomForestClassifier(criterion='entropy', max_depth=3, n_estimators=200)"
      ]
     },
     "execution_count": 470,
     "metadata": {},
     "output_type": "execute_result"
    }
   ],
   "source": [
    "model_rf.fit(x_train_os,y_train_os)"
   ]
  },
  {
   "cell_type": "code",
   "execution_count": 471,
   "id": "eabc9c90",
   "metadata": {},
   "outputs": [
    {
     "data": {
      "text/plain": [
       "0.9603037500899734"
      ]
     },
     "execution_count": 471,
     "metadata": {},
     "output_type": "execute_result"
    }
   ],
   "source": [
    "model_rf.score(x_test,y_test)"
   ]
  },
  {
   "cell_type": "code",
   "execution_count": 472,
   "id": "2fcf4ce9",
   "metadata": {},
   "outputs": [],
   "source": [
    "y_pred_rf=model_rf.predict(x_test)"
   ]
  },
  {
   "cell_type": "code",
   "execution_count": 473,
   "id": "e51256bd",
   "metadata": {},
   "outputs": [
    {
     "name": "stdout",
     "output_type": "stream",
     "text": [
      "Confusion Matrix:\n",
      " [[106402   4313]\n",
      " [    99    330]]\n",
      "Accuracy:  0.9603037500899734\n",
      "Recall:  0.7692307692307693\n",
      "Precision:  0.07107473616196425\n",
      "F1 score:  0.13012618296529968\n",
      "Cohen Kappa Score: 0.12393523839305043\n",
      "Classification Summary:\n",
      "                precision    recall  f1-score   support\n",
      "\n",
      "           0       1.00      0.96      0.98    110715\n",
      "           1       0.07      0.77      0.13       429\n",
      "\n",
      "    accuracy                           0.96    111144\n",
      "   macro avg       0.54      0.87      0.55    111144\n",
      "weighted avg       1.00      0.96      0.98    111144\n",
      "\n"
     ]
    }
   ],
   "source": [
    "scores(y_test,y_pred_rf)"
   ]
  },
  {
   "cell_type": "code",
   "execution_count": 474,
   "id": "785ec6bd",
   "metadata": {},
   "outputs": [],
   "source": [
    "y_pred_rf_prob=model_rf.predict_proba(x_test)[:,1]"
   ]
  },
  {
   "cell_type": "code",
   "execution_count": 476,
   "id": "22a7a9f6",
   "metadata": {},
   "outputs": [
    {
     "data": {
      "image/png": "[encoded data removed]",
      "text/plain": [
       "<Figure size 432x288 with 1 Axes>"
      ]
     },
     "metadata": {
      "needs_background": "light"
     },
     "output_type": "display_data"
    }
   ],
   "source": [
    "roc_new(y_test,y_pred_rf_prob)"
   ]
  },
  {
   "cell_type": "code",
   "execution_count": null,
   "id": "d57e99e4",
   "metadata": {},
   "outputs": [],
   "source": []
  }
 ],
 "metadata": {
  "kernelspec": {
   "display_name": "Python 3 (ipykernel)",
   "language": "python",
   "name": "python3"
  },
  "language_info": {
   "codemirror_mode": {
    "name": "ipython",
    "version": 3
   },
   "file_extension": ".py",
   "mimetype": "text/x-python",
   "name": "python",
   "nbconvert_exporter": "python",
   "pygments_lexer": "ipython3",
   "version": "3.9.13"
  }
 },
 "nbformat": 4,
 "nbformat_minor": 5
}
